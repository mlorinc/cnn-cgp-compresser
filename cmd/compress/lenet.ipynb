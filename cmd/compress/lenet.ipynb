{
 "cells": [
  {
   "cell_type": "code",
   "execution_count": 1,
   "metadata": {},
   "outputs": [
    {
     "data": {
      "text/html": [
       "<svg  width=\"550\" height=\"55\"><rect x=\"0\" y=\"0\" width=\"55\" height=\"55\" style=\"fill:#4c72b0;stroke-width:2;stroke:rgb(255,255,255)\"/><rect x=\"55\" y=\"0\" width=\"55\" height=\"55\" style=\"fill:#dd8452;stroke-width:2;stroke:rgb(255,255,255)\"/><rect x=\"110\" y=\"0\" width=\"55\" height=\"55\" style=\"fill:#55a868;stroke-width:2;stroke:rgb(255,255,255)\"/><rect x=\"165\" y=\"0\" width=\"55\" height=\"55\" style=\"fill:#c44e52;stroke-width:2;stroke:rgb(255,255,255)\"/><rect x=\"220\" y=\"0\" width=\"55\" height=\"55\" style=\"fill:#8172b3;stroke-width:2;stroke:rgb(255,255,255)\"/><rect x=\"275\" y=\"0\" width=\"55\" height=\"55\" style=\"fill:#937860;stroke-width:2;stroke:rgb(255,255,255)\"/><rect x=\"330\" y=\"0\" width=\"55\" height=\"55\" style=\"fill:#da8bc3;stroke-width:2;stroke:rgb(255,255,255)\"/><rect x=\"385\" y=\"0\" width=\"55\" height=\"55\" style=\"fill:#8c8c8c;stroke-width:2;stroke:rgb(255,255,255)\"/><rect x=\"440\" y=\"0\" width=\"55\" height=\"55\" style=\"fill:#ccb974;stroke-width:2;stroke:rgb(255,255,255)\"/><rect x=\"495\" y=\"0\" width=\"55\" height=\"55\" style=\"fill:#64b5cd;stroke-width:2;stroke:rgb(255,255,255)\"/></svg>"
      ],
      "text/plain": [
       "[(0.2980392156862745, 0.4470588235294118, 0.6901960784313725),\n",
       " (0.8666666666666667, 0.5176470588235295, 0.3215686274509804),\n",
       " (0.3333333333333333, 0.6588235294117647, 0.40784313725490196),\n",
       " (0.7686274509803922, 0.3058823529411765, 0.3215686274509804),\n",
       " (0.5058823529411764, 0.4470588235294118, 0.7019607843137254),\n",
       " (0.5764705882352941, 0.47058823529411764, 0.3764705882352941),\n",
       " (0.8549019607843137, 0.5450980392156862, 0.7647058823529411),\n",
       " (0.5490196078431373, 0.5490196078431373, 0.5490196078431373),\n",
       " (0.8, 0.7254901960784313, 0.4549019607843137),\n",
       " (0.39215686274509803, 0.7098039215686275, 0.803921568627451)]"
      ]
     },
     "execution_count": 1,
     "metadata": {},
     "output_type": "execute_result"
    }
   ],
   "source": [
    "from models.adapters.base import BaseAdapter\n",
    "from models.selector import FilterSelector\n",
    "from models.quantization import conv2d_outter, conv2d_core\n",
    "from models.selector import FilterSelector, FilterSelectorCombination, FilterSelectorCombinations\n",
    "from pathlib import Path\n",
    "import seaborn as sns\n",
    "import matplotlib.pyplot as plt\n",
    "from matplotlib.ticker import MultipleLocator\n",
    "import pandas as pd\n",
    "import numpy as np\n",
    "\n",
    "# Disable LaTeX rendering\n",
    "plt.rc('text', usetex=True)\n",
    "\n",
    "data_store = Path(\"../../data_store/lenet\")\n",
    "data_store.mkdir(exist_ok=True, parents=True)\n",
    "loaded = False\n",
    "sns.set_theme(context=\"paper\", style=\"whitegrid\", rc={\"text.usetex\" : True})\n",
    "sns.set_palette(\"deep\")\n",
    "sns.color_palette(\"deep\")"
   ]
  },
  {
   "cell_type": "code",
   "execution_count": 4,
   "metadata": {},
   "outputs": [
    {
     "name": "stderr",
     "output_type": "stream",
     "text": [
      "c:\\Users\\Majo\\.conda\\envs\\masters\\Lib\\site-packages\\torch\\ao\\quantization\\observer.py:214: UserWarning: Please use quant_min and quant_max to specify the range for observers.                     reduce_range will be deprecated in a future release of PyTorch.\n",
      "  warnings.warn(\n",
      "c:\\Users\\Majo\\.conda\\envs\\masters\\Lib\\site-packages\\torch\\ao\\quantization\\observer.py:1207: UserWarning: must run observer before calling calculate_qparams.                                    Returning default scale and zero point \n",
      "  warnings.warn(\n",
      "c:\\Users\\Majo\\.conda\\envs\\masters\\Lib\\site-packages\\torch\\_utils.py:376: UserWarning: TypedStorage is deprecated. It will be removed in the future and UntypedStorage will be the only storage class. This should only matter to you if you are using storages directly.  To access UntypedStorage directly, use tensor.untyped_storage() instead of tensor.storage()\n",
      "  device=storage.device,\n"
     ]
    }
   ],
   "source": [
    "adapter = BaseAdapter.load_base_model(\"qat_quantized_lenet\", \"./trained_models/qat.quantized_lenet.pth\")"
   ]
  },
  {
   "cell_type": "code",
   "execution_count": 5,
   "metadata": {
    "deletable": false,
    "editable": false,
    "trusted": true
   },
   "outputs": [
    {
     "name": "stderr",
     "output_type": "stream",
     "text": [
      "c:\\Users\\Majo\\.conda\\envs\\masters\\Lib\\site-packages\\torch\\ao\\quantization\\observer.py:214: UserWarning: Please use quant_min and quant_max to specify the range for observers.                     reduce_range will be deprecated in a future release of PyTorch.\n",
      "  warnings.warn(\n",
      "c:\\Users\\Majo\\.conda\\envs\\masters\\Lib\\site-packages\\torch\\ao\\quantization\\observer.py:1207: UserWarning: must run observer before calling calculate_qparams.                                    Returning default scale and zero point \n",
      "  warnings.warn(\n"
     ]
    },
    {
     "name": "stdout",
     "output_type": "stream",
     "text": [
      "offset: 150 size: 150\n",
      "offset: 2400 size: 2400\n",
      "dataset has 10000 samples\n"
     ]
    },
    {
     "name": "stderr",
     "output_type": "stream",
     "text": [
      "Loss: 24.6031, Acc: 0.099500, Top-5: 0.494000: 100%|██████████| 250/250 [00:14<00:00, 17.64batch/s]\n"
     ]
    },
    {
     "name": "stdout",
     "output_type": "stream",
     "text": [
      "Loss: 24.6031, Acc: 0.099500, Top-5: 0.494000\n",
      "offset: 150 size: 150\n",
      "offset: 2400 size: 2400\n",
      "dataset has 10000 samples\n"
     ]
    },
    {
     "name": "stderr",
     "output_type": "stream",
     "text": [
      "Loss: 23.3512, Acc: 0.087900, Top-5: 0.505800: 100%|██████████| 250/250 [00:13<00:00, 18.02batch/s]\n"
     ]
    },
    {
     "name": "stdout",
     "output_type": "stream",
     "text": [
      "Loss: 23.3512, Acc: 0.087900, Top-5: 0.505800\n",
      "offset: 150 size: 150\n",
      "offset: 2400 size: 2400\n",
      "dataset has 10000 samples\n"
     ]
    },
    {
     "name": "stderr",
     "output_type": "stream",
     "text": [
      "Loss: 22.9721, Acc: 0.065400, Top-5: 0.509100: 100%|██████████| 250/250 [00:14<00:00, 17.74batch/s]\n"
     ]
    },
    {
     "name": "stdout",
     "output_type": "stream",
     "text": [
      "Loss: 22.9721, Acc: 0.065400, Top-5: 0.509100\n",
      "offset: 150 size: 150\n",
      "offset: 2400 size: 2400\n",
      "dataset has 10000 samples\n"
     ]
    },
    {
     "name": "stderr",
     "output_type": "stream",
     "text": [
      "Loss: 24.7177, Acc: 0.032500, Top-5: 0.452800: 100%|██████████| 250/250 [00:15<00:00, 16.40batch/s]\n"
     ]
    },
    {
     "name": "stdout",
     "output_type": "stream",
     "text": [
      "Loss: 24.7177, Acc: 0.032500, Top-5: 0.452800\n",
      "offset: 150 size: 150\n",
      "offset: 2400 size: 2400\n",
      "dataset has 10000 samples\n"
     ]
    },
    {
     "name": "stderr",
     "output_type": "stream",
     "text": [
      "Loss: 25.0267, Acc: 0.067700, Top-5: 0.444900: 100%|██████████| 250/250 [00:25<00:00,  9.97batch/s]\n"
     ]
    },
    {
     "name": "stdout",
     "output_type": "stream",
     "text": [
      "Loss: 25.0267, Acc: 0.067700, Top-5: 0.444900\n",
      "offset: 150 size: 150\n",
      "offset: 2400 size: 2400\n",
      "dataset has 10000 samples\n"
     ]
    },
    {
     "name": "stderr",
     "output_type": "stream",
     "text": [
      "Loss: 22.8498, Acc: 0.081900, Top-5: 0.468400: 100%|██████████| 250/250 [00:19<00:00, 12.91batch/s]\n"
     ]
    },
    {
     "name": "stdout",
     "output_type": "stream",
     "text": [
      "Loss: 22.8498, Acc: 0.081900, Top-5: 0.468400\n",
      "offset: 150 size: 150\n",
      "offset: 2400 size: 2400\n",
      "dataset has 10000 samples\n"
     ]
    },
    {
     "name": "stderr",
     "output_type": "stream",
     "text": [
      "Loss: 21.7858, Acc: 0.073300, Top-5: 0.469200: 100%|██████████| 250/250 [00:18<00:00, 13.88batch/s]\n"
     ]
    },
    {
     "name": "stdout",
     "output_type": "stream",
     "text": [
      "Loss: 21.7858, Acc: 0.073300, Top-5: 0.469200\n",
      "offset: 150 size: 150\n",
      "offset: 2400 size: 2400\n",
      "dataset has 10000 samples\n"
     ]
    },
    {
     "name": "stderr",
     "output_type": "stream",
     "text": [
      "Loss: 22.0782, Acc: 0.080600, Top-5: 0.496200: 100%|██████████| 250/250 [00:19<00:00, 12.96batch/s]\n"
     ]
    },
    {
     "name": "stdout",
     "output_type": "stream",
     "text": [
      "Loss: 22.0782, Acc: 0.080600, Top-5: 0.496200\n",
      "offset: 150 size: 150\n",
      "offset: 2400 size: 2400\n",
      "dataset has 10000 samples\n"
     ]
    },
    {
     "name": "stderr",
     "output_type": "stream",
     "text": [
      "Loss: 18.7983, Acc: 0.176600, Top-5: 0.584900: 100%|██████████| 250/250 [00:21<00:00, 11.76batch/s]\n"
     ]
    },
    {
     "name": "stdout",
     "output_type": "stream",
     "text": [
      "Loss: 18.7983, Acc: 0.176600, Top-5: 0.584900\n",
      "offset: 150 size: 150\n",
      "offset: 2400 size: 2400\n",
      "dataset has 10000 samples\n"
     ]
    },
    {
     "name": "stderr",
     "output_type": "stream",
     "text": [
      "Loss: 15.3634, Acc: 0.204800, Top-5: 0.627700: 100%|██████████| 250/250 [00:19<00:00, 12.63batch/s]\n"
     ]
    },
    {
     "name": "stdout",
     "output_type": "stream",
     "text": [
      "Loss: 15.3634, Acc: 0.204800, Top-5: 0.627700\n",
      "offset: 150 size: 150\n",
      "offset: 2400 size: 2400\n",
      "dataset has 10000 samples\n"
     ]
    },
    {
     "name": "stderr",
     "output_type": "stream",
     "text": [
      "Loss: 13.5493, Acc: 0.188900, Top-5: 0.635000: 100%|██████████| 250/250 [00:17<00:00, 14.37batch/s]\n"
     ]
    },
    {
     "name": "stdout",
     "output_type": "stream",
     "text": [
      "Loss: 13.5493, Acc: 0.188900, Top-5: 0.635000\n",
      "offset: 150 size: 150\n",
      "offset: 2400 size: 2400\n",
      "dataset has 10000 samples\n"
     ]
    },
    {
     "name": "stderr",
     "output_type": "stream",
     "text": [
      "Loss: 10.7885, Acc: 0.187000, Top-5: 0.627000: 100%|██████████| 250/250 [00:18<00:00, 13.83batch/s]\n"
     ]
    },
    {
     "name": "stdout",
     "output_type": "stream",
     "text": [
      "Loss: 10.7885, Acc: 0.187000, Top-5: 0.627000\n",
      "offset: 150 size: 150\n",
      "offset: 2400 size: 2400\n",
      "dataset has 10000 samples\n"
     ]
    },
    {
     "name": "stderr",
     "output_type": "stream",
     "text": [
      "Loss: 11.2294, Acc: 0.214200, Top-5: 0.612500: 100%|██████████| 250/250 [00:18<00:00, 13.18batch/s]\n"
     ]
    },
    {
     "name": "stdout",
     "output_type": "stream",
     "text": [
      "Loss: 11.2294, Acc: 0.214200, Top-5: 0.612500\n",
      "offset: 150 size: 150\n",
      "offset: 2400 size: 2400\n",
      "dataset has 10000 samples\n"
     ]
    },
    {
     "name": "stderr",
     "output_type": "stream",
     "text": [
      "Loss: 7.6865, Acc: 0.261500, Top-5: 0.625000: 100%|██████████| 250/250 [00:17<00:00, 14.42batch/s]\n"
     ]
    },
    {
     "name": "stdout",
     "output_type": "stream",
     "text": [
      "Loss: 7.6865, Acc: 0.261500, Top-5: 0.625000\n",
      "offset: 150 size: 150\n",
      "offset: 2400 size: 2400\n",
      "dataset has 10000 samples\n"
     ]
    },
    {
     "name": "stderr",
     "output_type": "stream",
     "text": [
      "Loss: 6.3364, Acc: 0.251900, Top-5: 0.628300: 100%|██████████| 250/250 [00:17<00:00, 14.22batch/s]\n"
     ]
    },
    {
     "name": "stdout",
     "output_type": "stream",
     "text": [
      "Loss: 6.3364, Acc: 0.251900, Top-5: 0.628300\n",
      "offset: 150 size: 150\n",
      "offset: 2400 size: 2400\n",
      "dataset has 10000 samples\n"
     ]
    },
    {
     "name": "stderr",
     "output_type": "stream",
     "text": [
      "Loss: 5.9215, Acc: 0.231400, Top-5: 0.604700: 100%|██████████| 250/250 [00:17<00:00, 14.33batch/s]\n"
     ]
    },
    {
     "name": "stdout",
     "output_type": "stream",
     "text": [
      "Loss: 5.9215, Acc: 0.231400, Top-5: 0.604700\n",
      "offset: 150 size: 150\n",
      "offset: 2400 size: 2400\n",
      "dataset has 10000 samples\n"
     ]
    },
    {
     "name": "stderr",
     "output_type": "stream",
     "text": [
      "Loss: 7.4123, Acc: 0.203700, Top-5: 0.593000: 100%|██████████| 250/250 [00:17<00:00, 14.03batch/s]\n"
     ]
    },
    {
     "name": "stdout",
     "output_type": "stream",
     "text": [
      "Loss: 7.4123, Acc: 0.203700, Top-5: 0.593000\n",
      "offset: 150 size: 150\n",
      "offset: 2400 size: 2400\n",
      "dataset has 10000 samples\n"
     ]
    },
    {
     "name": "stderr",
     "output_type": "stream",
     "text": [
      "Loss: 8.1056, Acc: 0.217400, Top-5: 0.614900: 100%|██████████| 250/250 [00:17<00:00, 14.48batch/s]\n"
     ]
    },
    {
     "name": "stdout",
     "output_type": "stream",
     "text": [
      "Loss: 8.1056, Acc: 0.217400, Top-5: 0.614900\n",
      "offset: 150 size: 150\n",
      "offset: 2400 size: 2400\n",
      "dataset has 10000 samples\n"
     ]
    },
    {
     "name": "stderr",
     "output_type": "stream",
     "text": [
      "Loss: 5.6008, Acc: 0.187700, Top-5: 0.621100: 100%|██████████| 250/250 [00:17<00:00, 14.41batch/s]\n"
     ]
    },
    {
     "name": "stdout",
     "output_type": "stream",
     "text": [
      "Loss: 5.6008, Acc: 0.187700, Top-5: 0.621100\n",
      "offset: 150 size: 150\n",
      "offset: 2400 size: 2400\n",
      "dataset has 10000 samples\n"
     ]
    },
    {
     "name": "stderr",
     "output_type": "stream",
     "text": [
      "Loss: 3.2043, Acc: 0.208700, Top-5: 0.626000: 100%|██████████| 250/250 [00:18<00:00, 13.69batch/s]\n"
     ]
    },
    {
     "name": "stdout",
     "output_type": "stream",
     "text": [
      "Loss: 3.2043, Acc: 0.208700, Top-5: 0.626000\n",
      "offset: 150 size: 150\n",
      "offset: 2400 size: 2400\n",
      "dataset has 10000 samples\n"
     ]
    },
    {
     "name": "stderr",
     "output_type": "stream",
     "text": [
      "Loss: 3.2697, Acc: 0.196000, Top-5: 0.614800: 100%|██████████| 250/250 [00:17<00:00, 14.14batch/s]\n"
     ]
    },
    {
     "name": "stdout",
     "output_type": "stream",
     "text": [
      "Loss: 3.2697, Acc: 0.196000, Top-5: 0.614800\n",
      "offset: 150 size: 150\n",
      "offset: 2400 size: 2400\n",
      "dataset has 10000 samples\n"
     ]
    },
    {
     "name": "stderr",
     "output_type": "stream",
     "text": [
      "Loss: 3.2919, Acc: 0.161300, Top-5: 0.575800: 100%|██████████| 250/250 [00:17<00:00, 14.52batch/s]\n"
     ]
    },
    {
     "name": "stdout",
     "output_type": "stream",
     "text": [
      "Loss: 3.2919, Acc: 0.161300, Top-5: 0.575800\n",
      "offset: 150 size: 150\n",
      "offset: 2400 size: 2400\n",
      "dataset has 10000 samples\n"
     ]
    },
    {
     "name": "stderr",
     "output_type": "stream",
     "text": [
      "Loss: 4.1657, Acc: 0.168400, Top-5: 0.534300: 100%|██████████| 250/250 [00:16<00:00, 15.07batch/s]\n"
     ]
    },
    {
     "name": "stdout",
     "output_type": "stream",
     "text": [
      "Loss: 4.1657, Acc: 0.168400, Top-5: 0.534300\n",
      "offset: 150 size: 150\n",
      "offset: 2400 size: 2400\n",
      "dataset has 10000 samples\n"
     ]
    },
    {
     "name": "stderr",
     "output_type": "stream",
     "text": [
      "Loss: 3.2912, Acc: 0.167000, Top-5: 0.533800: 100%|██████████| 250/250 [00:16<00:00, 14.97batch/s]\n"
     ]
    },
    {
     "name": "stdout",
     "output_type": "stream",
     "text": [
      "Loss: 3.2912, Acc: 0.167000, Top-5: 0.533800\n",
      "offset: 150 size: 150\n",
      "offset: 2400 size: 2400\n",
      "dataset has 10000 samples\n"
     ]
    },
    {
     "name": "stderr",
     "output_type": "stream",
     "text": [
      "Loss: 2.7154, Acc: 0.149400, Top-5: 0.543900: 100%|██████████| 250/250 [00:19<00:00, 12.95batch/s]\n"
     ]
    },
    {
     "name": "stdout",
     "output_type": "stream",
     "text": [
      "Loss: 2.7154, Acc: 0.149400, Top-5: 0.543900\n",
      "offset: 150 size: 150\n",
      "offset: 2400 size: 2400\n",
      "dataset has 10000 samples\n"
     ]
    },
    {
     "name": "stderr",
     "output_type": "stream",
     "text": [
      "Loss: 2.6763, Acc: 0.141400, Top-5: 0.545800: 100%|██████████| 250/250 [00:18<00:00, 13.42batch/s]\n"
     ]
    },
    {
     "name": "stdout",
     "output_type": "stream",
     "text": [
      "Loss: 2.6763, Acc: 0.141400, Top-5: 0.545800\n",
      "offset: 150 size: 150\n",
      "offset: 2400 size: 2400\n",
      "dataset has 10000 samples\n"
     ]
    },
    {
     "name": "stderr",
     "output_type": "stream",
     "text": [
      "Loss: 2.4343, Acc: 0.136600, Top-5: 0.588900: 100%|██████████| 250/250 [00:17<00:00, 13.90batch/s]\n"
     ]
    },
    {
     "name": "stdout",
     "output_type": "stream",
     "text": [
      "Loss: 2.4343, Acc: 0.136600, Top-5: 0.588900\n",
      "offset: 150 size: 150\n",
      "offset: 2400 size: 2400\n",
      "dataset has 10000 samples\n"
     ]
    },
    {
     "name": "stderr",
     "output_type": "stream",
     "text": [
      "Loss: 2.4256, Acc: 0.164000, Top-5: 0.585900: 100%|██████████| 250/250 [00:17<00:00, 14.08batch/s]\n"
     ]
    },
    {
     "name": "stdout",
     "output_type": "stream",
     "text": [
      "Loss: 2.4256, Acc: 0.164000, Top-5: 0.585900\n",
      "offset: 150 size: 150\n",
      "offset: 2400 size: 2400\n",
      "dataset has 10000 samples\n"
     ]
    },
    {
     "name": "stderr",
     "output_type": "stream",
     "text": [
      "Loss: 2.3356, Acc: 0.134400, Top-5: 0.585500: 100%|██████████| 250/250 [00:17<00:00, 14.17batch/s]\n"
     ]
    },
    {
     "name": "stdout",
     "output_type": "stream",
     "text": [
      "Loss: 2.3356, Acc: 0.134400, Top-5: 0.585500\n",
      "offset: 150 size: 150\n",
      "offset: 2400 size: 2400\n",
      "dataset has 10000 samples\n"
     ]
    },
    {
     "name": "stderr",
     "output_type": "stream",
     "text": [
      "Loss: 2.3922, Acc: 0.103300, Top-5: 0.529600: 100%|██████████| 250/250 [00:17<00:00, 14.20batch/s]\n"
     ]
    },
    {
     "name": "stdout",
     "output_type": "stream",
     "text": [
      "Loss: 2.3922, Acc: 0.103300, Top-5: 0.529600\n",
      "offset: 150 size: 150\n",
      "offset: 2400 size: 2400\n",
      "dataset has 10000 samples\n"
     ]
    },
    {
     "name": "stderr",
     "output_type": "stream",
     "text": [
      "Loss: 2.3138, Acc: 0.110600, Top-5: 0.540800: 100%|██████████| 250/250 [00:17<00:00, 14.19batch/s]\n"
     ]
    },
    {
     "name": "stdout",
     "output_type": "stream",
     "text": [
      "Loss: 2.3138, Acc: 0.110600, Top-5: 0.540800\n",
      "offset: 150 size: 150\n",
      "offset: 2400 size: 2400\n",
      "dataset has 10000 samples\n"
     ]
    },
    {
     "name": "stderr",
     "output_type": "stream",
     "text": [
      "Loss: 2.3147, Acc: 0.123500, Top-5: 0.542800: 100%|██████████| 250/250 [00:20<00:00, 12.26batch/s]\n"
     ]
    },
    {
     "name": "stdout",
     "output_type": "stream",
     "text": [
      "Loss: 2.3147, Acc: 0.123500, Top-5: 0.542800\n",
      "offset: 150 size: 150\n",
      "offset: 2400 size: 2400\n",
      "dataset has 10000 samples\n"
     ]
    },
    {
     "name": "stderr",
     "output_type": "stream",
     "text": [
      "Loss: 2.3165, Acc: 0.097900, Top-5: 0.503500: 100%|██████████| 250/250 [00:17<00:00, 14.16batch/s]\n"
     ]
    },
    {
     "name": "stdout",
     "output_type": "stream",
     "text": [
      "Loss: 2.3165, Acc: 0.097900, Top-5: 0.503500\n",
      "offset: 150 size: 150\n",
      "offset: 2400 size: 2400\n",
      "dataset has 10000 samples\n"
     ]
    },
    {
     "name": "stderr",
     "output_type": "stream",
     "text": [
      "Loss: 2.3104, Acc: 0.083100, Top-5: 0.517000: 100%|██████████| 250/250 [00:17<00:00, 14.17batch/s]\n"
     ]
    },
    {
     "name": "stdout",
     "output_type": "stream",
     "text": [
      "Loss: 2.3104, Acc: 0.083100, Top-5: 0.517000\n",
      "offset: 150 size: 150\n",
      "offset: 2400 size: 2400\n",
      "dataset has 10000 samples\n"
     ]
    },
    {
     "name": "stderr",
     "output_type": "stream",
     "text": [
      "Loss: 2.3205, Acc: 0.077400, Top-5: 0.524800: 100%|██████████| 250/250 [00:17<00:00, 14.39batch/s]\n"
     ]
    },
    {
     "name": "stdout",
     "output_type": "stream",
     "text": [
      "Loss: 2.3205, Acc: 0.077400, Top-5: 0.524800\n",
      "offset: 150 size: 150\n",
      "offset: 2400 size: 2400\n",
      "dataset has 10000 samples\n"
     ]
    },
    {
     "name": "stderr",
     "output_type": "stream",
     "text": [
      "Loss: 2.3306, Acc: 0.074300, Top-5: 0.510500: 100%|██████████| 250/250 [00:17<00:00, 14.29batch/s]\n"
     ]
    },
    {
     "name": "stdout",
     "output_type": "stream",
     "text": [
      "Loss: 2.3306, Acc: 0.074300, Top-5: 0.510500\n",
      "offset: 150 size: 150\n",
      "offset: 2400 size: 2400\n",
      "dataset has 10000 samples\n"
     ]
    },
    {
     "name": "stderr",
     "output_type": "stream",
     "text": [
      "Loss: 2.3045, Acc: 0.101300, Top-5: 0.515200: 100%|██████████| 250/250 [00:18<00:00, 13.74batch/s]\n"
     ]
    },
    {
     "name": "stdout",
     "output_type": "stream",
     "text": [
      "Loss: 2.3045, Acc: 0.101300, Top-5: 0.515200\n",
      "offset: 150 size: 150\n",
      "offset: 2400 size: 2400\n",
      "dataset has 10000 samples\n"
     ]
    },
    {
     "name": "stderr",
     "output_type": "stream",
     "text": [
      "Loss: 2.3085, Acc: 0.097000, Top-5: 0.510900: 100%|██████████| 250/250 [00:17<00:00, 14.42batch/s]\n"
     ]
    },
    {
     "name": "stdout",
     "output_type": "stream",
     "text": [
      "Loss: 2.3085, Acc: 0.097000, Top-5: 0.510900\n",
      "offset: 150 size: 150\n",
      "offset: 2400 size: 2400\n",
      "dataset has 10000 samples\n"
     ]
    },
    {
     "name": "stderr",
     "output_type": "stream",
     "text": [
      "Loss: 2.3026, Acc: 0.098000, Top-5: 0.513700: 100%|██████████| 250/250 [00:17<00:00, 14.45batch/s]\n"
     ]
    },
    {
     "name": "stdout",
     "output_type": "stream",
     "text": [
      "Loss: 2.3026, Acc: 0.098000, Top-5: 0.513700\n",
      "offset: 150 size: 150\n",
      "offset: 2400 size: 2400\n",
      "dataset has 10000 samples\n"
     ]
    },
    {
     "name": "stderr",
     "output_type": "stream",
     "text": [
      "Loss: 2.3028, Acc: 0.098000, Top-5: 0.513800: 100%|██████████| 250/250 [00:17<00:00, 14.32batch/s]\n"
     ]
    },
    {
     "name": "stdout",
     "output_type": "stream",
     "text": [
      "Loss: 2.3028, Acc: 0.098000, Top-5: 0.513800\n",
      "offset: 150 size: 150\n",
      "offset: 2400 size: 2400\n",
      "dataset has 10000 samples\n"
     ]
    },
    {
     "name": "stderr",
     "output_type": "stream",
     "text": [
      "Loss: 2.3029, Acc: 0.097900, Top-5: 0.513600: 100%|██████████| 250/250 [00:17<00:00, 14.23batch/s]\n"
     ]
    },
    {
     "name": "stdout",
     "output_type": "stream",
     "text": [
      "Loss: 2.3029, Acc: 0.097900, Top-5: 0.513600\n",
      "offset: 150 size: 150\n",
      "offset: 2400 size: 2400\n",
      "dataset has 10000 samples\n"
     ]
    },
    {
     "name": "stderr",
     "output_type": "stream",
     "text": [
      "Loss: 2.3028, Acc: 0.098000, Top-5: 0.513700: 100%|██████████| 250/250 [00:17<00:00, 14.48batch/s]\n"
     ]
    },
    {
     "name": "stdout",
     "output_type": "stream",
     "text": [
      "Loss: 2.3028, Acc: 0.098000, Top-5: 0.513700\n",
      "offset: 150 size: 150\n",
      "offset: 2400 size: 2400\n",
      "dataset has 10000 samples\n"
     ]
    },
    {
     "name": "stderr",
     "output_type": "stream",
     "text": [
      "Loss: 2.3026, Acc: 0.097600, Top-5: 0.514500: 100%|██████████| 250/250 [00:19<00:00, 13.05batch/s]\n"
     ]
    },
    {
     "name": "stdout",
     "output_type": "stream",
     "text": [
      "Loss: 2.3026, Acc: 0.097600, Top-5: 0.514500\n",
      "offset: 150 size: 150\n",
      "offset: 2400 size: 2400\n",
      "dataset has 10000 samples\n"
     ]
    },
    {
     "name": "stderr",
     "output_type": "stream",
     "text": [
      "Loss: 2.3020, Acc: 0.098000, Top-5: 0.515200: 100%|██████████| 250/250 [00:18<00:00, 13.65batch/s]\n"
     ]
    },
    {
     "name": "stdout",
     "output_type": "stream",
     "text": [
      "Loss: 2.3020, Acc: 0.098000, Top-5: 0.515200\n",
      "offset: 150 size: 150\n",
      "offset: 2400 size: 2400\n",
      "dataset has 10000 samples\n"
     ]
    },
    {
     "name": "stderr",
     "output_type": "stream",
     "text": [
      "Loss: 2.3026, Acc: 0.098000, Top-5: 0.513900: 100%|██████████| 250/250 [00:17<00:00, 14.37batch/s]\n"
     ]
    },
    {
     "name": "stdout",
     "output_type": "stream",
     "text": [
      "Loss: 2.3026, Acc: 0.098000, Top-5: 0.513900\n",
      "offset: 150 size: 150\n",
      "offset: 2400 size: 2400\n",
      "dataset has 10000 samples\n"
     ]
    },
    {
     "name": "stderr",
     "output_type": "stream",
     "text": [
      "Loss: 2.3026, Acc: 0.097900, Top-5: 0.513900: 100%|██████████| 250/250 [00:17<00:00, 13.94batch/s]\n"
     ]
    },
    {
     "name": "stdout",
     "output_type": "stream",
     "text": [
      "Loss: 2.3026, Acc: 0.097900, Top-5: 0.513900\n",
      "offset: 150 size: 150\n",
      "offset: 2400 size: 2400\n",
      "dataset has 10000 samples\n"
     ]
    },
    {
     "name": "stderr",
     "output_type": "stream",
     "text": [
      "Loss: 2.3026, Acc: 0.097900, Top-5: 0.513900: 100%|██████████| 250/250 [00:17<00:00, 14.26batch/s]\n"
     ]
    },
    {
     "name": "stdout",
     "output_type": "stream",
     "text": [
      "Loss: 2.3026, Acc: 0.097900, Top-5: 0.513900\n",
      "offset: 150 size: 150\n",
      "offset: 2400 size: 2400\n",
      "dataset has 10000 samples\n"
     ]
    },
    {
     "name": "stderr",
     "output_type": "stream",
     "text": [
      "Loss: 2.3026, Acc: 0.097900, Top-5: 0.513900: 100%|██████████| 250/250 [00:17<00:00, 14.50batch/s]\n"
     ]
    },
    {
     "name": "stdout",
     "output_type": "stream",
     "text": [
      "Loss: 2.3026, Acc: 0.097900, Top-5: 0.513900\n",
      "offset: 150 size: 150\n",
      "offset: 2400 size: 2400\n",
      "dataset has 10000 samples\n"
     ]
    },
    {
     "name": "stderr",
     "output_type": "stream",
     "text": [
      "Loss: 2.3026, Acc: 0.098000, Top-5: 0.513900: 100%|██████████| 250/250 [00:17<00:00, 13.95batch/s]\n"
     ]
    },
    {
     "name": "stdout",
     "output_type": "stream",
     "text": [
      "Loss: 2.3026, Acc: 0.098000, Top-5: 0.513900\n",
      "offset: 150 size: 150\n",
      "offset: 2400 size: 2400\n",
      "dataset has 10000 samples\n"
     ]
    },
    {
     "name": "stderr",
     "output_type": "stream",
     "text": [
      "Loss: 2.3026, Acc: 0.098000, Top-5: 0.513900: 100%|██████████| 250/250 [00:17<00:00, 14.24batch/s]\n"
     ]
    },
    {
     "name": "stdout",
     "output_type": "stream",
     "text": [
      "Loss: 2.3026, Acc: 0.098000, Top-5: 0.513900\n",
      "offset: 150 size: 150\n",
      "offset: 2400 size: 2400\n",
      "dataset has 10000 samples\n"
     ]
    },
    {
     "name": "stderr",
     "output_type": "stream",
     "text": [
      "Loss: 2.3026, Acc: 0.097900, Top-5: 0.513900: 100%|██████████| 250/250 [00:17<00:00, 14.48batch/s]\n"
     ]
    },
    {
     "name": "stdout",
     "output_type": "stream",
     "text": [
      "Loss: 2.3026, Acc: 0.097900, Top-5: 0.513900\n",
      "offset: 150 size: 150\n",
      "offset: 2400 size: 2400\n",
      "dataset has 10000 samples\n"
     ]
    },
    {
     "name": "stderr",
     "output_type": "stream",
     "text": [
      "Loss: 2.3026, Acc: 0.098000, Top-5: 0.513900: 100%|██████████| 250/250 [00:17<00:00, 13.97batch/s]\n"
     ]
    },
    {
     "name": "stdout",
     "output_type": "stream",
     "text": [
      "Loss: 2.3026, Acc: 0.098000, Top-5: 0.513900\n",
      "offset: 150 size: 150\n",
      "offset: 2400 size: 2400\n",
      "dataset has 10000 samples\n"
     ]
    },
    {
     "name": "stderr",
     "output_type": "stream",
     "text": [
      "Loss: 2.3026, Acc: 0.098000, Top-5: 0.513900: 100%|██████████| 250/250 [00:17<00:00, 14.18batch/s]\n"
     ]
    },
    {
     "name": "stdout",
     "output_type": "stream",
     "text": [
      "Loss: 2.3026, Acc: 0.098000, Top-5: 0.513900\n",
      "offset: 150 size: 150\n",
      "offset: 2400 size: 2400\n",
      "dataset has 10000 samples\n"
     ]
    },
    {
     "name": "stderr",
     "output_type": "stream",
     "text": [
      "Loss: 2.3026, Acc: 0.098000, Top-5: 0.513900: 100%|██████████| 250/250 [00:18<00:00, 13.81batch/s]\n"
     ]
    },
    {
     "name": "stdout",
     "output_type": "stream",
     "text": [
      "Loss: 2.3026, Acc: 0.098000, Top-5: 0.513900\n",
      "offset: 150 size: 150\n",
      "offset: 2400 size: 2400\n",
      "dataset has 10000 samples\n"
     ]
    },
    {
     "name": "stderr",
     "output_type": "stream",
     "text": [
      "Loss: 2.3026, Acc: 0.098000, Top-5: 0.513900: 100%|██████████| 250/250 [00:17<00:00, 14.32batch/s]\n"
     ]
    },
    {
     "name": "stdout",
     "output_type": "stream",
     "text": [
      "Loss: 2.3026, Acc: 0.098000, Top-5: 0.513900\n",
      "offset: 150 size: 150\n",
      "offset: 2400 size: 2400\n",
      "dataset has 10000 samples\n"
     ]
    },
    {
     "name": "stderr",
     "output_type": "stream",
     "text": [
      "Loss: 2.3026, Acc: 0.098000, Top-5: 0.513900: 100%|██████████| 250/250 [00:18<00:00, 13.51batch/s]\n"
     ]
    },
    {
     "name": "stdout",
     "output_type": "stream",
     "text": [
      "Loss: 2.3026, Acc: 0.098000, Top-5: 0.513900\n",
      "offset: 150 size: 150\n",
      "offset: 2400 size: 2400\n",
      "dataset has 10000 samples\n"
     ]
    },
    {
     "name": "stderr",
     "output_type": "stream",
     "text": [
      "Loss: 2.3026, Acc: 0.098000, Top-5: 0.513900: 100%|██████████| 250/250 [00:17<00:00, 14.13batch/s]\n"
     ]
    },
    {
     "name": "stdout",
     "output_type": "stream",
     "text": [
      "Loss: 2.3026, Acc: 0.098000, Top-5: 0.513900\n",
      "offset: 150 size: 150\n",
      "offset: 2400 size: 2400\n",
      "dataset has 10000 samples\n"
     ]
    },
    {
     "name": "stderr",
     "output_type": "stream",
     "text": [
      "Loss: 2.3026, Acc: 0.098000, Top-5: 0.513900: 100%|██████████| 250/250 [00:17<00:00, 14.24batch/s]\n"
     ]
    },
    {
     "name": "stdout",
     "output_type": "stream",
     "text": [
      "Loss: 2.3026, Acc: 0.098000, Top-5: 0.513900\n",
      "offset: 150 size: 150\n",
      "offset: 2400 size: 2400\n",
      "dataset has 10000 samples\n"
     ]
    },
    {
     "name": "stderr",
     "output_type": "stream",
     "text": [
      "Loss: 2.3026, Acc: 0.098000, Top-5: 0.513900: 100%|██████████| 250/250 [00:17<00:00, 14.21batch/s]\n"
     ]
    },
    {
     "name": "stdout",
     "output_type": "stream",
     "text": [
      "Loss: 2.3026, Acc: 0.098000, Top-5: 0.513900\n",
      "offset: 150 size: 150\n",
      "offset: 2400 size: 2400\n",
      "dataset has 10000 samples\n"
     ]
    },
    {
     "name": "stderr",
     "output_type": "stream",
     "text": [
      "Loss: 2.3026, Acc: 0.098000, Top-5: 0.513900: 100%|██████████| 250/250 [00:18<00:00, 13.49batch/s]\n"
     ]
    },
    {
     "name": "stdout",
     "output_type": "stream",
     "text": [
      "Loss: 2.3026, Acc: 0.098000, Top-5: 0.513900\n",
      "offset: 150 size: 150\n",
      "offset: 2400 size: 2400\n",
      "dataset has 10000 samples\n"
     ]
    },
    {
     "name": "stderr",
     "output_type": "stream",
     "text": [
      "Loss: 2.3026, Acc: 0.098000, Top-5: 0.513900: 100%|██████████| 250/250 [00:17<00:00, 14.37batch/s]\n"
     ]
    },
    {
     "name": "stdout",
     "output_type": "stream",
     "text": [
      "Loss: 2.3026, Acc: 0.098000, Top-5: 0.513900\n",
      "offset: 150 size: 150\n",
      "offset: 2400 size: 2400\n",
      "dataset has 10000 samples\n"
     ]
    },
    {
     "name": "stderr",
     "output_type": "stream",
     "text": [
      "Loss: 2.3026, Acc: 0.098000, Top-5: 0.513900: 100%|██████████| 250/250 [00:17<00:00, 14.20batch/s]\n"
     ]
    },
    {
     "name": "stdout",
     "output_type": "stream",
     "text": [
      "Loss: 2.3026, Acc: 0.098000, Top-5: 0.513900\n",
      "offset: 150 size: 150\n",
      "offset: 2400 size: 2400\n",
      "dataset has 10000 samples\n"
     ]
    },
    {
     "name": "stderr",
     "output_type": "stream",
     "text": [
      "Loss: 2.3026, Acc: 0.098000, Top-5: 0.513900: 100%|██████████| 250/250 [00:18<00:00, 13.17batch/s]\n"
     ]
    },
    {
     "name": "stdout",
     "output_type": "stream",
     "text": [
      "Loss: 2.3026, Acc: 0.098000, Top-5: 0.513900\n",
      "offset: 150 size: 150\n",
      "offset: 2400 size: 2400\n",
      "dataset has 10000 samples\n"
     ]
    },
    {
     "name": "stderr",
     "output_type": "stream",
     "text": [
      "Loss: 2.3026, Acc: 0.098000, Top-5: 0.513900: 100%|██████████| 250/250 [00:17<00:00, 14.32batch/s]\n"
     ]
    },
    {
     "name": "stdout",
     "output_type": "stream",
     "text": [
      "Loss: 2.3026, Acc: 0.098000, Top-5: 0.513900\n",
      "offset: 150 size: 150\n",
      "offset: 2400 size: 2400\n",
      "dataset has 10000 samples\n"
     ]
    },
    {
     "name": "stderr",
     "output_type": "stream",
     "text": [
      "Loss: 2.3026, Acc: 0.098000, Top-5: 0.513900: 100%|██████████| 250/250 [00:17<00:00, 14.23batch/s]\n"
     ]
    },
    {
     "name": "stdout",
     "output_type": "stream",
     "text": [
      "Loss: 2.3026, Acc: 0.098000, Top-5: 0.513900\n",
      "offset: 150 size: 150\n",
      "offset: 2400 size: 2400\n",
      "dataset has 10000 samples\n"
     ]
    },
    {
     "name": "stderr",
     "output_type": "stream",
     "text": [
      "Loss: 2.3026, Acc: 0.098000, Top-5: 0.513900: 100%|██████████| 250/250 [00:17<00:00, 13.90batch/s]\n"
     ]
    },
    {
     "name": "stdout",
     "output_type": "stream",
     "text": [
      "Loss: 2.3026, Acc: 0.098000, Top-5: 0.513900\n",
      "offset: 150 size: 150\n",
      "offset: 2400 size: 2400\n",
      "dataset has 10000 samples\n"
     ]
    },
    {
     "name": "stderr",
     "output_type": "stream",
     "text": [
      "Loss: 2.3026, Acc: 0.098000, Top-5: 0.513900: 100%|██████████| 250/250 [00:17<00:00, 13.93batch/s]\n"
     ]
    },
    {
     "name": "stdout",
     "output_type": "stream",
     "text": [
      "Loss: 2.3026, Acc: 0.098000, Top-5: 0.513900\n",
      "offset: 150 size: 150\n",
      "offset: 2400 size: 2400\n",
      "dataset has 10000 samples\n"
     ]
    },
    {
     "name": "stderr",
     "output_type": "stream",
     "text": [
      "Loss: 2.3026, Acc: 0.098000, Top-5: 0.513900: 100%|██████████| 250/250 [00:17<00:00, 14.30batch/s]\n"
     ]
    },
    {
     "name": "stdout",
     "output_type": "stream",
     "text": [
      "Loss: 2.3026, Acc: 0.098000, Top-5: 0.513900\n",
      "offset: 150 size: 150\n",
      "offset: 2400 size: 2400\n",
      "dataset has 10000 samples\n"
     ]
    },
    {
     "name": "stderr",
     "output_type": "stream",
     "text": [
      "Loss: 2.3026, Acc: 0.098000, Top-5: 0.513900: 100%|██████████| 250/250 [00:17<00:00, 14.35batch/s]\n"
     ]
    },
    {
     "name": "stdout",
     "output_type": "stream",
     "text": [
      "Loss: 2.3026, Acc: 0.098000, Top-5: 0.513900\n",
      "offset: 150 size: 150\n",
      "offset: 2400 size: 2400\n",
      "dataset has 10000 samples\n"
     ]
    },
    {
     "name": "stderr",
     "output_type": "stream",
     "text": [
      "Loss: 2.3026, Acc: 0.098000, Top-5: 0.513900: 100%|██████████| 250/250 [00:17<00:00, 14.20batch/s]\n"
     ]
    },
    {
     "name": "stdout",
     "output_type": "stream",
     "text": [
      "Loss: 2.3026, Acc: 0.098000, Top-5: 0.513900\n",
      "offset: 150 size: 150\n",
      "offset: 2400 size: 2400\n",
      "dataset has 10000 samples\n"
     ]
    },
    {
     "name": "stderr",
     "output_type": "stream",
     "text": [
      "Loss: 2.3026, Acc: 0.098000, Top-5: 0.513900: 100%|██████████| 250/250 [00:16<00:00, 14.79batch/s]\n"
     ]
    },
    {
     "name": "stdout",
     "output_type": "stream",
     "text": [
      "Loss: 2.3026, Acc: 0.098000, Top-5: 0.513900\n",
      "offset: 150 size: 150\n",
      "offset: 2400 size: 2400\n",
      "dataset has 10000 samples\n"
     ]
    },
    {
     "name": "stderr",
     "output_type": "stream",
     "text": [
      "Loss: 2.3026, Acc: 0.098000, Top-5: 0.513900: 100%|██████████| 250/250 [00:16<00:00, 14.96batch/s]\n"
     ]
    },
    {
     "name": "stdout",
     "output_type": "stream",
     "text": [
      "Loss: 2.3026, Acc: 0.098000, Top-5: 0.513900\n",
      "offset: 150 size: 150\n",
      "offset: 2400 size: 2400\n",
      "dataset has 10000 samples\n"
     ]
    },
    {
     "name": "stderr",
     "output_type": "stream",
     "text": [
      "Loss: 2.3026, Acc: 0.098000, Top-5: 0.513900: 100%|██████████| 250/250 [00:16<00:00, 14.95batch/s]\n"
     ]
    },
    {
     "name": "stdout",
     "output_type": "stream",
     "text": [
      "Loss: 2.3026, Acc: 0.098000, Top-5: 0.513900\n",
      "offset: 150 size: 150\n",
      "offset: 2400 size: 2400\n",
      "dataset has 10000 samples\n"
     ]
    },
    {
     "name": "stderr",
     "output_type": "stream",
     "text": [
      "Loss: 2.3026, Acc: 0.098000, Top-5: 0.513900: 100%|██████████| 250/250 [00:16<00:00, 14.94batch/s]\n"
     ]
    },
    {
     "name": "stdout",
     "output_type": "stream",
     "text": [
      "Loss: 2.3026, Acc: 0.098000, Top-5: 0.513900\n",
      "offset: 150 size: 150\n",
      "offset: 2400 size: 2400\n",
      "dataset has 10000 samples\n"
     ]
    },
    {
     "name": "stderr",
     "output_type": "stream",
     "text": [
      "Loss: 2.3026, Acc: 0.098000, Top-5: 0.513900: 100%|██████████| 250/250 [00:16<00:00, 15.27batch/s]\n"
     ]
    },
    {
     "name": "stdout",
     "output_type": "stream",
     "text": [
      "Loss: 2.3026, Acc: 0.098000, Top-5: 0.513900\n",
      "offset: 150 size: 150\n",
      "offset: 2400 size: 2400\n",
      "dataset has 10000 samples\n"
     ]
    },
    {
     "name": "stderr",
     "output_type": "stream",
     "text": [
      "Loss: 2.3026, Acc: 0.098000, Top-5: 0.513900: 100%|██████████| 250/250 [00:16<00:00, 14.94batch/s]\n"
     ]
    },
    {
     "name": "stdout",
     "output_type": "stream",
     "text": [
      "Loss: 2.3026, Acc: 0.098000, Top-5: 0.513900\n",
      "offset: 150 size: 150\n",
      "offset: 2400 size: 2400\n",
      "dataset has 10000 samples\n"
     ]
    },
    {
     "name": "stderr",
     "output_type": "stream",
     "text": [
      "Loss: 2.3026, Acc: 0.098000, Top-5: 0.513900: 100%|██████████| 250/250 [00:17<00:00, 14.47batch/s]\n"
     ]
    },
    {
     "name": "stdout",
     "output_type": "stream",
     "text": [
      "Loss: 2.3026, Acc: 0.098000, Top-5: 0.513900\n",
      "offset: 150 size: 150\n",
      "offset: 2400 size: 2400\n",
      "dataset has 10000 samples\n"
     ]
    },
    {
     "name": "stderr",
     "output_type": "stream",
     "text": [
      "Loss: 2.3026, Acc: 0.098000, Top-5: 0.513900: 100%|██████████| 250/250 [00:16<00:00, 14.97batch/s]\n"
     ]
    },
    {
     "name": "stdout",
     "output_type": "stream",
     "text": [
      "Loss: 2.3026, Acc: 0.098000, Top-5: 0.513900\n",
      "offset: 150 size: 150\n",
      "offset: 2400 size: 2400\n",
      "dataset has 10000 samples\n"
     ]
    },
    {
     "name": "stderr",
     "output_type": "stream",
     "text": [
      "Loss: 2.3026, Acc: 0.098000, Top-5: 0.513900: 100%|██████████| 250/250 [00:16<00:00, 14.90batch/s]\n"
     ]
    },
    {
     "name": "stdout",
     "output_type": "stream",
     "text": [
      "Loss: 2.3026, Acc: 0.098000, Top-5: 0.513900\n",
      "offset: 150 size: 150\n",
      "offset: 2400 size: 2400\n",
      "dataset has 10000 samples\n"
     ]
    },
    {
     "name": "stderr",
     "output_type": "stream",
     "text": [
      "Loss: 2.3026, Acc: 0.098000, Top-5: 0.513900: 100%|██████████| 250/250 [00:17<00:00, 14.70batch/s]\n"
     ]
    },
    {
     "name": "stdout",
     "output_type": "stream",
     "text": [
      "Loss: 2.3026, Acc: 0.098000, Top-5: 0.513900\n",
      "offset: 150 size: 150\n",
      "offset: 2400 size: 2400\n",
      "dataset has 10000 samples\n"
     ]
    },
    {
     "name": "stderr",
     "output_type": "stream",
     "text": [
      "Loss: 2.3026, Acc: 0.098000, Top-5: 0.513900: 100%|██████████| 250/250 [00:17<00:00, 14.64batch/s]\n"
     ]
    },
    {
     "name": "stdout",
     "output_type": "stream",
     "text": [
      "Loss: 2.3026, Acc: 0.098000, Top-5: 0.513900\n",
      "offset: 150 size: 150\n",
      "offset: 2400 size: 2400\n",
      "dataset has 10000 samples\n"
     ]
    },
    {
     "name": "stderr",
     "output_type": "stream",
     "text": [
      "Loss: 2.3026, Acc: 0.098000, Top-5: 0.513900: 100%|██████████| 250/250 [00:16<00:00, 14.92batch/s]\n"
     ]
    },
    {
     "name": "stdout",
     "output_type": "stream",
     "text": [
      "Loss: 2.3026, Acc: 0.098000, Top-5: 0.513900\n",
      "offset: 150 size: 150\n",
      "offset: 2400 size: 2400\n",
      "dataset has 10000 samples\n"
     ]
    },
    {
     "name": "stderr",
     "output_type": "stream",
     "text": [
      "Loss: 2.3026, Acc: 0.098000, Top-5: 0.513900: 100%|██████████| 250/250 [00:16<00:00, 14.97batch/s]\n"
     ]
    },
    {
     "name": "stdout",
     "output_type": "stream",
     "text": [
      "Loss: 2.3026, Acc: 0.098000, Top-5: 0.513900\n",
      "offset: 150 size: 150\n",
      "offset: 2400 size: 2400\n",
      "dataset has 10000 samples\n"
     ]
    },
    {
     "name": "stderr",
     "output_type": "stream",
     "text": [
      "Loss: 2.3026, Acc: 0.098000, Top-5: 0.513800: 100%|██████████| 250/250 [00:17<00:00, 14.44batch/s]\n"
     ]
    },
    {
     "name": "stdout",
     "output_type": "stream",
     "text": [
      "Loss: 2.3026, Acc: 0.098000, Top-5: 0.513800\n",
      "offset: 150 size: 150\n",
      "offset: 2400 size: 2400\n",
      "dataset has 10000 samples\n"
     ]
    },
    {
     "name": "stderr",
     "output_type": "stream",
     "text": [
      "Loss: 2.3026, Acc: 0.098000, Top-5: 0.513900: 100%|██████████| 250/250 [00:17<00:00, 14.40batch/s]\n"
     ]
    },
    {
     "name": "stdout",
     "output_type": "stream",
     "text": [
      "Loss: 2.3026, Acc: 0.098000, Top-5: 0.513900\n",
      "offset: 150 size: 150\n",
      "offset: 2400 size: 2400\n",
      "dataset has 10000 samples\n"
     ]
    },
    {
     "name": "stderr",
     "output_type": "stream",
     "text": [
      "Loss: 2.3025, Acc: 0.098100, Top-5: 0.513900: 100%|██████████| 250/250 [00:16<00:00, 14.97batch/s]\n"
     ]
    },
    {
     "name": "stdout",
     "output_type": "stream",
     "text": [
      "Loss: 2.3025, Acc: 0.098100, Top-5: 0.513900\n",
      "offset: 150 size: 150\n",
      "offset: 2400 size: 2400\n",
      "dataset has 10000 samples\n"
     ]
    },
    {
     "name": "stderr",
     "output_type": "stream",
     "text": [
      "Loss: 2.3025, Acc: 0.098100, Top-5: 0.514000: 100%|██████████| 250/250 [00:16<00:00, 14.83batch/s]\n"
     ]
    },
    {
     "name": "stdout",
     "output_type": "stream",
     "text": [
      "Loss: 2.3025, Acc: 0.098100, Top-5: 0.514000\n",
      "offset: 150 size: 150\n",
      "offset: 2400 size: 2400\n",
      "dataset has 10000 samples\n"
     ]
    },
    {
     "name": "stderr",
     "output_type": "stream",
     "text": [
      "Loss: 2.3025, Acc: 0.098100, Top-5: 0.514000: 100%|██████████| 250/250 [00:17<00:00, 14.47batch/s]\n"
     ]
    },
    {
     "name": "stdout",
     "output_type": "stream",
     "text": [
      "Loss: 2.3025, Acc: 0.098100, Top-5: 0.514000\n",
      "offset: 150 size: 150\n",
      "offset: 2400 size: 2400\n",
      "dataset has 10000 samples\n"
     ]
    },
    {
     "name": "stderr",
     "output_type": "stream",
     "text": [
      "Loss: 2.3026, Acc: 0.098000, Top-5: 0.514000: 100%|██████████| 250/250 [00:16<00:00, 15.02batch/s]\n"
     ]
    },
    {
     "name": "stdout",
     "output_type": "stream",
     "text": [
      "Loss: 2.3026, Acc: 0.098000, Top-5: 0.514000\n",
      "offset: 150 size: 150\n",
      "offset: 2400 size: 2400\n",
      "dataset has 10000 samples\n"
     ]
    },
    {
     "name": "stderr",
     "output_type": "stream",
     "text": [
      "Loss: 2.3027, Acc: 0.098000, Top-5: 0.513700: 100%|██████████| 250/250 [00:16<00:00, 14.90batch/s]\n"
     ]
    },
    {
     "name": "stdout",
     "output_type": "stream",
     "text": [
      "Loss: 2.3027, Acc: 0.098000, Top-5: 0.513700\n",
      "offset: 150 size: 150\n",
      "offset: 2400 size: 2400\n",
      "dataset has 10000 samples\n"
     ]
    },
    {
     "name": "stderr",
     "output_type": "stream",
     "text": [
      "Loss: 2.3027, Acc: 0.098000, Top-5: 0.513400: 100%|██████████| 250/250 [00:17<00:00, 14.70batch/s]\n"
     ]
    },
    {
     "name": "stdout",
     "output_type": "stream",
     "text": [
      "Loss: 2.3027, Acc: 0.098000, Top-5: 0.513400\n",
      "offset: 150 size: 150\n",
      "offset: 2400 size: 2400\n",
      "dataset has 10000 samples\n"
     ]
    },
    {
     "name": "stderr",
     "output_type": "stream",
     "text": [
      "Loss: 2.3026, Acc: 0.098300, Top-5: 0.513500: 100%|██████████| 250/250 [00:16<00:00, 14.97batch/s]\n"
     ]
    },
    {
     "name": "stdout",
     "output_type": "stream",
     "text": [
      "Loss: 2.3026, Acc: 0.098300, Top-5: 0.513500\n",
      "offset: 150 size: 150\n",
      "offset: 2400 size: 2400\n",
      "dataset has 10000 samples\n"
     ]
    },
    {
     "name": "stderr",
     "output_type": "stream",
     "text": [
      "Loss: 2.3027, Acc: 0.098100, Top-5: 0.513700: 100%|██████████| 250/250 [00:16<00:00, 14.78batch/s]\n"
     ]
    },
    {
     "name": "stdout",
     "output_type": "stream",
     "text": [
      "Loss: 2.3027, Acc: 0.098100, Top-5: 0.513700\n",
      "offset: 150 size: 150\n",
      "offset: 2400 size: 2400\n",
      "dataset has 10000 samples\n"
     ]
    },
    {
     "name": "stderr",
     "output_type": "stream",
     "text": [
      "Loss: 2.3028, Acc: 0.098100, Top-5: 0.513600: 100%|██████████| 250/250 [00:17<00:00, 14.15batch/s]\n"
     ]
    },
    {
     "name": "stdout",
     "output_type": "stream",
     "text": [
      "Loss: 2.3028, Acc: 0.098100, Top-5: 0.513600\n",
      "offset: 150 size: 150\n",
      "offset: 2400 size: 2400\n",
      "dataset has 10000 samples\n"
     ]
    },
    {
     "name": "stderr",
     "output_type": "stream",
     "text": [
      "Loss: 2.3029, Acc: 0.098200, Top-5: 0.512900: 100%|██████████| 250/250 [00:16<00:00, 14.83batch/s]\n"
     ]
    },
    {
     "name": "stdout",
     "output_type": "stream",
     "text": [
      "Loss: 2.3029, Acc: 0.098200, Top-5: 0.512900\n",
      "offset: 150 size: 150\n",
      "offset: 2400 size: 2400\n",
      "dataset has 10000 samples\n"
     ]
    },
    {
     "name": "stderr",
     "output_type": "stream",
     "text": [
      "Loss: 2.3025, Acc: 0.098100, Top-5: 0.513900: 100%|██████████| 250/250 [00:16<00:00, 14.97batch/s]\n"
     ]
    },
    {
     "name": "stdout",
     "output_type": "stream",
     "text": [
      "Loss: 2.3025, Acc: 0.098100, Top-5: 0.513900\n",
      "offset: 150 size: 150\n",
      "offset: 2400 size: 2400\n",
      "dataset has 10000 samples\n"
     ]
    },
    {
     "name": "stderr",
     "output_type": "stream",
     "text": [
      "Loss: 2.3024, Acc: 0.098400, Top-5: 0.513900: 100%|██████████| 250/250 [00:16<00:00, 14.93batch/s]\n"
     ]
    },
    {
     "name": "stdout",
     "output_type": "stream",
     "text": [
      "Loss: 2.3024, Acc: 0.098400, Top-5: 0.513900\n",
      "offset: 150 size: 150\n",
      "offset: 2400 size: 2400\n",
      "dataset has 10000 samples\n"
     ]
    },
    {
     "name": "stderr",
     "output_type": "stream",
     "text": [
      "Loss: 2.3024, Acc: 0.098400, Top-5: 0.513700: 100%|██████████| 250/250 [00:17<00:00, 14.61batch/s]\n"
     ]
    },
    {
     "name": "stdout",
     "output_type": "stream",
     "text": [
      "Loss: 2.3024, Acc: 0.098400, Top-5: 0.513700\n",
      "offset: 150 size: 150\n",
      "offset: 2400 size: 2400\n",
      "dataset has 10000 samples\n"
     ]
    },
    {
     "name": "stderr",
     "output_type": "stream",
     "text": [
      "Loss: 2.3022, Acc: 0.099800, Top-5: 0.513300: 100%|██████████| 250/250 [00:16<00:00, 14.99batch/s]\n"
     ]
    },
    {
     "name": "stdout",
     "output_type": "stream",
     "text": [
      "Loss: 2.3022, Acc: 0.099800, Top-5: 0.513300\n",
      "offset: 150 size: 150\n",
      "offset: 2400 size: 2400\n",
      "dataset has 10000 samples\n"
     ]
    },
    {
     "name": "stderr",
     "output_type": "stream",
     "text": [
      "Loss: 2.3016, Acc: 0.100900, Top-5: 0.513600: 100%|██████████| 250/250 [00:16<00:00, 14.87batch/s]\n"
     ]
    },
    {
     "name": "stdout",
     "output_type": "stream",
     "text": [
      "Loss: 2.3016, Acc: 0.100900, Top-5: 0.513600\n",
      "offset: 150 size: 150\n",
      "offset: 2400 size: 2400\n",
      "dataset has 10000 samples\n"
     ]
    },
    {
     "name": "stderr",
     "output_type": "stream",
     "text": [
      "Loss: 2.3002, Acc: 0.102900, Top-5: 0.513200: 100%|██████████| 250/250 [00:16<00:00, 14.89batch/s]\n"
     ]
    },
    {
     "name": "stdout",
     "output_type": "stream",
     "text": [
      "Loss: 2.3002, Acc: 0.102900, Top-5: 0.513200\n",
      "offset: 150 size: 150\n",
      "offset: 2400 size: 2400\n",
      "dataset has 10000 samples\n"
     ]
    },
    {
     "name": "stderr",
     "output_type": "stream",
     "text": [
      "Loss: 2.3012, Acc: 0.100200, Top-5: 0.514300: 100%|██████████| 250/250 [00:16<00:00, 15.00batch/s]\n"
     ]
    },
    {
     "name": "stdout",
     "output_type": "stream",
     "text": [
      "Loss: 2.3012, Acc: 0.100200, Top-5: 0.514300\n",
      "offset: 150 size: 150\n",
      "offset: 2400 size: 2400\n",
      "dataset has 10000 samples\n"
     ]
    },
    {
     "name": "stderr",
     "output_type": "stream",
     "text": [
      "Loss: 2.3025, Acc: 0.098200, Top-5: 0.513900: 100%|██████████| 250/250 [00:17<00:00, 14.62batch/s]\n"
     ]
    },
    {
     "name": "stdout",
     "output_type": "stream",
     "text": [
      "Loss: 2.3025, Acc: 0.098200, Top-5: 0.513900\n",
      "offset: 150 size: 150\n",
      "offset: 2400 size: 2400\n",
      "dataset has 10000 samples\n"
     ]
    },
    {
     "name": "stderr",
     "output_type": "stream",
     "text": [
      "Loss: 2.3019, Acc: 0.098400, Top-5: 0.514300: 100%|██████████| 250/250 [00:16<00:00, 14.99batch/s]\n"
     ]
    },
    {
     "name": "stdout",
     "output_type": "stream",
     "text": [
      "Loss: 2.3019, Acc: 0.098400, Top-5: 0.514300\n",
      "offset: 150 size: 150\n",
      "offset: 2400 size: 2400\n",
      "dataset has 10000 samples\n"
     ]
    },
    {
     "name": "stderr",
     "output_type": "stream",
     "text": [
      "Loss: 2.3012, Acc: 0.099000, Top-5: 0.514300: 100%|██████████| 250/250 [00:18<00:00, 13.80batch/s]\n"
     ]
    },
    {
     "name": "stdout",
     "output_type": "stream",
     "text": [
      "Loss: 2.3012, Acc: 0.099000, Top-5: 0.514300\n",
      "offset: 150 size: 150\n",
      "offset: 2400 size: 2400\n",
      "dataset has 10000 samples\n"
     ]
    },
    {
     "name": "stderr",
     "output_type": "stream",
     "text": [
      "Loss: 2.2985, Acc: 0.102200, Top-5: 0.516900: 100%|██████████| 250/250 [00:16<00:00, 14.88batch/s]\n"
     ]
    },
    {
     "name": "stdout",
     "output_type": "stream",
     "text": [
      "Loss: 2.2985, Acc: 0.102200, Top-5: 0.516900\n",
      "offset: 150 size: 150\n",
      "offset: 2400 size: 2400\n",
      "dataset has 10000 samples\n"
     ]
    },
    {
     "name": "stderr",
     "output_type": "stream",
     "text": [
      "Loss: 2.2943, Acc: 0.105400, Top-5: 0.522000: 100%|██████████| 250/250 [00:16<00:00, 14.97batch/s]\n"
     ]
    },
    {
     "name": "stdout",
     "output_type": "stream",
     "text": [
      "Loss: 2.2943, Acc: 0.105400, Top-5: 0.522000\n",
      "offset: 150 size: 150\n",
      "offset: 2400 size: 2400\n",
      "dataset has 10000 samples\n"
     ]
    },
    {
     "name": "stderr",
     "output_type": "stream",
     "text": [
      "Loss: 2.2832, Acc: 0.115800, Top-5: 0.533400: 100%|██████████| 250/250 [00:16<00:00, 14.83batch/s]\n"
     ]
    },
    {
     "name": "stdout",
     "output_type": "stream",
     "text": [
      "Loss: 2.2832, Acc: 0.115800, Top-5: 0.533400\n",
      "offset: 150 size: 150\n",
      "offset: 2400 size: 2400\n",
      "dataset has 10000 samples\n"
     ]
    },
    {
     "name": "stderr",
     "output_type": "stream",
     "text": [
      "Loss: 2.2584, Acc: 0.135700, Top-5: 0.563600: 100%|██████████| 250/250 [00:17<00:00, 14.42batch/s]\n"
     ]
    },
    {
     "name": "stdout",
     "output_type": "stream",
     "text": [
      "Loss: 2.2584, Acc: 0.135700, Top-5: 0.563600\n",
      "offset: 150 size: 150\n",
      "offset: 2400 size: 2400\n",
      "dataset has 10000 samples\n"
     ]
    },
    {
     "name": "stderr",
     "output_type": "stream",
     "text": [
      "Loss: 2.2184, Acc: 0.157400, Top-5: 0.615800: 100%|██████████| 250/250 [00:16<00:00, 14.82batch/s]\n"
     ]
    },
    {
     "name": "stdout",
     "output_type": "stream",
     "text": [
      "Loss: 2.2184, Acc: 0.157400, Top-5: 0.615800\n",
      "offset: 150 size: 150\n",
      "offset: 2400 size: 2400\n",
      "dataset has 10000 samples\n"
     ]
    },
    {
     "name": "stderr",
     "output_type": "stream",
     "text": [
      "Loss: 2.1939, Acc: 0.172700, Top-5: 0.638200: 100%|██████████| 250/250 [00:16<00:00, 14.93batch/s]\n"
     ]
    },
    {
     "name": "stdout",
     "output_type": "stream",
     "text": [
      "Loss: 2.1939, Acc: 0.172700, Top-5: 0.638200\n",
      "offset: 150 size: 150\n",
      "offset: 2400 size: 2400\n",
      "dataset has 10000 samples\n"
     ]
    },
    {
     "name": "stderr",
     "output_type": "stream",
     "text": [
      "Loss: 2.1502, Acc: 0.197400, Top-5: 0.684000: 100%|██████████| 250/250 [00:17<00:00, 14.66batch/s]\n"
     ]
    },
    {
     "name": "stdout",
     "output_type": "stream",
     "text": [
      "Loss: 2.1502, Acc: 0.197400, Top-5: 0.684000\n",
      "offset: 150 size: 150\n",
      "offset: 2400 size: 2400\n",
      "dataset has 10000 samples\n"
     ]
    },
    {
     "name": "stderr",
     "output_type": "stream",
     "text": [
      "Loss: 2.0618, Acc: 0.257300, Top-5: 0.740300: 100%|██████████| 250/250 [00:17<00:00, 14.66batch/s]\n"
     ]
    },
    {
     "name": "stdout",
     "output_type": "stream",
     "text": [
      "Loss: 2.0618, Acc: 0.257300, Top-5: 0.740300\n",
      "offset: 150 size: 150\n",
      "offset: 2400 size: 2400\n",
      "dataset has 10000 samples\n"
     ]
    },
    {
     "name": "stderr",
     "output_type": "stream",
     "text": [
      "Loss: 1.9382, Acc: 0.341200, Top-5: 0.791200: 100%|██████████| 250/250 [00:16<00:00, 14.94batch/s]\n"
     ]
    },
    {
     "name": "stdout",
     "output_type": "stream",
     "text": [
      "Loss: 1.9382, Acc: 0.341200, Top-5: 0.791200\n",
      "offset: 150 size: 150\n",
      "offset: 2400 size: 2400\n",
      "dataset has 10000 samples\n"
     ]
    },
    {
     "name": "stderr",
     "output_type": "stream",
     "text": [
      "Loss: 1.7638, Acc: 0.448900, Top-5: 0.836300: 100%|██████████| 250/250 [00:16<00:00, 14.75batch/s]\n"
     ]
    },
    {
     "name": "stdout",
     "output_type": "stream",
     "text": [
      "Loss: 1.7638, Acc: 0.448900, Top-5: 0.836300\n",
      "offset: 150 size: 150\n",
      "offset: 2400 size: 2400\n",
      "dataset has 10000 samples\n"
     ]
    },
    {
     "name": "stderr",
     "output_type": "stream",
     "text": [
      "Loss: 1.5395, Acc: 0.585100, Top-5: 0.899500: 100%|██████████| 250/250 [00:16<00:00, 14.72batch/s]\n"
     ]
    },
    {
     "name": "stdout",
     "output_type": "stream",
     "text": [
      "Loss: 1.5395, Acc: 0.585100, Top-5: 0.899500\n",
      "offset: 150 size: 150\n",
      "offset: 2400 size: 2400\n",
      "dataset has 10000 samples\n"
     ]
    },
    {
     "name": "stderr",
     "output_type": "stream",
     "text": [
      "Loss: 1.2123, Acc: 0.699200, Top-5: 0.945100: 100%|██████████| 250/250 [00:16<00:00, 14.85batch/s]\n"
     ]
    },
    {
     "name": "stdout",
     "output_type": "stream",
     "text": [
      "Loss: 1.2123, Acc: 0.699200, Top-5: 0.945100\n",
      "offset: 150 size: 150\n",
      "offset: 2400 size: 2400\n",
      "dataset has 10000 samples\n"
     ]
    },
    {
     "name": "stderr",
     "output_type": "stream",
     "text": [
      "Loss: 0.8530, Acc: 0.792400, Top-5: 0.975100: 100%|██████████| 250/250 [00:17<00:00, 14.57batch/s]\n"
     ]
    },
    {
     "name": "stdout",
     "output_type": "stream",
     "text": [
      "Loss: 0.8530, Acc: 0.792400, Top-5: 0.975100\n",
      "offset: 150 size: 150\n",
      "offset: 2400 size: 2400\n",
      "dataset has 10000 samples\n"
     ]
    },
    {
     "name": "stderr",
     "output_type": "stream",
     "text": [
      "Loss: 0.5759, Acc: 0.858500, Top-5: 0.985900: 100%|██████████| 250/250 [00:16<00:00, 14.87batch/s]\n"
     ]
    },
    {
     "name": "stdout",
     "output_type": "stream",
     "text": [
      "Loss: 0.5759, Acc: 0.858500, Top-5: 0.985900\n",
      "offset: 150 size: 150\n",
      "offset: 2400 size: 2400\n",
      "dataset has 10000 samples\n"
     ]
    },
    {
     "name": "stderr",
     "output_type": "stream",
     "text": [
      "Loss: 0.3691, Acc: 0.905400, Top-5: 0.993400: 100%|██████████| 250/250 [00:16<00:00, 14.84batch/s]\n"
     ]
    },
    {
     "name": "stdout",
     "output_type": "stream",
     "text": [
      "Loss: 0.3691, Acc: 0.905400, Top-5: 0.993400\n",
      "offset: 150 size: 150\n",
      "offset: 2400 size: 2400\n",
      "dataset has 10000 samples\n"
     ]
    },
    {
     "name": "stderr",
     "output_type": "stream",
     "text": [
      "Loss: 0.2383, Acc: 0.933600, Top-5: 0.997300: 100%|██████████| 250/250 [00:17<00:00, 14.59batch/s]\n"
     ]
    },
    {
     "name": "stdout",
     "output_type": "stream",
     "text": [
      "Loss: 0.2383, Acc: 0.933600, Top-5: 0.997300\n",
      "offset: 150 size: 150\n",
      "offset: 2400 size: 2400\n",
      "dataset has 10000 samples\n"
     ]
    },
    {
     "name": "stderr",
     "output_type": "stream",
     "text": [
      "Loss: 0.1686, Acc: 0.950000, Top-5: 0.998300: 100%|██████████| 250/250 [00:17<00:00, 14.32batch/s]\n"
     ]
    },
    {
     "name": "stdout",
     "output_type": "stream",
     "text": [
      "Loss: 0.1686, Acc: 0.950000, Top-5: 0.998300\n",
      "offset: 150 size: 150\n",
      "offset: 2400 size: 2400\n",
      "dataset has 10000 samples\n"
     ]
    },
    {
     "name": "stderr",
     "output_type": "stream",
     "text": [
      "Loss: 0.1295, Acc: 0.960000, Top-5: 0.998500: 100%|██████████| 250/250 [00:16<00:00, 14.92batch/s]\n"
     ]
    },
    {
     "name": "stdout",
     "output_type": "stream",
     "text": [
      "Loss: 0.1295, Acc: 0.960000, Top-5: 0.998500\n",
      "offset: 150 size: 150\n",
      "offset: 2400 size: 2400\n",
      "dataset has 10000 samples\n"
     ]
    },
    {
     "name": "stderr",
     "output_type": "stream",
     "text": [
      "Loss: 0.0717, Acc: 0.977600, Top-5: 0.999800: 100%|██████████| 250/250 [00:17<00:00, 14.65batch/s]\n"
     ]
    },
    {
     "name": "stdout",
     "output_type": "stream",
     "text": [
      "Loss: 0.0717, Acc: 0.977600, Top-5: 0.999800\n",
      "offset: 150 size: 150\n",
      "offset: 2400 size: 2400\n",
      "dataset has 10000 samples\n"
     ]
    },
    {
     "name": "stderr",
     "output_type": "stream",
     "text": [
      "Loss: 0.0493, Acc: 0.986700, Top-5: 0.999900: 100%|██████████| 250/250 [00:17<00:00, 13.91batch/s]\n"
     ]
    },
    {
     "name": "stdout",
     "output_type": "stream",
     "text": [
      "Loss: 0.0493, Acc: 0.986700, Top-5: 0.999900\n",
      "offset: 150 size: 150\n",
      "offset: 2400 size: 2400\n",
      "dataset has 10000 samples\n"
     ]
    },
    {
     "name": "stderr",
     "output_type": "stream",
     "text": [
      "Loss: 0.0449, Acc: 0.987600, Top-5: 0.999900: 100%|██████████| 250/250 [00:17<00:00, 14.32batch/s]\n"
     ]
    },
    {
     "name": "stdout",
     "output_type": "stream",
     "text": [
      "Loss: 0.0449, Acc: 0.987600, Top-5: 0.999900\n",
      "offset: 150 size: 150\n",
      "offset: 2400 size: 2400\n",
      "dataset has 10000 samples\n"
     ]
    },
    {
     "name": "stderr",
     "output_type": "stream",
     "text": [
      "Loss: 0.0414, Acc: 0.988500, Top-5: 0.999900: 100%|██████████| 250/250 [00:17<00:00, 14.48batch/s]\n"
     ]
    },
    {
     "name": "stdout",
     "output_type": "stream",
     "text": [
      "Loss: 0.0414, Acc: 0.988500, Top-5: 0.999900\n",
      "offset: 150 size: 150\n",
      "offset: 2400 size: 2400\n",
      "dataset has 10000 samples\n"
     ]
    },
    {
     "name": "stderr",
     "output_type": "stream",
     "text": [
      "Loss: 0.0329, Acc: 0.990900, Top-5: 1.000000: 100%|██████████| 250/250 [00:17<00:00, 14.38batch/s]\n"
     ]
    },
    {
     "name": "stdout",
     "output_type": "stream",
     "text": [
      "Loss: 0.0329, Acc: 0.990900, Top-5: 1.000000\n",
      "offset: 150 size: 150\n",
      "offset: 2400 size: 2400\n",
      "dataset has 10000 samples\n"
     ]
    },
    {
     "name": "stderr",
     "output_type": "stream",
     "text": [
      "Loss: 0.0320, Acc: 0.991600, Top-5: 1.000000: 100%|██████████| 250/250 [00:19<00:00, 12.98batch/s]\n"
     ]
    },
    {
     "name": "stdout",
     "output_type": "stream",
     "text": [
      "Loss: 0.0320, Acc: 0.991600, Top-5: 1.000000\n",
      "offset: 150 size: 150\n",
      "offset: 2400 size: 2400\n",
      "dataset has 10000 samples\n"
     ]
    },
    {
     "name": "stderr",
     "output_type": "stream",
     "text": [
      "Loss: 0.0730, Acc: 0.977400, Top-5: 1.000000: 100%|██████████| 250/250 [00:17<00:00, 14.65batch/s]\n"
     ]
    },
    {
     "name": "stdout",
     "output_type": "stream",
     "text": [
      "Loss: 0.0730, Acc: 0.977400, Top-5: 1.000000\n",
      "offset: 150 size: 150\n",
      "offset: 2400 size: 2400\n",
      "dataset has 10000 samples\n"
     ]
    },
    {
     "name": "stderr",
     "output_type": "stream",
     "text": [
      "Loss: 0.0925, Acc: 0.972600, Top-5: 0.999900: 100%|██████████| 250/250 [00:17<00:00, 14.66batch/s]\n"
     ]
    },
    {
     "name": "stdout",
     "output_type": "stream",
     "text": [
      "Loss: 0.0925, Acc: 0.972600, Top-5: 0.999900\n",
      "offset: 150 size: 150\n",
      "offset: 2400 size: 2400\n",
      "dataset has 10000 samples\n"
     ]
    },
    {
     "name": "stderr",
     "output_type": "stream",
     "text": [
      "Loss: 0.1749, Acc: 0.951300, Top-5: 0.999800: 100%|██████████| 250/250 [00:17<00:00, 14.64batch/s]\n"
     ]
    },
    {
     "name": "stdout",
     "output_type": "stream",
     "text": [
      "Loss: 0.1749, Acc: 0.951300, Top-5: 0.999800\n",
      "offset: 150 size: 150\n",
      "offset: 2400 size: 2400\n",
      "dataset has 10000 samples\n"
     ]
    },
    {
     "name": "stderr",
     "output_type": "stream",
     "text": [
      "Loss: 0.1747, Acc: 0.950200, Top-5: 0.999600: 100%|██████████| 250/250 [00:17<00:00, 14.68batch/s]\n"
     ]
    },
    {
     "name": "stdout",
     "output_type": "stream",
     "text": [
      "Loss: 0.1747, Acc: 0.950200, Top-5: 0.999600\n",
      "offset: 150 size: 150\n",
      "offset: 2400 size: 2400\n",
      "dataset has 10000 samples\n"
     ]
    },
    {
     "name": "stderr",
     "output_type": "stream",
     "text": [
      "Loss: 0.2887, Acc: 0.924500, Top-5: 0.999700: 100%|██████████| 250/250 [00:16<00:00, 14.97batch/s]\n"
     ]
    },
    {
     "name": "stdout",
     "output_type": "stream",
     "text": [
      "Loss: 0.2887, Acc: 0.924500, Top-5: 0.999700\n",
      "offset: 150 size: 150\n",
      "offset: 2400 size: 2400\n",
      "dataset has 10000 samples\n"
     ]
    },
    {
     "name": "stderr",
     "output_type": "stream",
     "text": [
      "Loss: 0.4200, Acc: 0.901100, Top-5: 0.999600: 100%|██████████| 250/250 [00:16<00:00, 14.94batch/s]\n"
     ]
    },
    {
     "name": "stdout",
     "output_type": "stream",
     "text": [
      "Loss: 0.4200, Acc: 0.901100, Top-5: 0.999600\n",
      "offset: 150 size: 150\n",
      "offset: 2400 size: 2400\n",
      "dataset has 10000 samples\n"
     ]
    },
    {
     "name": "stderr",
     "output_type": "stream",
     "text": [
      "Loss: 0.8369, Acc: 0.817400, Top-5: 0.999300: 100%|██████████| 250/250 [00:17<00:00, 14.69batch/s]\n"
     ]
    },
    {
     "name": "stdout",
     "output_type": "stream",
     "text": [
      "Loss: 0.8369, Acc: 0.817400, Top-5: 0.999300\n",
      "offset: 150 size: 150\n",
      "offset: 2400 size: 2400\n",
      "dataset has 10000 samples\n"
     ]
    },
    {
     "name": "stderr",
     "output_type": "stream",
     "text": [
      "Loss: 1.1382, Acc: 0.782100, Top-5: 0.999100: 100%|██████████| 250/250 [00:17<00:00, 14.39batch/s]\n"
     ]
    },
    {
     "name": "stdout",
     "output_type": "stream",
     "text": [
      "Loss: 1.1382, Acc: 0.782100, Top-5: 0.999100\n",
      "offset: 150 size: 150\n",
      "offset: 2400 size: 2400\n",
      "dataset has 10000 samples\n"
     ]
    },
    {
     "name": "stderr",
     "output_type": "stream",
     "text": [
      "Loss: 1.4768, Acc: 0.747400, Top-5: 0.999000: 100%|██████████| 250/250 [00:16<00:00, 14.96batch/s]\n"
     ]
    },
    {
     "name": "stdout",
     "output_type": "stream",
     "text": [
      "Loss: 1.4768, Acc: 0.747400, Top-5: 0.999000\n",
      "offset: 150 size: 150\n",
      "offset: 2400 size: 2400\n",
      "dataset has 10000 samples\n"
     ]
    },
    {
     "name": "stderr",
     "output_type": "stream",
     "text": [
      "Loss: 5.5363, Acc: 0.517200, Top-5: 0.945500: 100%|██████████| 250/250 [00:17<00:00, 14.40batch/s]\n"
     ]
    },
    {
     "name": "stdout",
     "output_type": "stream",
     "text": [
      "Loss: 5.5363, Acc: 0.517200, Top-5: 0.945500\n",
      "offset: 150 size: 150\n",
      "offset: 2400 size: 2400\n",
      "dataset has 10000 samples\n"
     ]
    },
    {
     "name": "stderr",
     "output_type": "stream",
     "text": [
      "Loss: 6.1592, Acc: 0.487300, Top-5: 0.945300: 100%|██████████| 250/250 [00:19<00:00, 12.90batch/s]\n"
     ]
    },
    {
     "name": "stdout",
     "output_type": "stream",
     "text": [
      "Loss: 6.1592, Acc: 0.487300, Top-5: 0.945300\n",
      "offset: 150 size: 150\n",
      "offset: 2400 size: 2400\n",
      "dataset has 10000 samples\n"
     ]
    },
    {
     "name": "stderr",
     "output_type": "stream",
     "text": [
      "Loss: 6.7677, Acc: 0.465900, Top-5: 0.931700: 100%|██████████| 250/250 [00:16<00:00, 14.72batch/s]\n"
     ]
    },
    {
     "name": "stdout",
     "output_type": "stream",
     "text": [
      "Loss: 6.7677, Acc: 0.465900, Top-5: 0.931700\n",
      "offset: 150 size: 150\n",
      "offset: 2400 size: 2400\n",
      "dataset has 10000 samples\n"
     ]
    },
    {
     "name": "stderr",
     "output_type": "stream",
     "text": [
      "Loss: 6.7054, Acc: 0.414700, Top-5: 0.931400: 100%|██████████| 250/250 [00:17<00:00, 14.66batch/s]\n"
     ]
    },
    {
     "name": "stdout",
     "output_type": "stream",
     "text": [
      "Loss: 6.7054, Acc: 0.414700, Top-5: 0.931400\n",
      "offset: 150 size: 150\n",
      "offset: 2400 size: 2400\n",
      "dataset has 10000 samples\n"
     ]
    },
    {
     "name": "stderr",
     "output_type": "stream",
     "text": [
      "Loss: 7.3959, Acc: 0.392100, Top-5: 0.926200: 100%|██████████| 250/250 [00:17<00:00, 14.69batch/s]\n"
     ]
    },
    {
     "name": "stdout",
     "output_type": "stream",
     "text": [
      "Loss: 7.3959, Acc: 0.392100, Top-5: 0.926200\n",
      "offset: 150 size: 150\n",
      "offset: 2400 size: 2400\n",
      "dataset has 10000 samples\n"
     ]
    },
    {
     "name": "stderr",
     "output_type": "stream",
     "text": [
      "Loss: 8.1145, Acc: 0.367900, Top-5: 0.925400: 100%|██████████| 250/250 [00:17<00:00, 14.69batch/s]\n"
     ]
    },
    {
     "name": "stdout",
     "output_type": "stream",
     "text": [
      "Loss: 8.1145, Acc: 0.367900, Top-5: 0.925400\n",
      "offset: 150 size: 150\n",
      "offset: 2400 size: 2400\n",
      "dataset has 10000 samples\n"
     ]
    },
    {
     "name": "stderr",
     "output_type": "stream",
     "text": [
      "Loss: 8.7190, Acc: 0.347700, Top-5: 0.913600: 100%|██████████| 250/250 [00:16<00:00, 14.90batch/s]\n"
     ]
    },
    {
     "name": "stdout",
     "output_type": "stream",
     "text": [
      "Loss: 8.7190, Acc: 0.347700, Top-5: 0.913600\n",
      "offset: 150 size: 150\n",
      "offset: 2400 size: 2400\n",
      "dataset has 10000 samples\n"
     ]
    },
    {
     "name": "stderr",
     "output_type": "stream",
     "text": [
      "Loss: 9.6458, Acc: 0.323600, Top-5: 0.903300: 100%|██████████| 250/250 [00:17<00:00, 14.38batch/s]\n"
     ]
    },
    {
     "name": "stdout",
     "output_type": "stream",
     "text": [
      "Loss: 9.6458, Acc: 0.323600, Top-5: 0.903300\n",
      "offset: 150 size: 150\n",
      "offset: 2400 size: 2400\n",
      "dataset has 10000 samples\n"
     ]
    },
    {
     "name": "stderr",
     "output_type": "stream",
     "text": [
      "Loss: 11.6471, Acc: 0.267900, Top-5: 0.847200: 100%|██████████| 250/250 [00:16<00:00, 14.72batch/s]\n"
     ]
    },
    {
     "name": "stdout",
     "output_type": "stream",
     "text": [
      "Loss: 11.6471, Acc: 0.267900, Top-5: 0.847200\n",
      "offset: 150 size: 150\n",
      "offset: 2400 size: 2400\n",
      "dataset has 10000 samples\n"
     ]
    },
    {
     "name": "stderr",
     "output_type": "stream",
     "text": [
      "Loss: 13.1705, Acc: 0.247200, Top-5: 0.830200: 100%|██████████| 250/250 [00:16<00:00, 14.73batch/s]\n"
     ]
    },
    {
     "name": "stdout",
     "output_type": "stream",
     "text": [
      "Loss: 13.1705, Acc: 0.247200, Top-5: 0.830200\n",
      "offset: 150 size: 150\n",
      "offset: 2400 size: 2400\n",
      "dataset has 10000 samples\n"
     ]
    },
    {
     "name": "stderr",
     "output_type": "stream",
     "text": [
      "Loss: 13.0669, Acc: 0.262600, Top-5: 0.830500: 100%|██████████| 250/250 [00:17<00:00, 14.60batch/s]\n"
     ]
    },
    {
     "name": "stdout",
     "output_type": "stream",
     "text": [
      "Loss: 13.0669, Acc: 0.262600, Top-5: 0.830500\n",
      "offset: 150 size: 150\n",
      "offset: 2400 size: 2400\n",
      "dataset has 10000 samples\n"
     ]
    },
    {
     "name": "stderr",
     "output_type": "stream",
     "text": [
      "Loss: 13.7613, Acc: 0.255700, Top-5: 0.826000: 100%|██████████| 250/250 [00:17<00:00, 14.68batch/s]\n"
     ]
    },
    {
     "name": "stdout",
     "output_type": "stream",
     "text": [
      "Loss: 13.7613, Acc: 0.255700, Top-5: 0.826000\n",
      "offset: 150 size: 150\n",
      "offset: 2400 size: 2400\n",
      "dataset has 10000 samples\n"
     ]
    },
    {
     "name": "stderr",
     "output_type": "stream",
     "text": [
      "Loss: 14.9198, Acc: 0.228400, Top-5: 0.803300: 100%|██████████| 250/250 [00:16<00:00, 14.91batch/s]\n"
     ]
    },
    {
     "name": "stdout",
     "output_type": "stream",
     "text": [
      "Loss: 14.9198, Acc: 0.228400, Top-5: 0.803300\n",
      "offset: 150 size: 150\n",
      "offset: 2400 size: 2400\n",
      "dataset has 10000 samples\n"
     ]
    },
    {
     "name": "stderr",
     "output_type": "stream",
     "text": [
      "Loss: 15.4127, Acc: 0.226900, Top-5: 0.793500: 100%|██████████| 250/250 [00:17<00:00, 14.65batch/s]\n"
     ]
    },
    {
     "name": "stdout",
     "output_type": "stream",
     "text": [
      "Loss: 15.4127, Acc: 0.226900, Top-5: 0.793500\n",
      "offset: 150 size: 150\n",
      "offset: 2400 size: 2400\n",
      "dataset has 10000 samples\n"
     ]
    },
    {
     "name": "stderr",
     "output_type": "stream",
     "text": [
      "Loss: 18.4157, Acc: 0.198600, Top-5: 0.770400: 100%|██████████| 250/250 [00:16<00:00, 14.91batch/s]\n"
     ]
    },
    {
     "name": "stdout",
     "output_type": "stream",
     "text": [
      "Loss: 18.4157, Acc: 0.198600, Top-5: 0.770400\n",
      "offset: 150 size: 150\n",
      "offset: 2400 size: 2400\n",
      "dataset has 10000 samples\n"
     ]
    },
    {
     "name": "stderr",
     "output_type": "stream",
     "text": [
      "Loss: 20.8998, Acc: 0.189100, Top-5: 0.753500: 100%|██████████| 250/250 [00:16<00:00, 14.72batch/s]\n"
     ]
    },
    {
     "name": "stdout",
     "output_type": "stream",
     "text": [
      "Loss: 20.8998, Acc: 0.189100, Top-5: 0.753500\n",
      "offset: 150 size: 150\n",
      "offset: 2400 size: 2400\n",
      "dataset has 10000 samples\n"
     ]
    },
    {
     "name": "stderr",
     "output_type": "stream",
     "text": [
      "Loss: 21.5300, Acc: 0.193300, Top-5: 0.725100: 100%|██████████| 250/250 [00:16<00:00, 14.94batch/s]\n"
     ]
    },
    {
     "name": "stdout",
     "output_type": "stream",
     "text": [
      "Loss: 21.5300, Acc: 0.193300, Top-5: 0.725100\n",
      "offset: 150 size: 150\n",
      "offset: 2400 size: 2400\n",
      "dataset has 10000 samples\n"
     ]
    },
    {
     "name": "stderr",
     "output_type": "stream",
     "text": [
      "Loss: 27.5294, Acc: 0.178700, Top-5: 0.691900: 100%|██████████| 250/250 [00:17<00:00, 14.31batch/s]\n"
     ]
    },
    {
     "name": "stdout",
     "output_type": "stream",
     "text": [
      "Loss: 27.5294, Acc: 0.178700, Top-5: 0.691900\n",
      "offset: 150 size: 150\n",
      "offset: 2400 size: 2400\n",
      "dataset has 10000 samples\n"
     ]
    },
    {
     "name": "stderr",
     "output_type": "stream",
     "text": [
      "Loss: 28.4315, Acc: 0.178700, Top-5: 0.685000: 100%|██████████| 250/250 [00:17<00:00, 14.34batch/s]\n"
     ]
    },
    {
     "name": "stdout",
     "output_type": "stream",
     "text": [
      "Loss: 28.4315, Acc: 0.178700, Top-5: 0.685000\n",
      "offset: 150 size: 150\n",
      "offset: 2400 size: 2400\n",
      "dataset has 10000 samples\n"
     ]
    },
    {
     "name": "stderr",
     "output_type": "stream",
     "text": [
      "Loss: 27.5076, Acc: 0.184700, Top-5: 0.672700: 100%|██████████| 250/250 [00:17<00:00, 14.69batch/s]\n"
     ]
    },
    {
     "name": "stdout",
     "output_type": "stream",
     "text": [
      "Loss: 27.5076, Acc: 0.184700, Top-5: 0.672700\n",
      "offset: 150 size: 150\n",
      "offset: 2400 size: 2400\n",
      "dataset has 10000 samples\n"
     ]
    },
    {
     "name": "stderr",
     "output_type": "stream",
     "text": [
      "Loss: 28.0713, Acc: 0.183900, Top-5: 0.671500: 100%|██████████| 250/250 [00:16<00:00, 14.72batch/s]\n"
     ]
    },
    {
     "name": "stdout",
     "output_type": "stream",
     "text": [
      "Loss: 28.0713, Acc: 0.183900, Top-5: 0.671500\n",
      "offset: 150 size: 150\n",
      "offset: 2400 size: 2400\n",
      "dataset has 10000 samples\n"
     ]
    },
    {
     "name": "stderr",
     "output_type": "stream",
     "text": [
      "Loss: 28.9589, Acc: 0.183800, Top-5: 0.668500: 100%|██████████| 250/250 [00:17<00:00, 14.12batch/s]\n"
     ]
    },
    {
     "name": "stdout",
     "output_type": "stream",
     "text": [
      "Loss: 28.9589, Acc: 0.183800, Top-5: 0.668500\n",
      "offset: 150 size: 150\n",
      "offset: 2400 size: 2400\n",
      "dataset has 10000 samples\n"
     ]
    },
    {
     "name": "stderr",
     "output_type": "stream",
     "text": [
      "Loss: 29.5335, Acc: 0.183700, Top-5: 0.666000: 100%|██████████| 250/250 [00:18<00:00, 13.32batch/s]\n"
     ]
    },
    {
     "name": "stdout",
     "output_type": "stream",
     "text": [
      "Loss: 29.5335, Acc: 0.183700, Top-5: 0.666000\n",
      "offset: 150 size: 150\n",
      "offset: 2400 size: 2400\n",
      "dataset has 10000 samples\n"
     ]
    },
    {
     "name": "stderr",
     "output_type": "stream",
     "text": [
      "Loss: 30.4188, Acc: 0.180500, Top-5: 0.659000: 100%|██████████| 250/250 [00:13<00:00, 18.14batch/s]\n"
     ]
    },
    {
     "name": "stdout",
     "output_type": "stream",
     "text": [
      "Loss: 30.4188, Acc: 0.180500, Top-5: 0.659000\n",
      "offset: 150 size: 150\n",
      "offset: 2400 size: 2400\n",
      "dataset has 10000 samples\n"
     ]
    },
    {
     "name": "stderr",
     "output_type": "stream",
     "text": [
      "Loss: 31.0397, Acc: 0.180100, Top-5: 0.655100: 100%|██████████| 250/250 [00:18<00:00, 13.21batch/s]\n"
     ]
    },
    {
     "name": "stdout",
     "output_type": "stream",
     "text": [
      "Loss: 31.0397, Acc: 0.180100, Top-5: 0.655100\n",
      "offset: 150 size: 150\n",
      "offset: 2400 size: 2400\n",
      "dataset has 10000 samples\n"
     ]
    },
    {
     "name": "stderr",
     "output_type": "stream",
     "text": [
      "Loss: 36.5522, Acc: 0.176000, Top-5: 0.651800: 100%|██████████| 250/250 [00:14<00:00, 17.73batch/s]\n"
     ]
    },
    {
     "name": "stdout",
     "output_type": "stream",
     "text": [
      "Loss: 36.5522, Acc: 0.176000, Top-5: 0.651800\n",
      "offset: 150 size: 150\n",
      "offset: 2400 size: 2400\n",
      "dataset has 10000 samples\n"
     ]
    },
    {
     "name": "stderr",
     "output_type": "stream",
     "text": [
      "Loss: 36.9221, Acc: 0.167700, Top-5: 0.634200: 100%|██████████| 250/250 [00:13<00:00, 17.87batch/s]\n"
     ]
    },
    {
     "name": "stdout",
     "output_type": "stream",
     "text": [
      "Loss: 36.9221, Acc: 0.167700, Top-5: 0.634200\n",
      "offset: 150 size: 150\n",
      "offset: 2400 size: 2400\n",
      "dataset has 10000 samples\n"
     ]
    },
    {
     "name": "stderr",
     "output_type": "stream",
     "text": [
      "Loss: 37.6799, Acc: 0.166800, Top-5: 0.627700: 100%|██████████| 250/250 [00:15<00:00, 16.53batch/s]\n"
     ]
    },
    {
     "name": "stdout",
     "output_type": "stream",
     "text": [
      "Loss: 37.6799, Acc: 0.166800, Top-5: 0.627700\n",
      "offset: 150 size: 150\n",
      "offset: 2400 size: 2400\n",
      "dataset has 10000 samples\n"
     ]
    },
    {
     "name": "stderr",
     "output_type": "stream",
     "text": [
      "Loss: 39.0891, Acc: 0.159000, Top-5: 0.628500: 100%|██████████| 250/250 [00:13<00:00, 18.74batch/s]\n"
     ]
    },
    {
     "name": "stdout",
     "output_type": "stream",
     "text": [
      "Loss: 39.0891, Acc: 0.159000, Top-5: 0.628500\n",
      "offset: 150 size: 150\n",
      "offset: 2400 size: 2400\n",
      "dataset has 10000 samples\n"
     ]
    },
    {
     "name": "stderr",
     "output_type": "stream",
     "text": [
      "Loss: 38.4821, Acc: 0.164400, Top-5: 0.597900: 100%|██████████| 250/250 [00:13<00:00, 18.63batch/s]\n"
     ]
    },
    {
     "name": "stdout",
     "output_type": "stream",
     "text": [
      "Loss: 38.4821, Acc: 0.164400, Top-5: 0.597900\n",
      "offset: 150 size: 150\n",
      "offset: 2400 size: 2400\n",
      "dataset has 10000 samples\n"
     ]
    },
    {
     "name": "stderr",
     "output_type": "stream",
     "text": [
      "Loss: 39.4610, Acc: 0.161100, Top-5: 0.586700: 100%|██████████| 250/250 [00:13<00:00, 18.67batch/s]\n"
     ]
    },
    {
     "name": "stdout",
     "output_type": "stream",
     "text": [
      "Loss: 39.4610, Acc: 0.161100, Top-5: 0.586700\n",
      "offset: 150 size: 150\n",
      "offset: 2400 size: 2400\n",
      "dataset has 10000 samples\n"
     ]
    },
    {
     "name": "stderr",
     "output_type": "stream",
     "text": [
      "Loss: 38.7742, Acc: 0.161100, Top-5: 0.588200: 100%|██████████| 250/250 [00:13<00:00, 18.80batch/s]\n"
     ]
    },
    {
     "name": "stdout",
     "output_type": "stream",
     "text": [
      "Loss: 38.7742, Acc: 0.161100, Top-5: 0.588200\n",
      "offset: 150 size: 150\n",
      "offset: 2400 size: 2400\n",
      "dataset has 10000 samples\n"
     ]
    },
    {
     "name": "stderr",
     "output_type": "stream",
     "text": [
      "Loss: 38.2359, Acc: 0.159500, Top-5: 0.584700: 100%|██████████| 250/250 [00:13<00:00, 18.62batch/s]\n"
     ]
    },
    {
     "name": "stdout",
     "output_type": "stream",
     "text": [
      "Loss: 38.2359, Acc: 0.159500, Top-5: 0.584700\n",
      "offset: 150 size: 150\n",
      "offset: 2400 size: 2400\n",
      "dataset has 10000 samples\n"
     ]
    },
    {
     "name": "stderr",
     "output_type": "stream",
     "text": [
      "Loss: 38.4398, Acc: 0.158100, Top-5: 0.581300: 100%|██████████| 250/250 [00:13<00:00, 18.98batch/s]\n"
     ]
    },
    {
     "name": "stdout",
     "output_type": "stream",
     "text": [
      "Loss: 38.4398, Acc: 0.158100, Top-5: 0.581300\n",
      "offset: 150 size: 150\n",
      "offset: 2400 size: 2400\n",
      "dataset has 10000 samples\n"
     ]
    },
    {
     "name": "stderr",
     "output_type": "stream",
     "text": [
      "Loss: 38.8866, Acc: 0.159700, Top-5: 0.573500: 100%|██████████| 250/250 [00:13<00:00, 19.02batch/s]\n"
     ]
    },
    {
     "name": "stdout",
     "output_type": "stream",
     "text": [
      "Loss: 38.8866, Acc: 0.159700, Top-5: 0.573500\n",
      "offset: 150 size: 150\n",
      "offset: 2400 size: 2400\n",
      "dataset has 10000 samples\n"
     ]
    },
    {
     "name": "stderr",
     "output_type": "stream",
     "text": [
      "Loss: 38.8126, Acc: 0.161000, Top-5: 0.559000: 100%|██████████| 250/250 [00:13<00:00, 19.03batch/s]\n"
     ]
    },
    {
     "name": "stdout",
     "output_type": "stream",
     "text": [
      "Loss: 38.8126, Acc: 0.161000, Top-5: 0.559000\n",
      "offset: 150 size: 150\n",
      "offset: 2400 size: 2400\n",
      "dataset has 10000 samples\n"
     ]
    },
    {
     "name": "stderr",
     "output_type": "stream",
     "text": [
      "Loss: 42.3043, Acc: 0.151900, Top-5: 0.525400: 100%|██████████| 250/250 [00:13<00:00, 18.68batch/s]\n"
     ]
    },
    {
     "name": "stdout",
     "output_type": "stream",
     "text": [
      "Loss: 42.3043, Acc: 0.151900, Top-5: 0.525400\n",
      "offset: 150 size: 150\n",
      "offset: 2400 size: 2400\n",
      "dataset has 10000 samples\n"
     ]
    },
    {
     "name": "stderr",
     "output_type": "stream",
     "text": [
      "Loss: 41.5026, Acc: 0.153800, Top-5: 0.525100: 100%|██████████| 250/250 [00:13<00:00, 18.18batch/s]\n"
     ]
    },
    {
     "name": "stdout",
     "output_type": "stream",
     "text": [
      "Loss: 41.5026, Acc: 0.153800, Top-5: 0.525100\n",
      "offset: 150 size: 150\n",
      "offset: 2400 size: 2400\n",
      "dataset has 10000 samples\n"
     ]
    },
    {
     "name": "stderr",
     "output_type": "stream",
     "text": [
      "Loss: 42.1554, Acc: 0.148500, Top-5: 0.499200: 100%|██████████| 250/250 [00:13<00:00, 18.75batch/s]\n"
     ]
    },
    {
     "name": "stdout",
     "output_type": "stream",
     "text": [
      "Loss: 42.1554, Acc: 0.148500, Top-5: 0.499200\n",
      "offset: 150 size: 150\n",
      "offset: 2400 size: 2400\n",
      "dataset has 10000 samples\n"
     ]
    },
    {
     "name": "stderr",
     "output_type": "stream",
     "text": [
      "Loss: 45.3770, Acc: 0.162200, Top-5: 0.529300: 100%|██████████| 250/250 [00:13<00:00, 18.04batch/s]\n"
     ]
    },
    {
     "name": "stdout",
     "output_type": "stream",
     "text": [
      "Loss: 45.3770, Acc: 0.162200, Top-5: 0.529300\n",
      "offset: 150 size: 150\n",
      "offset: 2400 size: 2400\n",
      "dataset has 10000 samples\n"
     ]
    },
    {
     "name": "stderr",
     "output_type": "stream",
     "text": [
      "Loss: 45.7256, Acc: 0.158800, Top-5: 0.528200: 100%|██████████| 250/250 [00:13<00:00, 19.02batch/s]\n"
     ]
    },
    {
     "name": "stdout",
     "output_type": "stream",
     "text": [
      "Loss: 45.7256, Acc: 0.158800, Top-5: 0.528200\n",
      "offset: 150 size: 150\n",
      "offset: 2400 size: 2400\n",
      "dataset has 10000 samples\n"
     ]
    },
    {
     "name": "stderr",
     "output_type": "stream",
     "text": [
      "Loss: 45.6441, Acc: 0.159000, Top-5: 0.503200: 100%|██████████| 250/250 [00:13<00:00, 18.78batch/s]\n"
     ]
    },
    {
     "name": "stdout",
     "output_type": "stream",
     "text": [
      "Loss: 45.6441, Acc: 0.159000, Top-5: 0.503200\n",
      "offset: 150 size: 150\n",
      "offset: 2400 size: 2400\n",
      "dataset has 10000 samples\n"
     ]
    },
    {
     "name": "stderr",
     "output_type": "stream",
     "text": [
      "Loss: 46.9051, Acc: 0.158000, Top-5: 0.517700: 100%|██████████| 250/250 [00:13<00:00, 18.30batch/s]\n"
     ]
    },
    {
     "name": "stdout",
     "output_type": "stream",
     "text": [
      "Loss: 46.9051, Acc: 0.158000, Top-5: 0.517700\n",
      "offset: 150 size: 150\n",
      "offset: 2400 size: 2400\n",
      "dataset has 10000 samples\n"
     ]
    },
    {
     "name": "stderr",
     "output_type": "stream",
     "text": [
      "Loss: 48.7168, Acc: 0.152300, Top-5: 0.523100: 100%|██████████| 250/250 [00:13<00:00, 18.83batch/s]\n"
     ]
    },
    {
     "name": "stdout",
     "output_type": "stream",
     "text": [
      "Loss: 48.7168, Acc: 0.152300, Top-5: 0.523100\n",
      "offset: 150 size: 150\n",
      "offset: 2400 size: 2400\n",
      "dataset has 10000 samples\n"
     ]
    },
    {
     "name": "stderr",
     "output_type": "stream",
     "text": [
      "Loss: 48.2134, Acc: 0.146300, Top-5: 0.519900: 100%|██████████| 250/250 [00:13<00:00, 19.02batch/s]\n"
     ]
    },
    {
     "name": "stdout",
     "output_type": "stream",
     "text": [
      "Loss: 48.2134, Acc: 0.146300, Top-5: 0.519900\n",
      "offset: 150 size: 150\n",
      "offset: 2400 size: 2400\n",
      "dataset has 10000 samples\n"
     ]
    },
    {
     "name": "stderr",
     "output_type": "stream",
     "text": [
      "Loss: 48.2370, Acc: 0.138600, Top-5: 0.512700: 100%|██████████| 250/250 [00:13<00:00, 18.57batch/s]\n"
     ]
    },
    {
     "name": "stdout",
     "output_type": "stream",
     "text": [
      "Loss: 48.2370, Acc: 0.138600, Top-5: 0.512700\n",
      "offset: 150 size: 150\n",
      "offset: 2400 size: 2400\n",
      "dataset has 10000 samples\n"
     ]
    },
    {
     "name": "stderr",
     "output_type": "stream",
     "text": [
      "Loss: 48.5945, Acc: 0.130400, Top-5: 0.501500: 100%|██████████| 250/250 [00:14<00:00, 17.82batch/s]\n"
     ]
    },
    {
     "name": "stdout",
     "output_type": "stream",
     "text": [
      "Loss: 48.5945, Acc: 0.130400, Top-5: 0.501500\n",
      "offset: 150 size: 150\n",
      "offset: 2400 size: 2400\n",
      "dataset has 10000 samples\n"
     ]
    },
    {
     "name": "stderr",
     "output_type": "stream",
     "text": [
      "Loss: 48.6692, Acc: 0.124900, Top-5: 0.497200: 100%|██████████| 250/250 [00:13<00:00, 18.66batch/s]\n"
     ]
    },
    {
     "name": "stdout",
     "output_type": "stream",
     "text": [
      "Loss: 48.6692, Acc: 0.124900, Top-5: 0.497200\n",
      "offset: 150 size: 150\n",
      "offset: 2400 size: 2400\n",
      "dataset has 10000 samples\n"
     ]
    },
    {
     "name": "stderr",
     "output_type": "stream",
     "text": [
      "Loss: 50.9765, Acc: 0.117700, Top-5: 0.493500: 100%|██████████| 250/250 [00:13<00:00, 18.82batch/s]\n"
     ]
    },
    {
     "name": "stdout",
     "output_type": "stream",
     "text": [
      "Loss: 50.9765, Acc: 0.117700, Top-5: 0.493500\n",
      "offset: 150 size: 150\n",
      "offset: 2400 size: 2400\n",
      "dataset has 10000 samples\n"
     ]
    },
    {
     "name": "stderr",
     "output_type": "stream",
     "text": [
      "Loss: 49.7126, Acc: 0.137100, Top-5: 0.517200: 100%|██████████| 250/250 [00:13<00:00, 19.11batch/s]\n"
     ]
    },
    {
     "name": "stdout",
     "output_type": "stream",
     "text": [
      "Loss: 49.7126, Acc: 0.137100, Top-5: 0.517200\n",
      "offset: 150 size: 150\n",
      "offset: 2400 size: 2400\n",
      "dataset has 10000 samples\n"
     ]
    },
    {
     "name": "stderr",
     "output_type": "stream",
     "text": [
      "Loss: 48.5744, Acc: 0.140700, Top-5: 0.509400: 100%|██████████| 250/250 [00:13<00:00, 18.98batch/s]\n"
     ]
    },
    {
     "name": "stdout",
     "output_type": "stream",
     "text": [
      "Loss: 48.5744, Acc: 0.140700, Top-5: 0.509400\n",
      "offset: 150 size: 150\n",
      "offset: 2400 size: 2400\n",
      "dataset has 10000 samples\n"
     ]
    },
    {
     "name": "stderr",
     "output_type": "stream",
     "text": [
      "Loss: 47.4515, Acc: 0.137500, Top-5: 0.517400: 100%|██████████| 250/250 [00:13<00:00, 18.48batch/s]\n"
     ]
    },
    {
     "name": "stdout",
     "output_type": "stream",
     "text": [
      "Loss: 47.4515, Acc: 0.137500, Top-5: 0.517400\n",
      "offset: 150 size: 150\n",
      "offset: 2400 size: 2400\n",
      "dataset has 10000 samples\n"
     ]
    },
    {
     "name": "stderr",
     "output_type": "stream",
     "text": [
      "Loss: 48.6627, Acc: 0.124000, Top-5: 0.505200: 100%|██████████| 250/250 [00:13<00:00, 18.64batch/s]\n"
     ]
    },
    {
     "name": "stdout",
     "output_type": "stream",
     "text": [
      "Loss: 48.6627, Acc: 0.124000, Top-5: 0.505200\n",
      "offset: 150 size: 150\n",
      "offset: 2400 size: 2400\n",
      "dataset has 10000 samples\n"
     ]
    },
    {
     "name": "stderr",
     "output_type": "stream",
     "text": [
      "Loss: 49.0315, Acc: 0.129700, Top-5: 0.520500: 100%|██████████| 250/250 [00:13<00:00, 19.03batch/s]\n"
     ]
    },
    {
     "name": "stdout",
     "output_type": "stream",
     "text": [
      "Loss: 49.0315, Acc: 0.129700, Top-5: 0.520500\n",
      "offset: 150 size: 150\n",
      "offset: 2400 size: 2400\n",
      "dataset has 10000 samples\n"
     ]
    },
    {
     "name": "stderr",
     "output_type": "stream",
     "text": [
      "Loss: 49.4290, Acc: 0.119500, Top-5: 0.545100: 100%|██████████| 250/250 [00:13<00:00, 19.12batch/s]\n"
     ]
    },
    {
     "name": "stdout",
     "output_type": "stream",
     "text": [
      "Loss: 49.4290, Acc: 0.119500, Top-5: 0.545100\n",
      "offset: 150 size: 150\n",
      "offset: 2400 size: 2400\n",
      "dataset has 10000 samples\n"
     ]
    },
    {
     "name": "stderr",
     "output_type": "stream",
     "text": [
      "Loss: 50.5309, Acc: 0.109100, Top-5: 0.572000: 100%|██████████| 250/250 [00:13<00:00, 19.09batch/s]\n"
     ]
    },
    {
     "name": "stdout",
     "output_type": "stream",
     "text": [
      "Loss: 50.5309, Acc: 0.109100, Top-5: 0.572000\n",
      "offset: 150 size: 150\n",
      "offset: 2400 size: 2400\n",
      "dataset has 10000 samples\n"
     ]
    },
    {
     "name": "stderr",
     "output_type": "stream",
     "text": [
      "Loss: 49.5580, Acc: 0.100800, Top-5: 0.552900: 100%|██████████| 250/250 [00:13<00:00, 18.78batch/s]\n"
     ]
    },
    {
     "name": "stdout",
     "output_type": "stream",
     "text": [
      "Loss: 49.5580, Acc: 0.100800, Top-5: 0.552900\n",
      "offset: 150 size: 150\n",
      "offset: 2400 size: 2400\n",
      "dataset has 10000 samples\n"
     ]
    },
    {
     "name": "stderr",
     "output_type": "stream",
     "text": [
      "Loss: 49.1618, Acc: 0.088700, Top-5: 0.549900: 100%|██████████| 250/250 [00:13<00:00, 18.52batch/s]\n"
     ]
    },
    {
     "name": "stdout",
     "output_type": "stream",
     "text": [
      "Loss: 49.1618, Acc: 0.088700, Top-5: 0.549900\n",
      "offset: 150 size: 150\n",
      "offset: 2400 size: 2400\n",
      "dataset has 10000 samples\n"
     ]
    },
    {
     "name": "stderr",
     "output_type": "stream",
     "text": [
      "Loss: 47.5233, Acc: 0.100800, Top-5: 0.562400: 100%|██████████| 250/250 [00:13<00:00, 18.65batch/s]\n"
     ]
    },
    {
     "name": "stdout",
     "output_type": "stream",
     "text": [
      "Loss: 47.5233, Acc: 0.100800, Top-5: 0.562400\n",
      "offset: 150 size: 150\n",
      "offset: 2400 size: 2400\n",
      "dataset has 10000 samples\n"
     ]
    },
    {
     "name": "stderr",
     "output_type": "stream",
     "text": [
      "Loss: 47.9760, Acc: 0.101800, Top-5: 0.551800: 100%|██████████| 250/250 [00:13<00:00, 18.46batch/s]\n"
     ]
    },
    {
     "name": "stdout",
     "output_type": "stream",
     "text": [
      "Loss: 47.9760, Acc: 0.101800, Top-5: 0.551800\n",
      "offset: 150 size: 150\n",
      "offset: 2400 size: 2400\n",
      "dataset has 10000 samples\n"
     ]
    },
    {
     "name": "stderr",
     "output_type": "stream",
     "text": [
      "Loss: 47.1621, Acc: 0.095500, Top-5: 0.577500: 100%|██████████| 250/250 [00:13<00:00, 18.54batch/s]\n"
     ]
    },
    {
     "name": "stdout",
     "output_type": "stream",
     "text": [
      "Loss: 47.1621, Acc: 0.095500, Top-5: 0.577500\n",
      "offset: 150 size: 150\n",
      "offset: 2400 size: 2400\n",
      "dataset has 10000 samples\n"
     ]
    },
    {
     "name": "stderr",
     "output_type": "stream",
     "text": [
      "Loss: 47.1656, Acc: 0.100400, Top-5: 0.574500: 100%|██████████| 250/250 [00:13<00:00, 19.03batch/s]\n"
     ]
    },
    {
     "name": "stdout",
     "output_type": "stream",
     "text": [
      "Loss: 47.1656, Acc: 0.100400, Top-5: 0.574500\n",
      "offset: 150 size: 150\n",
      "offset: 2400 size: 2400\n",
      "dataset has 10000 samples\n"
     ]
    },
    {
     "name": "stderr",
     "output_type": "stream",
     "text": [
      "Loss: 47.1579, Acc: 0.099000, Top-5: 0.562600: 100%|██████████| 250/250 [00:13<00:00, 19.05batch/s]\n"
     ]
    },
    {
     "name": "stdout",
     "output_type": "stream",
     "text": [
      "Loss: 47.1579, Acc: 0.099000, Top-5: 0.562600\n",
      "offset: 150 size: 150\n",
      "offset: 2400 size: 2400\n",
      "dataset has 10000 samples\n"
     ]
    },
    {
     "name": "stderr",
     "output_type": "stream",
     "text": [
      "Loss: 46.1680, Acc: 0.102300, Top-5: 0.561500: 100%|██████████| 250/250 [00:13<00:00, 18.54batch/s]\n"
     ]
    },
    {
     "name": "stdout",
     "output_type": "stream",
     "text": [
      "Loss: 46.1680, Acc: 0.102300, Top-5: 0.561500\n",
      "offset: 150 size: 150\n",
      "offset: 2400 size: 2400\n",
      "dataset has 10000 samples\n"
     ]
    },
    {
     "name": "stderr",
     "output_type": "stream",
     "text": [
      "Loss: 45.5950, Acc: 0.104300, Top-5: 0.553900: 100%|██████████| 250/250 [00:13<00:00, 19.03batch/s]\n"
     ]
    },
    {
     "name": "stdout",
     "output_type": "stream",
     "text": [
      "Loss: 45.5950, Acc: 0.104300, Top-5: 0.553900\n",
      "offset: 150 size: 150\n",
      "offset: 2400 size: 2400\n",
      "dataset has 10000 samples\n"
     ]
    },
    {
     "name": "stderr",
     "output_type": "stream",
     "text": [
      "Loss: 45.4972, Acc: 0.104700, Top-5: 0.555700: 100%|██████████| 250/250 [00:13<00:00, 18.61batch/s]\n"
     ]
    },
    {
     "name": "stdout",
     "output_type": "stream",
     "text": [
      "Loss: 45.4972, Acc: 0.104700, Top-5: 0.555700\n",
      "offset: 150 size: 150\n",
      "offset: 2400 size: 2400\n",
      "dataset has 10000 samples\n"
     ]
    },
    {
     "name": "stderr",
     "output_type": "stream",
     "text": [
      "Loss: 45.4069, Acc: 0.107200, Top-5: 0.558700: 100%|██████████| 250/250 [00:13<00:00, 18.77batch/s]\n"
     ]
    },
    {
     "name": "stdout",
     "output_type": "stream",
     "text": [
      "Loss: 45.4069, Acc: 0.107200, Top-5: 0.558700\n",
      "offset: 150 size: 150\n",
      "offset: 2400 size: 2400\n",
      "dataset has 10000 samples\n"
     ]
    },
    {
     "name": "stderr",
     "output_type": "stream",
     "text": [
      "Loss: 50.3873, Acc: 0.104300, Top-5: 0.571500: 100%|██████████| 250/250 [00:13<00:00, 18.65batch/s]\n"
     ]
    },
    {
     "name": "stdout",
     "output_type": "stream",
     "text": [
      "Loss: 50.3873, Acc: 0.104300, Top-5: 0.571500\n",
      "offset: 150 size: 150\n",
      "offset: 2400 size: 2400\n",
      "dataset has 10000 samples\n"
     ]
    },
    {
     "name": "stderr",
     "output_type": "stream",
     "text": [
      "Loss: 51.6322, Acc: 0.105500, Top-5: 0.566400: 100%|██████████| 250/250 [00:13<00:00, 18.28batch/s]\n"
     ]
    },
    {
     "name": "stdout",
     "output_type": "stream",
     "text": [
      "Loss: 51.6322, Acc: 0.105500, Top-5: 0.566400\n",
      "offset: 150 size: 150\n",
      "offset: 2400 size: 2400\n",
      "dataset has 10000 samples\n"
     ]
    },
    {
     "name": "stderr",
     "output_type": "stream",
     "text": [
      "Loss: 51.9723, Acc: 0.101400, Top-5: 0.560600: 100%|██████████| 250/250 [00:13<00:00, 19.04batch/s]\n"
     ]
    },
    {
     "name": "stdout",
     "output_type": "stream",
     "text": [
      "Loss: 51.9723, Acc: 0.101400, Top-5: 0.560600\n",
      "offset: 150 size: 150\n",
      "offset: 2400 size: 2400\n",
      "dataset has 10000 samples\n"
     ]
    },
    {
     "name": "stderr",
     "output_type": "stream",
     "text": [
      "Loss: 52.0919, Acc: 0.108300, Top-5: 0.547900: 100%|██████████| 250/250 [00:13<00:00, 18.97batch/s]\n"
     ]
    },
    {
     "name": "stdout",
     "output_type": "stream",
     "text": [
      "Loss: 52.0919, Acc: 0.108300, Top-5: 0.547900\n",
      "offset: 150 size: 150\n",
      "offset: 2400 size: 2400\n",
      "dataset has 10000 samples\n"
     ]
    },
    {
     "name": "stderr",
     "output_type": "stream",
     "text": [
      "Loss: 51.4713, Acc: 0.112100, Top-5: 0.530000: 100%|██████████| 250/250 [00:13<00:00, 18.82batch/s]\n"
     ]
    },
    {
     "name": "stdout",
     "output_type": "stream",
     "text": [
      "Loss: 51.4713, Acc: 0.112100, Top-5: 0.530000\n",
      "offset: 150 size: 150\n",
      "offset: 2400 size: 2400\n",
      "dataset has 10000 samples\n"
     ]
    },
    {
     "name": "stderr",
     "output_type": "stream",
     "text": [
      "Loss: 50.1633, Acc: 0.111800, Top-5: 0.526000: 100%|██████████| 250/250 [00:13<00:00, 19.02batch/s]\n"
     ]
    },
    {
     "name": "stdout",
     "output_type": "stream",
     "text": [
      "Loss: 50.1633, Acc: 0.111800, Top-5: 0.526000\n",
      "offset: 150 size: 150\n",
      "offset: 2400 size: 2400\n",
      "dataset has 10000 samples\n"
     ]
    },
    {
     "name": "stderr",
     "output_type": "stream",
     "text": [
      "Loss: 50.2508, Acc: 0.111400, Top-5: 0.523100: 100%|██████████| 250/250 [00:13<00:00, 18.80batch/s]\n"
     ]
    },
    {
     "name": "stdout",
     "output_type": "stream",
     "text": [
      "Loss: 50.2508, Acc: 0.111400, Top-5: 0.523100\n",
      "offset: 150 size: 150\n",
      "offset: 2400 size: 2400\n",
      "dataset has 10000 samples\n"
     ]
    },
    {
     "name": "stderr",
     "output_type": "stream",
     "text": [
      "Loss: 53.5794, Acc: 0.113700, Top-5: 0.520100: 100%|██████████| 250/250 [00:13<00:00, 18.83batch/s]\n"
     ]
    },
    {
     "name": "stdout",
     "output_type": "stream",
     "text": [
      "Loss: 53.5794, Acc: 0.113700, Top-5: 0.520100\n",
      "offset: 150 size: 150\n",
      "offset: 2400 size: 2400\n",
      "dataset has 10000 samples\n"
     ]
    },
    {
     "name": "stderr",
     "output_type": "stream",
     "text": [
      "Loss: 53.3658, Acc: 0.115000, Top-5: 0.526500: 100%|██████████| 250/250 [00:13<00:00, 19.07batch/s]\n"
     ]
    },
    {
     "name": "stdout",
     "output_type": "stream",
     "text": [
      "Loss: 53.3658, Acc: 0.115000, Top-5: 0.526500\n",
      "offset: 150 size: 150\n",
      "offset: 2400 size: 2400\n",
      "dataset has 10000 samples\n"
     ]
    },
    {
     "name": "stderr",
     "output_type": "stream",
     "text": [
      "Loss: 52.6344, Acc: 0.116200, Top-5: 0.526800: 100%|██████████| 250/250 [00:13<00:00, 19.04batch/s]\n"
     ]
    },
    {
     "name": "stdout",
     "output_type": "stream",
     "text": [
      "Loss: 52.6344, Acc: 0.116200, Top-5: 0.526800\n",
      "offset: 150 size: 150\n",
      "offset: 2400 size: 2400\n",
      "dataset has 10000 samples\n"
     ]
    },
    {
     "name": "stderr",
     "output_type": "stream",
     "text": [
      "Loss: 52.3583, Acc: 0.114700, Top-5: 0.523100: 100%|██████████| 250/250 [00:13<00:00, 18.57batch/s]\n"
     ]
    },
    {
     "name": "stdout",
     "output_type": "stream",
     "text": [
      "Loss: 52.3583, Acc: 0.114700, Top-5: 0.523100\n",
      "offset: 150 size: 150\n",
      "offset: 2400 size: 2400\n",
      "dataset has 10000 samples\n"
     ]
    },
    {
     "name": "stderr",
     "output_type": "stream",
     "text": [
      "Loss: 51.5916, Acc: 0.106900, Top-5: 0.505800: 100%|██████████| 250/250 [00:13<00:00, 18.90batch/s]\n"
     ]
    },
    {
     "name": "stdout",
     "output_type": "stream",
     "text": [
      "Loss: 51.5916, Acc: 0.106900, Top-5: 0.505800\n",
      "offset: 150 size: 150\n",
      "offset: 2400 size: 2400\n",
      "dataset has 10000 samples\n"
     ]
    },
    {
     "name": "stderr",
     "output_type": "stream",
     "text": [
      "Loss: 50.5805, Acc: 0.105200, Top-5: 0.494600: 100%|██████████| 250/250 [00:13<00:00, 19.03batch/s]\n"
     ]
    },
    {
     "name": "stdout",
     "output_type": "stream",
     "text": [
      "Loss: 50.5805, Acc: 0.105200, Top-5: 0.494600\n",
      "offset: 150 size: 150\n",
      "offset: 2400 size: 2400\n",
      "dataset has 10000 samples\n"
     ]
    },
    {
     "name": "stderr",
     "output_type": "stream",
     "text": [
      "Loss: 48.1391, Acc: 0.099900, Top-5: 0.502200: 100%|██████████| 250/250 [00:13<00:00, 18.80batch/s]\n"
     ]
    },
    {
     "name": "stdout",
     "output_type": "stream",
     "text": [
      "Loss: 48.1391, Acc: 0.099900, Top-5: 0.502200\n",
      "offset: 150 size: 150\n",
      "offset: 2400 size: 2400\n",
      "dataset has 10000 samples\n"
     ]
    },
    {
     "name": "stderr",
     "output_type": "stream",
     "text": [
      "Loss: 48.0592, Acc: 0.088500, Top-5: 0.492300: 100%|██████████| 250/250 [00:17<00:00, 14.25batch/s]\n"
     ]
    },
    {
     "name": "stdout",
     "output_type": "stream",
     "text": [
      "Loss: 48.0592, Acc: 0.088500, Top-5: 0.492300\n",
      "offset: 150 size: 150\n",
      "offset: 2400 size: 2400\n",
      "dataset has 10000 samples\n"
     ]
    },
    {
     "name": "stderr",
     "output_type": "stream",
     "text": [
      "Loss: 52.7852, Acc: 0.086400, Top-5: 0.470000: 100%|██████████| 250/250 [00:14<00:00, 17.21batch/s]\n"
     ]
    },
    {
     "name": "stdout",
     "output_type": "stream",
     "text": [
      "Loss: 52.7852, Acc: 0.086400, Top-5: 0.470000\n",
      "offset: 150 size: 150\n",
      "offset: 2400 size: 2400\n",
      "dataset has 10000 samples\n"
     ]
    },
    {
     "name": "stderr",
     "output_type": "stream",
     "text": [
      "Loss: 51.3320, Acc: 0.092200, Top-5: 0.482700: 100%|██████████| 250/250 [00:14<00:00, 17.35batch/s]\n"
     ]
    },
    {
     "name": "stdout",
     "output_type": "stream",
     "text": [
      "Loss: 51.3320, Acc: 0.092200, Top-5: 0.482700\n",
      "offset: 150 size: 150\n",
      "offset: 2400 size: 2400\n",
      "dataset has 10000 samples\n"
     ]
    },
    {
     "name": "stderr",
     "output_type": "stream",
     "text": [
      "Loss: 48.0410, Acc: 0.101800, Top-5: 0.499800: 100%|██████████| 250/250 [00:14<00:00, 16.93batch/s]\n"
     ]
    },
    {
     "name": "stdout",
     "output_type": "stream",
     "text": [
      "Loss: 48.0410, Acc: 0.101800, Top-5: 0.499800\n",
      "offset: 150 size: 150\n",
      "offset: 2400 size: 2400\n",
      "dataset has 10000 samples\n"
     ]
    },
    {
     "name": "stderr",
     "output_type": "stream",
     "text": [
      "Loss: 46.7675, Acc: 0.094800, Top-5: 0.501500: 100%|██████████| 250/250 [00:13<00:00, 18.26batch/s]\n"
     ]
    },
    {
     "name": "stdout",
     "output_type": "stream",
     "text": [
      "Loss: 46.7675, Acc: 0.094800, Top-5: 0.501500\n",
      "offset: 150 size: 150\n",
      "offset: 2400 size: 2400\n",
      "dataset has 10000 samples\n"
     ]
    },
    {
     "name": "stderr",
     "output_type": "stream",
     "text": [
      "Loss: 47.9580, Acc: 0.095500, Top-5: 0.489100: 100%|██████████| 250/250 [00:13<00:00, 18.12batch/s]\n"
     ]
    },
    {
     "name": "stdout",
     "output_type": "stream",
     "text": [
      "Loss: 47.9580, Acc: 0.095500, Top-5: 0.489100\n",
      "offset: 150 size: 150\n",
      "offset: 2400 size: 2400\n",
      "dataset has 10000 samples\n"
     ]
    },
    {
     "name": "stderr",
     "output_type": "stream",
     "text": [
      "Loss: 47.0799, Acc: 0.096400, Top-5: 0.491300: 100%|██████████| 250/250 [00:13<00:00, 18.76batch/s]\n"
     ]
    },
    {
     "name": "stdout",
     "output_type": "stream",
     "text": [
      "Loss: 47.0799, Acc: 0.096400, Top-5: 0.491300\n",
      "offset: 150 size: 150\n",
      "offset: 2400 size: 2400\n",
      "dataset has 10000 samples\n"
     ]
    },
    {
     "name": "stderr",
     "output_type": "stream",
     "text": [
      "Loss: 44.7135, Acc: 0.107600, Top-5: 0.493900: 100%|██████████| 250/250 [00:13<00:00, 19.04batch/s]\n"
     ]
    },
    {
     "name": "stdout",
     "output_type": "stream",
     "text": [
      "Loss: 44.7135, Acc: 0.107600, Top-5: 0.493900\n",
      "offset: 150 size: 150\n",
      "offset: 2400 size: 2400\n",
      "dataset has 10000 samples\n"
     ]
    },
    {
     "name": "stderr",
     "output_type": "stream",
     "text": [
      "Loss: 44.5235, Acc: 0.125300, Top-5: 0.498800: 100%|██████████| 250/250 [00:13<00:00, 18.92batch/s]\n"
     ]
    },
    {
     "name": "stdout",
     "output_type": "stream",
     "text": [
      "Loss: 44.5235, Acc: 0.125300, Top-5: 0.498800\n",
      "offset: 150 size: 150\n",
      "offset: 2400 size: 2400\n",
      "dataset has 10000 samples\n"
     ]
    },
    {
     "name": "stderr",
     "output_type": "stream",
     "text": [
      "Loss: 46.5021, Acc: 0.131500, Top-5: 0.503400: 100%|██████████| 250/250 [00:13<00:00, 18.96batch/s]\n"
     ]
    },
    {
     "name": "stdout",
     "output_type": "stream",
     "text": [
      "Loss: 46.5021, Acc: 0.131500, Top-5: 0.503400\n",
      "offset: 150 size: 150\n",
      "offset: 2400 size: 2400\n",
      "dataset has 10000 samples\n"
     ]
    },
    {
     "name": "stderr",
     "output_type": "stream",
     "text": [
      "Loss: 44.9715, Acc: 0.136600, Top-5: 0.506200: 100%|██████████| 250/250 [00:13<00:00, 18.31batch/s]\n"
     ]
    },
    {
     "name": "stdout",
     "output_type": "stream",
     "text": [
      "Loss: 44.9715, Acc: 0.136600, Top-5: 0.506200\n",
      "offset: 150 size: 150\n",
      "offset: 2400 size: 2400\n",
      "dataset has 10000 samples\n"
     ]
    },
    {
     "name": "stderr",
     "output_type": "stream",
     "text": [
      "Loss: 44.2176, Acc: 0.130100, Top-5: 0.500500: 100%|██████████| 250/250 [00:13<00:00, 18.02batch/s]\n"
     ]
    },
    {
     "name": "stdout",
     "output_type": "stream",
     "text": [
      "Loss: 44.2176, Acc: 0.130100, Top-5: 0.500500\n",
      "offset: 150 size: 150\n",
      "offset: 2400 size: 2400\n",
      "dataset has 10000 samples\n"
     ]
    },
    {
     "name": "stderr",
     "output_type": "stream",
     "text": [
      "Loss: 45.7793, Acc: 0.107500, Top-5: 0.506800: 100%|██████████| 250/250 [00:13<00:00, 18.96batch/s]\n"
     ]
    },
    {
     "name": "stdout",
     "output_type": "stream",
     "text": [
      "Loss: 45.7793, Acc: 0.107500, Top-5: 0.506800\n",
      "offset: 150 size: 150\n",
      "offset: 2400 size: 2400\n",
      "dataset has 10000 samples\n"
     ]
    },
    {
     "name": "stderr",
     "output_type": "stream",
     "text": [
      "Loss: 44.2075, Acc: 0.101500, Top-5: 0.504000: 100%|██████████| 250/250 [00:13<00:00, 18.61batch/s]\n"
     ]
    },
    {
     "name": "stdout",
     "output_type": "stream",
     "text": [
      "Loss: 44.2075, Acc: 0.101500, Top-5: 0.504000\n",
      "offset: 150 size: 150\n",
      "offset: 2400 size: 2400\n",
      "dataset has 10000 samples\n"
     ]
    },
    {
     "name": "stderr",
     "output_type": "stream",
     "text": [
      "Loss: 43.1811, Acc: 0.102000, Top-5: 0.506200: 100%|██████████| 250/250 [00:13<00:00, 18.64batch/s]\n"
     ]
    },
    {
     "name": "stdout",
     "output_type": "stream",
     "text": [
      "Loss: 43.1811, Acc: 0.102000, Top-5: 0.506200\n",
      "offset: 150 size: 150\n",
      "offset: 2400 size: 2400\n",
      "dataset has 10000 samples\n"
     ]
    },
    {
     "name": "stderr",
     "output_type": "stream",
     "text": [
      "Loss: 41.2516, Acc: 0.089100, Top-5: 0.504100: 100%|██████████| 250/250 [00:13<00:00, 18.54batch/s]\n"
     ]
    },
    {
     "name": "stdout",
     "output_type": "stream",
     "text": [
      "Loss: 41.2516, Acc: 0.089100, Top-5: 0.504100\n",
      "offset: 150 size: 150\n",
      "offset: 2400 size: 2400\n",
      "dataset has 10000 samples\n"
     ]
    },
    {
     "name": "stderr",
     "output_type": "stream",
     "text": [
      "Loss: 45.5877, Acc: 0.066700, Top-5: 0.505700: 100%|██████████| 250/250 [00:13<00:00, 19.05batch/s]\n"
     ]
    },
    {
     "name": "stdout",
     "output_type": "stream",
     "text": [
      "Loss: 45.5877, Acc: 0.066700, Top-5: 0.505700\n",
      "offset: 150 size: 150\n",
      "offset: 2400 size: 2400\n",
      "dataset has 10000 samples\n"
     ]
    },
    {
     "name": "stderr",
     "output_type": "stream",
     "text": [
      "Loss: 44.4638, Acc: 0.073700, Top-5: 0.503700: 100%|██████████| 250/250 [00:13<00:00, 18.95batch/s]\n"
     ]
    },
    {
     "name": "stdout",
     "output_type": "stream",
     "text": [
      "Loss: 44.4638, Acc: 0.073700, Top-5: 0.503700\n",
      "offset: 150 size: 150\n",
      "offset: 2400 size: 2400\n",
      "dataset has 10000 samples\n"
     ]
    },
    {
     "name": "stderr",
     "output_type": "stream",
     "text": [
      "Loss: 44.4367, Acc: 0.079400, Top-5: 0.502600: 100%|██████████| 250/250 [00:13<00:00, 18.71batch/s]\n"
     ]
    },
    {
     "name": "stdout",
     "output_type": "stream",
     "text": [
      "Loss: 44.4367, Acc: 0.079400, Top-5: 0.502600\n",
      "offset: 150 size: 150\n",
      "offset: 2400 size: 2400\n",
      "dataset has 10000 samples\n"
     ]
    },
    {
     "name": "stderr",
     "output_type": "stream",
     "text": [
      "Loss: 46.5117, Acc: 0.082300, Top-5: 0.502900: 100%|██████████| 250/250 [00:13<00:00, 18.86batch/s]\n"
     ]
    },
    {
     "name": "stdout",
     "output_type": "stream",
     "text": [
      "Loss: 46.5117, Acc: 0.082300, Top-5: 0.502900\n",
      "offset: 150 size: 150\n",
      "offset: 2400 size: 2400\n",
      "dataset has 10000 samples\n"
     ]
    },
    {
     "name": "stderr",
     "output_type": "stream",
     "text": [
      "Loss: 43.1291, Acc: 0.080100, Top-5: 0.502400: 100%|██████████| 250/250 [00:13<00:00, 19.05batch/s]\n"
     ]
    },
    {
     "name": "stdout",
     "output_type": "stream",
     "text": [
      "Loss: 43.1291, Acc: 0.080100, Top-5: 0.502400\n",
      "offset: 150 size: 150\n",
      "offset: 2400 size: 2400\n",
      "dataset has 10000 samples\n"
     ]
    },
    {
     "name": "stderr",
     "output_type": "stream",
     "text": [
      "Loss: 45.2341, Acc: 0.081000, Top-5: 0.502500: 100%|██████████| 250/250 [00:13<00:00, 18.06batch/s]\n"
     ]
    },
    {
     "name": "stdout",
     "output_type": "stream",
     "text": [
      "Loss: 45.2341, Acc: 0.081000, Top-5: 0.502500\n",
      "offset: 150 size: 150\n",
      "offset: 2400 size: 2400\n",
      "dataset has 10000 samples\n"
     ]
    },
    {
     "name": "stderr",
     "output_type": "stream",
     "text": [
      "Loss: 44.2568, Acc: 0.062900, Top-5: 0.502300: 100%|██████████| 250/250 [00:13<00:00, 18.58batch/s]\n"
     ]
    },
    {
     "name": "stdout",
     "output_type": "stream",
     "text": [
      "Loss: 44.2568, Acc: 0.062900, Top-5: 0.502300\n",
      "offset: 150 size: 150\n",
      "offset: 2400 size: 2400\n",
      "dataset has 10000 samples\n"
     ]
    },
    {
     "name": "stderr",
     "output_type": "stream",
     "text": [
      "Loss: 42.4222, Acc: 0.062000, Top-5: 0.501800: 100%|██████████| 250/250 [00:13<00:00, 18.56batch/s]\n"
     ]
    },
    {
     "name": "stdout",
     "output_type": "stream",
     "text": [
      "Loss: 42.4222, Acc: 0.062000, Top-5: 0.501800\n",
      "offset: 150 size: 150\n",
      "offset: 2400 size: 2400\n",
      "dataset has 10000 samples\n"
     ]
    },
    {
     "name": "stderr",
     "output_type": "stream",
     "text": [
      "Loss: 40.9543, Acc: 0.057500, Top-5: 0.501400: 100%|██████████| 250/250 [00:13<00:00, 18.75batch/s]\n"
     ]
    },
    {
     "name": "stdout",
     "output_type": "stream",
     "text": [
      "Loss: 40.9543, Acc: 0.057500, Top-5: 0.501400\n",
      "offset: 150 size: 150\n",
      "offset: 2400 size: 2400\n",
      "dataset has 10000 samples\n"
     ]
    },
    {
     "name": "stderr",
     "output_type": "stream",
     "text": [
      "Loss: 37.5681, Acc: 0.072200, Top-5: 0.502600: 100%|██████████| 250/250 [00:13<00:00, 18.93batch/s]\n"
     ]
    },
    {
     "name": "stdout",
     "output_type": "stream",
     "text": [
      "Loss: 37.5681, Acc: 0.072200, Top-5: 0.502600\n",
      "offset: 150 size: 150\n",
      "offset: 2400 size: 2400\n",
      "dataset has 10000 samples\n"
     ]
    },
    {
     "name": "stderr",
     "output_type": "stream",
     "text": [
      "Loss: 39.2430, Acc: 0.076500, Top-5: 0.502700: 100%|██████████| 250/250 [00:13<00:00, 18.80batch/s]\n"
     ]
    },
    {
     "name": "stdout",
     "output_type": "stream",
     "text": [
      "Loss: 39.2430, Acc: 0.076500, Top-5: 0.502700\n",
      "offset: 150 size: 150\n",
      "offset: 2400 size: 2400\n",
      "dataset has 10000 samples\n"
     ]
    },
    {
     "name": "stderr",
     "output_type": "stream",
     "text": [
      "Loss: 37.7255, Acc: 0.068500, Top-5: 0.502700: 100%|██████████| 250/250 [00:13<00:00, 18.78batch/s]\n"
     ]
    },
    {
     "name": "stdout",
     "output_type": "stream",
     "text": [
      "Loss: 37.7255, Acc: 0.068500, Top-5: 0.502700\n",
      "offset: 150 size: 150\n",
      "offset: 2400 size: 2400\n",
      "dataset has 10000 samples\n"
     ]
    },
    {
     "name": "stderr",
     "output_type": "stream",
     "text": [
      "Loss: 36.0446, Acc: 0.080900, Top-5: 0.502500: 100%|██████████| 250/250 [00:13<00:00, 18.92batch/s]\n"
     ]
    },
    {
     "name": "stdout",
     "output_type": "stream",
     "text": [
      "Loss: 36.0446, Acc: 0.080900, Top-5: 0.502500\n",
      "offset: 150 size: 150\n",
      "offset: 2400 size: 2400\n",
      "dataset has 10000 samples\n"
     ]
    },
    {
     "name": "stderr",
     "output_type": "stream",
     "text": [
      "Loss: 34.8590, Acc: 0.084800, Top-5: 0.502700: 100%|██████████| 250/250 [00:13<00:00, 18.92batch/s]\n"
     ]
    },
    {
     "name": "stdout",
     "output_type": "stream",
     "text": [
      "Loss: 34.8590, Acc: 0.084800, Top-5: 0.502700\n",
      "offset: 150 size: 150\n",
      "offset: 2400 size: 2400\n",
      "dataset has 10000 samples\n"
     ]
    },
    {
     "name": "stderr",
     "output_type": "stream",
     "text": [
      "Loss: 33.4173, Acc: 0.076200, Top-5: 0.504400: 100%|██████████| 250/250 [00:12<00:00, 19.51batch/s] \n"
     ]
    },
    {
     "name": "stdout",
     "output_type": "stream",
     "text": [
      "Loss: 33.4173, Acc: 0.076200, Top-5: 0.504400\n",
      "offset: 150 size: 150\n",
      "offset: 2400 size: 2400\n",
      "dataset has 10000 samples\n"
     ]
    },
    {
     "name": "stderr",
     "output_type": "stream",
     "text": [
      "Loss: 34.3655, Acc: 0.071900, Top-5: 0.508500: 100%|██████████| 250/250 [00:12<00:00, 19.51batch/s] \n"
     ]
    },
    {
     "name": "stdout",
     "output_type": "stream",
     "text": [
      "Loss: 34.3655, Acc: 0.071900, Top-5: 0.508500\n",
      "offset: 150 size: 150\n",
      "offset: 2400 size: 2400\n",
      "dataset has 10000 samples\n"
     ]
    },
    {
     "name": "stderr",
     "output_type": "stream",
     "text": [
      "Loss: 33.6409, Acc: 0.076200, Top-5: 0.504300: 100%|██████████| 250/250 [00:12<00:00, 20.05batch/s] \n"
     ]
    },
    {
     "name": "stdout",
     "output_type": "stream",
     "text": [
      "Loss: 33.6409, Acc: 0.076200, Top-5: 0.504300\n",
      "offset: 150 size: 150\n",
      "offset: 2400 size: 2400\n",
      "dataset has 10000 samples\n"
     ]
    },
    {
     "name": "stderr",
     "output_type": "stream",
     "text": [
      "Loss: 31.5391, Acc: 0.050200, Top-5: 0.522800: 100%|██████████| 250/250 [00:12<00:00, 19.95batch/s] \n"
     ]
    },
    {
     "name": "stdout",
     "output_type": "stream",
     "text": [
      "Loss: 31.5391, Acc: 0.050200, Top-5: 0.522800\n",
      "offset: 150 size: 150\n",
      "offset: 2400 size: 2400\n",
      "dataset has 10000 samples\n"
     ]
    },
    {
     "name": "stderr",
     "output_type": "stream",
     "text": [
      "Loss: 32.6356, Acc: 0.049800, Top-5: 0.514800: 100%|██████████| 250/250 [00:12<00:00, 19.85batch/s]\n"
     ]
    },
    {
     "name": "stdout",
     "output_type": "stream",
     "text": [
      "Loss: 32.6356, Acc: 0.049800, Top-5: 0.514800\n",
      "offset: 150 size: 150\n",
      "offset: 2400 size: 2400\n",
      "dataset has 10000 samples\n"
     ]
    },
    {
     "name": "stderr",
     "output_type": "stream",
     "text": [
      "Loss: 28.4465, Acc: 0.060800, Top-5: 0.524000: 100%|██████████| 250/250 [00:12<00:00, 19.66batch/s] "
     ]
    },
    {
     "name": "stdout",
     "output_type": "stream",
     "text": [
      "Loss: 28.4465, Acc: 0.060800, Top-5: 0.524000\n"
     ]
    },
    {
     "name": "stderr",
     "output_type": "stream",
     "text": [
      "\n"
     ]
    }
   ],
   "source": [
    "data = []\n",
    "# while not data or data[-1][2][1] >= 0.75:\n",
    "for e in range(-128, 127, 1):\n",
    "    adapter = BaseAdapter.load_base_model(\"qat_quantized_lenet\", \"qat.quantized_lenet.pth\")\n",
    "    assert isinstance(adapter, BaseAdapter)\n",
    "    for layer in [\"conv1\", \"conv2\"]:\n",
    "        weights = adapter.get_train_weights(layer)\n",
    "        combinations = FilterSelectorCombinations.all_weights(layer)\n",
    "        weights += e\n",
    "        adapter.inject_weights([weights.flatten()], combinations, inline=True)\n",
    "    top_k, avg_loss = adapter.evaluate(top=[1, 5], include_loss=True, num_workers=4, num_proc=1, batch_size=40)\n",
    "    data.append([e] + list(top_k.values()) + [avg_loss])\n",
    "    \n",
    "loaded = True\n",
    "    "
   ]
  },
  {
   "cell_type": "code",
   "execution_count": 2,
   "metadata": {},
   "outputs": [
    {
     "data": {
      "text/html": [
       "<div>\n",
       "<style scoped>\n",
       "    .dataframe tbody tr th:only-of-type {\n",
       "        vertical-align: middle;\n",
       "    }\n",
       "\n",
       "    .dataframe tbody tr th {\n",
       "        vertical-align: top;\n",
       "    }\n",
       "\n",
       "    .dataframe thead th {\n",
       "        text-align: right;\n",
       "    }\n",
       "</style>\n",
       "<table border=\"1\" class=\"dataframe\">\n",
       "  <thead>\n",
       "    <tr style=\"text-align: right;\">\n",
       "      <th></th>\n",
       "      <th>Error</th>\n",
       "      <th>Top-1</th>\n",
       "      <th>Top-5</th>\n",
       "      <th>Loss</th>\n",
       "      <th>Error Location</th>\n",
       "    </tr>\n",
       "  </thead>\n",
       "  <tbody>\n",
       "    <tr>\n",
       "      <th>0</th>\n",
       "      <td>-128</td>\n",
       "      <td>0.0995</td>\n",
       "      <td>0.4940</td>\n",
       "      <td>24.603077</td>\n",
       "      <td>Everywhere</td>\n",
       "    </tr>\n",
       "    <tr>\n",
       "      <th>1</th>\n",
       "      <td>-127</td>\n",
       "      <td>0.0879</td>\n",
       "      <td>0.5058</td>\n",
       "      <td>23.351225</td>\n",
       "      <td>Everywhere</td>\n",
       "    </tr>\n",
       "    <tr>\n",
       "      <th>2</th>\n",
       "      <td>-126</td>\n",
       "      <td>0.0654</td>\n",
       "      <td>0.5091</td>\n",
       "      <td>22.972109</td>\n",
       "      <td>Everywhere</td>\n",
       "    </tr>\n",
       "    <tr>\n",
       "      <th>3</th>\n",
       "      <td>-125</td>\n",
       "      <td>0.0325</td>\n",
       "      <td>0.4528</td>\n",
       "      <td>24.717680</td>\n",
       "      <td>Everywhere</td>\n",
       "    </tr>\n",
       "    <tr>\n",
       "      <th>4</th>\n",
       "      <td>-124</td>\n",
       "      <td>0.0677</td>\n",
       "      <td>0.4449</td>\n",
       "      <td>25.026743</td>\n",
       "      <td>Everywhere</td>\n",
       "    </tr>\n",
       "    <tr>\n",
       "      <th>...</th>\n",
       "      <td>...</td>\n",
       "      <td>...</td>\n",
       "      <td>...</td>\n",
       "      <td>...</td>\n",
       "      <td>...</td>\n",
       "    </tr>\n",
       "    <tr>\n",
       "      <th>250</th>\n",
       "      <td>122</td>\n",
       "      <td>0.1110</td>\n",
       "      <td>0.4500</td>\n",
       "      <td>13.728298</td>\n",
       "      <td>Kernel Core $3 \\times 3$</td>\n",
       "    </tr>\n",
       "    <tr>\n",
       "      <th>251</th>\n",
       "      <td>123</td>\n",
       "      <td>0.1114</td>\n",
       "      <td>0.4702</td>\n",
       "      <td>13.232191</td>\n",
       "      <td>Kernel Core $3 \\times 3$</td>\n",
       "    </tr>\n",
       "    <tr>\n",
       "      <th>252</th>\n",
       "      <td>124</td>\n",
       "      <td>0.1081</td>\n",
       "      <td>0.4727</td>\n",
       "      <td>13.635131</td>\n",
       "      <td>Kernel Core $3 \\times 3$</td>\n",
       "    </tr>\n",
       "    <tr>\n",
       "      <th>253</th>\n",
       "      <td>125</td>\n",
       "      <td>0.1058</td>\n",
       "      <td>0.4563</td>\n",
       "      <td>13.727593</td>\n",
       "      <td>Kernel Core $3 \\times 3$</td>\n",
       "    </tr>\n",
       "    <tr>\n",
       "      <th>254</th>\n",
       "      <td>126</td>\n",
       "      <td>0.1015</td>\n",
       "      <td>0.4331</td>\n",
       "      <td>11.365343</td>\n",
       "      <td>Kernel Core $3 \\times 3$</td>\n",
       "    </tr>\n",
       "  </tbody>\n",
       "</table>\n",
       "<p>766 rows × 5 columns</p>\n",
       "</div>"
      ],
      "text/plain": [
       "     Error   Top-1   Top-5       Loss            Error Location\n",
       "0     -128  0.0995  0.4940  24.603077                Everywhere\n",
       "1     -127  0.0879  0.5058  23.351225                Everywhere\n",
       "2     -126  0.0654  0.5091  22.972109                Everywhere\n",
       "3     -125  0.0325  0.4528  24.717680                Everywhere\n",
       "4     -124  0.0677  0.4449  25.026743                Everywhere\n",
       "..     ...     ...     ...        ...                       ...\n",
       "250    122  0.1110  0.4500  13.728298  Kernel Core $3 \\times 3$\n",
       "251    123  0.1114  0.4702  13.232191  Kernel Core $3 \\times 3$\n",
       "252    124  0.1081  0.4727  13.635131  Kernel Core $3 \\times 3$\n",
       "253    125  0.1058  0.4563  13.727593  Kernel Core $3 \\times 3$\n",
       "254    126  0.1015  0.4331  11.365343  Kernel Core $3 \\times 3$\n",
       "\n",
       "[766 rows x 5 columns]"
      ]
     },
     "execution_count": 2,
     "metadata": {},
     "output_type": "execute_result"
    }
   ],
   "source": [
    "if not loaded:\n",
    "    dfs = []\n",
    "    for file in [\"lenet.256.csv\", \"lenet.outter.256.csv\", \"lenet.inner.256.csv\"]:\n",
    "        x = pd.read_csv(data_store / file)\n",
    "        x[\"Error Location\"] = r\"Outside Kernel Core $3 \\times 3$\" if \"outter\" in file else r\"Kernel Core $3 \\times 3$\" if \"inner\" in file else \"Everywhere\"\n",
    "        dfs.append(x)\n",
    "        \n",
    "    df = pd.concat(dfs)\n",
    "    df.columns = df.columns.str.title()\n",
    "else:\n",
    "    file = \"lenet.256.test.csv\"\n",
    "    df = pd.DataFrame(data=data, columns=[\"error\", \"top-1\", \"top-5\", \"loss\"])\n",
    "    df[\"Type\"] = \"Outter-Test\" if \"outter\" in file else \"Inner-Test\" if \"inner\" in file else \"All-Test\"\n",
    "    df.to_csv(data_store / file, index=False)\n",
    "    reference_df = pd.read_csv(data_store / \"lenet.256.csv\") \n",
    "    reference_df[\"Type\"] = \"All\"\n",
    "    df = pd.concat([df, reference_df])\n",
    "df"
   ]
  },
  {
   "cell_type": "code",
   "execution_count": 4,
   "metadata": {},
   "outputs": [
    {
     "name": "stderr",
     "output_type": "stream",
     "text": [
      "c:\\Users\\Majo\\.conda\\envs\\masters\\Lib\\site-packages\\seaborn\\_oldcore.py:1119: FutureWarning: use_inf_as_na option is deprecated and will be removed in a future version. Convert inf values to NaN before operating instead.\n",
      "  with pd.option_context('mode.use_inf_as_na', True):\n",
      "c:\\Users\\Majo\\.conda\\envs\\masters\\Lib\\site-packages\\seaborn\\_oldcore.py:1119: FutureWarning: use_inf_as_na option is deprecated and will be removed in a future version. Convert inf values to NaN before operating instead.\n",
      "  with pd.option_context('mode.use_inf_as_na', True):\n"
     ]
    },
    {
     "data": {
      "image/png": "[encoded data removed]",
      "text/plain": [
       "<Figure size 413.5x400 with 1 Axes>"
      ]
     },
     "metadata": {},
     "output_type": "display_data"
    }
   ],
   "source": [
    "sns.set_theme(context=\"paper\", font=\"qhv\", style=\"whitegrid\", rc={\n",
    "    \"text.usetex\" : True,\n",
    "})\n",
    "\n",
    "df.columns = df.columns.str.title()\n",
    "def get_x(y_value: int, point_a, point_b):\n",
    "    x1, y1 = point_a\n",
    "    x2, y2 = point_b\n",
    "    x_hat = None\n",
    "    if y1 <= y_value <= y2 and y2 <= y_value <= y1:\n",
    "        m = (y2-y1) / (x2-x1)\n",
    "        b = y1 - m * x1\n",
    "        x_hat = (y_value - b) / m\n",
    "    \n",
    "    return x_hat\n",
    "        \n",
    "\n",
    "def plot_line(g, value, label, color=\"black\"):\n",
    "    x_min = float(\"inf\")\n",
    "    x_max = float(\"-inf\")\n",
    "    ax = g.axes\n",
    "    for line in g.axes.lines:\n",
    "        # for line in ax.lines:\n",
    "        x, y = line.get_data()\n",
    "        if isinstance(x, list) or x.size == 0 or y.size == 0: continue\n",
    "        \n",
    "        for a, b in zip(zip(x[0:-2], y[0:-2]), zip(x[1:], y[1:])):\n",
    "            x_hat = get_x(value, a, b)\n",
    "            \n",
    "            if x_hat is None:\n",
    "                continue\n",
    "            \n",
    "            x_min = min([x_min, x_hat])\n",
    "            x_max = max([x_max, x_hat])                    \n",
    "            \n",
    "    ax.text(x_min, value, f\" {x_min:.1f} ({label})\", ha=\"left\", va=\"top\", alpha=0.6)\n",
    "    ax.text(x_max, value, f\" {x_max:.1f} ({label})\", ha=\"left\", va=\"top\", alpha=0.6)\n",
    "    ax.axhline(value, linestyle=\"--\", color=color, linewidth=1, alpha=0.75)    \n",
    "    ax.scatter(x_min, value, color=color, alpha=0.75, marker=\"x\", linewidth=1)\n",
    "    ax.scatter(x_max, value, color=color, alpha=0.75, marker=\"x\", linewidth=1) \n",
    "\n",
    "filtered_df = df.copy()\n",
    "value_vars = [\"Top-1\"]\n",
    "y = \"Accuracy\"\n",
    "plot_df = pd.melt(filtered_df, id_vars=[\"Error\", \"Error Location\"], value_vars=value_vars, var_name=\"Metric\", value_name=\"Accuracy\")\n",
    "\n",
    "fig, (ax1) = plt.subplots(figsize=(8.27/2, 4))\n",
    "g1 = sns.lineplot(data=plot_df, x=\"Error\", y=y, hue=\"Error Location\", ax=ax1, legend=False)\n",
    "sns.scatterplot(data=plot_df, x=\"Error\", y=y, hue=\"Error Location\", s=11, ax=ax1, legend=False)\n",
    "g1.set(xlabel=r\"Error per Weight ($\\varepsilon$)\")\n",
    "\n",
    "sns.despine(fig, bottom=True)\n",
    "plt.show()\n",
    "fig.savefig(data_store / \"lenet.256.error.svg\")\n",
    "fig.savefig(data_store / \"lenet.256.error.png\")\n",
    "fig.savefig(data_store / \"lenet.256.error.pdf\")\n",
    "\n"
   ]
  },
  {
   "cell_type": "code",
   "execution_count": 102,
   "metadata": {},
   "outputs": [
    {
     "name": "stderr",
     "output_type": "stream",
     "text": [
      "c:\\Users\\Majo\\.conda\\envs\\masters\\Lib\\site-packages\\seaborn\\_oldcore.py:1119: FutureWarning: use_inf_as_na option is deprecated and will be removed in a future version. Convert inf values to NaN before operating instead.\n",
      "  with pd.option_context('mode.use_inf_as_na', True):\n",
      "c:\\Users\\Majo\\.conda\\envs\\masters\\Lib\\site-packages\\seaborn\\_oldcore.py:1119: FutureWarning: use_inf_as_na option is deprecated and will be removed in a future version. Convert inf values to NaN before operating instead.\n",
      "  with pd.option_context('mode.use_inf_as_na', True):\n"
     ]
    },
    {
     "data": {
      "text/plain": [
       "<Figure size 640x480 with 0 Axes>"
      ]
     },
     "metadata": {},
     "output_type": "display_data"
    },
    {
     "name": "stderr",
     "output_type": "stream",
     "text": [
      "posx and posy should be finite values\n",
      "posx and posy should be finite values\n",
      "posx and posy should be finite values\n",
      "posx and posy should be finite values\n",
      "posx and posy should be finite values\n",
      "posx and posy should be finite values\n",
      "c:\\Users\\Majo\\.conda\\envs\\masters\\Lib\\site-packages\\matplotlib\\transforms.py:354: RuntimeWarning: invalid value encountered in scalar subtract\n",
      "  return points[1, 0] - points[0, 0]\n",
      "posx and posy should be finite values\n",
      "posx and posy should be finite values\n",
      "posx and posy should be finite values\n",
      "posx and posy should be finite values\n",
      "posx and posy should be finite values\n",
      "posx and posy should be finite values\n"
     ]
    },
    {
     "data": {
      "image/png": "[encoded data removed]",
      "text/plain": [
       "<Figure size 413.5x400 with 1 Axes>"
      ]
     },
     "metadata": {},
     "output_type": "display_data"
    },
    {
     "name": "stderr",
     "output_type": "stream",
     "text": [
      "posx and posy should be finite values\n",
      "posx and posy should be finite values\n",
      "posx and posy should be finite values\n",
      "posx and posy should be finite values\n",
      "posx and posy should be finite values\n",
      "posx and posy should be finite values\n",
      "posx and posy should be finite values\n",
      "posx and posy should be finite values\n",
      "posx and posy should be finite values\n",
      "posx and posy should be finite values\n",
      "posx and posy should be finite values\n",
      "posx and posy should be finite values\n",
      "posx and posy should be finite values\n",
      "posx and posy should be finite values\n",
      "posx and posy should be finite values\n",
      "posx and posy should be finite values\n",
      "posx and posy should be finite values\n",
      "posx and posy should be finite values\n"
     ]
    }
   ],
   "source": [
    "plt.clf()\n",
    "filtered_df = df.copy()\n",
    "value_vars = [\"Top-1\"]\n",
    "y = \"Accuracy\"\n",
    "\n",
    "filtered_df[\"Error\"] = np.abs(filtered_df[\"Error\"])\n",
    "\n",
    "plot_df = pd.melt(filtered_df, id_vars=[\"Error\", \"Error Location\"], value_vars=value_vars, var_name=\"Metric\", value_name=\"Accuracy\")\n",
    "\n",
    "fig, (ax1) = plt.subplots(figsize=(8.27/2, 4))\n",
    "g1 = sns.lineplot(data=plot_df, x=\"Error\", y=y, hue=\"Error Location\", ax=ax1)\n",
    "g1.set(xlabel=r\"Absolute Error per Weight ($\\varepsilon$)\", xlim=0)\n",
    "plot_line(g1, 0.95, \"0.95\", color=\"#c15c62\")\n",
    "plot_line(g1, 0.9, \"0.9\", color=\"#c15c62\")\n",
    "plot_line(g1, 0.83, \"0.83\", color=\"#c15c62\")\n",
    "\n",
    "sns.despine(fig, bottom=True)\n",
    "plt.show()\n",
    "fig.savefig(data_store / \"lenet.256.abs.error.svg\")\n",
    "fig.savefig(data_store / \"lenet.256.abs.error.png\")\n",
    "fig.savefig(data_store / \"lenet.256.abs.error.pdf\")"
   ]
  },
  {
   "cell_type": "code",
   "execution_count": 7,
   "metadata": {},
   "outputs": [
    {
     "name": "stderr",
     "output_type": "stream",
     "text": [
      "c:\\Users\\Majo\\.conda\\envs\\masters\\Lib\\site-packages\\seaborn\\_oldcore.py:1119: FutureWarning: use_inf_as_na option is deprecated and will be removed in a future version. Convert inf values to NaN before operating instead.\n",
      "  with pd.option_context('mode.use_inf_as_na', True):\n",
      "c:\\Users\\Majo\\.conda\\envs\\masters\\Lib\\site-packages\\seaborn\\_oldcore.py:1119: FutureWarning: use_inf_as_na option is deprecated and will be removed in a future version. Convert inf values to NaN before operating instead.\n",
      "  with pd.option_context('mode.use_inf_as_na', True):\n",
      "c:\\Users\\Majo\\.conda\\envs\\masters\\Lib\\site-packages\\seaborn\\_oldcore.py:1119: FutureWarning: use_inf_as_na option is deprecated and will be removed in a future version. Convert inf values to NaN before operating instead.\n",
      "  with pd.option_context('mode.use_inf_as_na', True):\n",
      "c:\\Users\\Majo\\.conda\\envs\\masters\\Lib\\site-packages\\seaborn\\_oldcore.py:1119: FutureWarning: use_inf_as_na option is deprecated and will be removed in a future version. Convert inf values to NaN before operating instead.\n",
      "  with pd.option_context('mode.use_inf_as_na', True):\n",
      "c:\\Users\\Majo\\.conda\\envs\\masters\\Lib\\site-packages\\matplotlib\\transforms.py:354: RuntimeWarning: invalid value encountered in scalar subtract\n",
      "  return points[1, 0] - points[0, 0]\n",
      "posx and posy should be finite values\n",
      "posx and posy should be finite values\n",
      "posx and posy should be finite values\n",
      "posx and posy should be finite values\n"
     ]
    },
    {
     "data": {
      "image/png": "[encoded data removed]",
      "text/plain": [
       "<Figure size 827x400 with 2 Axes>"
      ]
     },
     "metadata": {},
     "output_type": "display_data"
    },
    {
     "name": "stderr",
     "output_type": "stream",
     "text": [
      "posx and posy should be finite values\n",
      "posx and posy should be finite values\n",
      "posx and posy should be finite values\n",
      "posx and posy should be finite values\n",
      "posx and posy should be finite values\n",
      "posx and posy should be finite values\n",
      "posx and posy should be finite values\n",
      "posx and posy should be finite values\n",
      "posx and posy should be finite values\n",
      "posx and posy should be finite values\n",
      "posx and posy should be finite values\n",
      "posx and posy should be finite values\n"
     ]
    }
   ],
   "source": [
    "filtered_df = df.copy()\n",
    "value_vars = [\"Top-1\"]\n",
    "\n",
    "filtered_df[\"Abs Error\"] = np.abs(filtered_df[\"Error\"])\n",
    "plot_df = pd.melt(filtered_df, id_vars=[\"Error\", \"Abs Error\", \"Error Location\"], value_vars=value_vars, var_name=\"Metric\", value_name=\"Accuracy\")\n",
    "plot_df[\"Accuracy\"] = plot_df[\"Accuracy\"] * 100\n",
    "\n",
    "fig, (ax1, ax2) = plt.subplots(1, 2, figsize=(8.27, 4))\n",
    "\n",
    "g1 = sns.lineplot(data=plot_df, x=\"Error\", y=\"Accuracy\", hue=\"Error Location\", ax=ax1)\n",
    "sns.scatterplot(data=plot_df, x=\"Error\", y=\"Accuracy\", hue=\"Error Location\", s=15, ax=ax1, legend=False)\n",
    "g1.set(xlabel=r\"Error per Weight ($\\varepsilon$)\", ylabel=r\"Accuracy [$\\%$]\", xlim=(-128, 127))\n",
    "ax1.get_legend().remove()\n",
    "\n",
    "g2 = sns.lineplot(data=plot_df, x=\"Abs Error\", y=\"Accuracy\", hue=\"Error Location\", ax=ax2)\n",
    "g2.set(xlabel=r\"Absolute Error per Weight ($\\left|\\varepsilon\\right|$)\", ylabel=None, xlim=(0, 128), yticklabels=[])\n",
    "# sns.scatterplot(data=plot_df, x=\"Abs Error\", y=\"Accuracy\", hue=\"Error Location\", s=15, ax=ax2, legend=False)\n",
    "ax2.legend(loc=\"upper right\", title=\"Error Location\")\n",
    "plot_line(g2, 95, \"95\", color=\"#c15c62\")\n",
    "# plot_line(g2, 90, \"90\", color=\"#c15c62\")\n",
    "# plot_line(g2, 83, \"83\", color=\"#c15c62\")\n",
    "\n",
    "fig.suptitle(\"LeNet-5 (QAT): Weight Error Sensitivity\")\n",
    "sns.despine(fig, bottom=True)\n",
    "plt.tight_layout()\n",
    "plt.show()\n",
    "fig.savefig(data_store / \"lenet.256.all.error.svg\")\n",
    "fig.savefig(data_store / \"lenet.256.all.error.png\")\n",
    "fig.savefig(data_store / \"lenet.256.all.error.pdf\")"
   ]
  },
  {
   "cell_type": "code",
   "execution_count": 134,
   "metadata": {},
   "outputs": [
    {
     "name": "stderr",
     "output_type": "stream",
     "text": [
      "C:\\Users\\Majo\\AppData\\Local\\Temp\\ipykernel_3632\\3542394936.py:11: SettingWithCopyWarning: \n",
      "A value is trying to be set on a copy of a slice from a DataFrame.\n",
      "Try using .loc[row_indexer,col_indexer] = value instead\n",
      "\n",
      "See the caveats in the documentation: https://pandas.pydata.org/pandas-docs/stable/user_guide/indexing.html#returning-a-view-versus-a-copy\n",
      "  a_df[\"Error backup\"] = a_df[\"Error\"]\n",
      "C:\\Users\\Majo\\AppData\\Local\\Temp\\ipykernel_3632\\3542394936.py:12: SettingWithCopyWarning: \n",
      "A value is trying to be set on a copy of a slice from a DataFrame.\n",
      "Try using .loc[row_indexer,col_indexer] = value instead\n",
      "\n",
      "See the caveats in the documentation: https://pandas.pydata.org/pandas-docs/stable/user_guide/indexing.html#returning-a-view-versus-a-copy\n",
      "  b_df[\"Error backup\"] = b_df[\"Error\"]\n",
      "C:\\Users\\Majo\\AppData\\Local\\Temp\\ipykernel_3632\\3542394936.py:13: SettingWithCopyWarning: \n",
      "A value is trying to be set on a copy of a slice from a DataFrame.\n",
      "Try using .loc[row_indexer,col_indexer] = value instead\n",
      "\n",
      "See the caveats in the documentation: https://pandas.pydata.org/pandas-docs/stable/user_guide/indexing.html#returning-a-view-versus-a-copy\n",
      "  c_df[\"Error backup\"] = c_df[\"Error\"]\n",
      "C:\\Users\\Majo\\AppData\\Local\\Temp\\ipykernel_3632\\3542394936.py:14: SettingWithCopyWarning: \n",
      "A value is trying to be set on a copy of a slice from a DataFrame.\n",
      "Try using .loc[row_indexer,col_indexer] = value instead\n",
      "\n",
      "See the caveats in the documentation: https://pandas.pydata.org/pandas-docs/stable/user_guide/indexing.html#returning-a-view-versus-a-copy\n",
      "  d_df[\"Error backup\"] = d_df[\"Error\"]\n",
      "C:\\Users\\Majo\\AppData\\Local\\Temp\\ipykernel_3632\\3542394936.py:15: SettingWithCopyWarning: \n",
      "A value is trying to be set on a copy of a slice from a DataFrame.\n",
      "Try using .loc[row_indexer,col_indexer] = value instead\n",
      "\n",
      "See the caveats in the documentation: https://pandas.pydata.org/pandas-docs/stable/user_guide/indexing.html#returning-a-view-versus-a-copy\n",
      "  e_df[\"Error backup\"] = e_df[\"Error\"]\n",
      "C:\\Users\\Majo\\AppData\\Local\\Temp\\ipykernel_3632\\3542394936.py:11: SettingWithCopyWarning: \n",
      "A value is trying to be set on a copy of a slice from a DataFrame.\n",
      "Try using .loc[row_indexer,col_indexer] = value instead\n",
      "\n",
      "See the caveats in the documentation: https://pandas.pydata.org/pandas-docs/stable/user_guide/indexing.html#returning-a-view-versus-a-copy\n",
      "  a_df[\"Error backup\"] = a_df[\"Error\"]\n",
      "C:\\Users\\Majo\\AppData\\Local\\Temp\\ipykernel_3632\\3542394936.py:12: SettingWithCopyWarning: \n",
      "A value is trying to be set on a copy of a slice from a DataFrame.\n",
      "Try using .loc[row_indexer,col_indexer] = value instead\n",
      "\n",
      "See the caveats in the documentation: https://pandas.pydata.org/pandas-docs/stable/user_guide/indexing.html#returning-a-view-versus-a-copy\n",
      "  b_df[\"Error backup\"] = b_df[\"Error\"]\n",
      "C:\\Users\\Majo\\AppData\\Local\\Temp\\ipykernel_3632\\3542394936.py:13: SettingWithCopyWarning: \n",
      "A value is trying to be set on a copy of a slice from a DataFrame.\n",
      "Try using .loc[row_indexer,col_indexer] = value instead\n",
      "\n",
      "See the caveats in the documentation: https://pandas.pydata.org/pandas-docs/stable/user_guide/indexing.html#returning-a-view-versus-a-copy\n",
      "  c_df[\"Error backup\"] = c_df[\"Error\"]\n",
      "C:\\Users\\Majo\\AppData\\Local\\Temp\\ipykernel_3632\\3542394936.py:14: SettingWithCopyWarning: \n",
      "A value is trying to be set on a copy of a slice from a DataFrame.\n",
      "Try using .loc[row_indexer,col_indexer] = value instead\n",
      "\n",
      "See the caveats in the documentation: https://pandas.pydata.org/pandas-docs/stable/user_guide/indexing.html#returning-a-view-versus-a-copy\n",
      "  d_df[\"Error backup\"] = d_df[\"Error\"]\n",
      "C:\\Users\\Majo\\AppData\\Local\\Temp\\ipykernel_3632\\3542394936.py:15: SettingWithCopyWarning: \n",
      "A value is trying to be set on a copy of a slice from a DataFrame.\n",
      "Try using .loc[row_indexer,col_indexer] = value instead\n",
      "\n",
      "See the caveats in the documentation: https://pandas.pydata.org/pandas-docs/stable/user_guide/indexing.html#returning-a-view-versus-a-copy\n",
      "  e_df[\"Error backup\"] = e_df[\"Error\"]\n",
      "C:\\Users\\Majo\\AppData\\Local\\Temp\\ipykernel_3632\\3542394936.py:11: SettingWithCopyWarning: \n",
      "A value is trying to be set on a copy of a slice from a DataFrame.\n",
      "Try using .loc[row_indexer,col_indexer] = value instead\n",
      "\n",
      "See the caveats in the documentation: https://pandas.pydata.org/pandas-docs/stable/user_guide/indexing.html#returning-a-view-versus-a-copy\n",
      "  a_df[\"Error backup\"] = a_df[\"Error\"]\n",
      "C:\\Users\\Majo\\AppData\\Local\\Temp\\ipykernel_3632\\3542394936.py:12: SettingWithCopyWarning: \n",
      "A value is trying to be set on a copy of a slice from a DataFrame.\n",
      "Try using .loc[row_indexer,col_indexer] = value instead\n",
      "\n",
      "See the caveats in the documentation: https://pandas.pydata.org/pandas-docs/stable/user_guide/indexing.html#returning-a-view-versus-a-copy\n",
      "  b_df[\"Error backup\"] = b_df[\"Error\"]\n",
      "C:\\Users\\Majo\\AppData\\Local\\Temp\\ipykernel_3632\\3542394936.py:13: SettingWithCopyWarning: \n",
      "A value is trying to be set on a copy of a slice from a DataFrame.\n",
      "Try using .loc[row_indexer,col_indexer] = value instead\n",
      "\n",
      "See the caveats in the documentation: https://pandas.pydata.org/pandas-docs/stable/user_guide/indexing.html#returning-a-view-versus-a-copy\n",
      "  c_df[\"Error backup\"] = c_df[\"Error\"]\n",
      "C:\\Users\\Majo\\AppData\\Local\\Temp\\ipykernel_3632\\3542394936.py:14: SettingWithCopyWarning: \n",
      "A value is trying to be set on a copy of a slice from a DataFrame.\n",
      "Try using .loc[row_indexer,col_indexer] = value instead\n",
      "\n",
      "See the caveats in the documentation: https://pandas.pydata.org/pandas-docs/stable/user_guide/indexing.html#returning-a-view-versus-a-copy\n",
      "  d_df[\"Error backup\"] = d_df[\"Error\"]\n",
      "C:\\Users\\Majo\\AppData\\Local\\Temp\\ipykernel_3632\\3542394936.py:15: SettingWithCopyWarning: \n",
      "A value is trying to be set on a copy of a slice from a DataFrame.\n",
      "Try using .loc[row_indexer,col_indexer] = value instead\n",
      "\n",
      "See the caveats in the documentation: https://pandas.pydata.org/pandas-docs/stable/user_guide/indexing.html#returning-a-view-versus-a-copy\n",
      "  e_df[\"Error backup\"] = e_df[\"Error\"]\n"
     ]
    },
    {
     "data": {
      "text/html": [
       "<div>\n",
       "<style scoped>\n",
       "    .dataframe tbody tr th:only-of-type {\n",
       "        vertical-align: middle;\n",
       "    }\n",
       "\n",
       "    .dataframe tbody tr th {\n",
       "        vertical-align: top;\n",
       "    }\n",
       "\n",
       "    .dataframe thead th {\n",
       "        text-align: right;\n",
       "    }\n",
       "</style>\n",
       "<table border=\"1\" class=\"dataframe\">\n",
       "  <thead>\n",
       "    <tr style=\"text-align: right;\">\n",
       "      <th></th>\n",
       "      <th>Error Location</th>\n",
       "      <th>Abs Error</th>\n",
       "      <th>Top-1</th>\n",
       "    </tr>\n",
       "  </thead>\n",
       "  <tbody>\n",
       "    <tr>\n",
       "      <th>121</th>\n",
       "      <td>Everywhere</td>\n",
       "      <td>7</td>\n",
       "      <td>0.9500</td>\n",
       "    </tr>\n",
       "    <tr>\n",
       "      <th>119</th>\n",
       "      <td>Everywhere</td>\n",
       "      <td>9</td>\n",
       "      <td>0.9054</td>\n",
       "    </tr>\n",
       "    <tr>\n",
       "      <th>117</th>\n",
       "      <td>Outside Kernel Core $3 \\times 3$</td>\n",
       "      <td>11</td>\n",
       "      <td>0.9534</td>\n",
       "    </tr>\n",
       "    <tr>\n",
       "      <th>114</th>\n",
       "      <td>Outside Kernel Core $3 \\times 3$</td>\n",
       "      <td>14</td>\n",
       "      <td>0.9006</td>\n",
       "    </tr>\n",
       "    <tr>\n",
       "      <th>111</th>\n",
       "      <td>Kernel Core $3 \\times 3$</td>\n",
       "      <td>17</td>\n",
       "      <td>0.9522</td>\n",
       "    </tr>\n",
       "    <tr>\n",
       "      <th>105</th>\n",
       "      <td>Kernel Core $3 \\times 3$</td>\n",
       "      <td>23</td>\n",
       "      <td>0.9194</td>\n",
       "    </tr>\n",
       "  </tbody>\n",
       "</table>\n",
       "</div>"
      ],
      "text/plain": [
       "                       Error Location  Abs Error   Top-1\n",
       "121                        Everywhere          7  0.9500\n",
       "119                        Everywhere          9  0.9054\n",
       "117  Outside Kernel Core $3 \\times 3$         11  0.9534\n",
       "114  Outside Kernel Core $3 \\times 3$         14  0.9006\n",
       "111          Kernel Core $3 \\times 3$         17  0.9522\n",
       "105          Kernel Core $3 \\times 3$         23  0.9194"
      ]
     },
     "execution_count": 134,
     "metadata": {},
     "output_type": "execute_result"
    }
   ],
   "source": [
    "table_df = []\n",
    "\n",
    "for t in filtered_df[\"Error Location\"].unique():\n",
    "\n",
    "    a_df = filtered_df.loc[(filtered_df[\"Error Location\"] == t) & (filtered_df[\"Top-1\"] >= 0.95), :]\n",
    "    b_df = filtered_df.loc[(filtered_df[\"Error Location\"] == t) & (filtered_df[\"Top-1\"] >= 0.9) & (filtered_df[\"Top-1\"] < 0.95), :]\n",
    "    c_df = filtered_df.loc[(filtered_df[\"Error Location\"] == t) & (filtered_df[\"Top-1\"] >= 0.8) & (filtered_df[\"Top-1\"] < 0.9), :]\n",
    "    d_df = filtered_df.loc[(filtered_df[\"Error Location\"] == t) & (filtered_df[\"Top-1\"] >= 0.7) & (filtered_df[\"Top-1\"] < 0.8), :]\n",
    "    e_df = filtered_df.loc[(filtered_df[\"Error Location\"] == t) & (filtered_df[\"Top-1\"] >= 0.4) & (filtered_df[\"Top-1\"] < 0.6), :]\n",
    "\n",
    "    a_df[\"Error backup\"] = a_df[\"Error\"]\n",
    "    b_df[\"Error backup\"] = b_df[\"Error\"]\n",
    "    c_df[\"Error backup\"] = c_df[\"Error\"]\n",
    "    d_df[\"Error backup\"] = d_df[\"Error\"]\n",
    "    e_df[\"Error backup\"] = e_df[\"Error\"]\n",
    "\n",
    "    a_min_idx = a_df[\"Error\"].apply(lambda x: abs(x)).idxmax()\n",
    "    b_min_idx = b_df[\"Error\"].apply(lambda x: abs(x)).idxmax()\n",
    "    c_min_idx = c_df[\"Error\"].apply(lambda x: abs(x)).idxmax()\n",
    "    d_min_idx = d_df[\"Error\"].apply(lambda x: abs(x)).idxmax()\n",
    "    e_min_idx = e_df[\"Error\"].apply(lambda x: abs(x)).idxmax()\n",
    "\n",
    "    a_min_row = a_df.loc[a_min_idx]\n",
    "    b_min_row = b_df.loc[b_min_idx]\n",
    "    c_min_row = c_df.loc[c_min_idx]\n",
    "    d_min_row = d_df.loc[d_min_idx]\n",
    "    e_min_row = e_df.loc[e_min_idx]\n",
    "\n",
    "    table_df.append(pd.DataFrame([a_min_row, b_min_row, c_min_row, d_min_row, e_min_row]))\n",
    "    # print(a_min_row, b_min_row, c_min_row, d_min_row, e_min_row)\n",
    "table_df = pd.concat(table_df)\n",
    "table_df.loc[table_df[\"Top-1\"] >= 0.9, [\"Error Location\", \"Abs Error\", \"Top-1\"]]"
   ]
  }
 ],
 "metadata": {
  "kernelspec": {
   "display_name": "masters",
   "language": "python",
   "name": "python3"
  },
  "language_info": {
   "codemirror_mode": {
    "name": "ipython",
    "version": 3
   },
   "file_extension": ".py",
   "mimetype": "text/x-python",
   "name": "python",
   "nbconvert_exporter": "python",
   "pygments_lexer": "ipython3",
   "version": "3.11.5"
  }
 },
 "nbformat": 4,
 "nbformat_minor": 2
}
