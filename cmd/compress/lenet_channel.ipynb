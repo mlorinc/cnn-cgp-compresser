{
 "cells": [
  {
   "cell_type": "code",
   "execution_count": 37,
   "metadata": {},
   "outputs": [
    {
     "data": {
      "text/html": [
       "<svg  width=\"550\" height=\"55\"><rect x=\"0\" y=\"0\" width=\"55\" height=\"55\" style=\"fill:#4c72b0;stroke-width:2;stroke:rgb(255,255,255)\"/><rect x=\"55\" y=\"0\" width=\"55\" height=\"55\" style=\"fill:#dd8452;stroke-width:2;stroke:rgb(255,255,255)\"/><rect x=\"110\" y=\"0\" width=\"55\" height=\"55\" style=\"fill:#55a868;stroke-width:2;stroke:rgb(255,255,255)\"/><rect x=\"165\" y=\"0\" width=\"55\" height=\"55\" style=\"fill:#c44e52;stroke-width:2;stroke:rgb(255,255,255)\"/><rect x=\"220\" y=\"0\" width=\"55\" height=\"55\" style=\"fill:#8172b3;stroke-width:2;stroke:rgb(255,255,255)\"/><rect x=\"275\" y=\"0\" width=\"55\" height=\"55\" style=\"fill:#937860;stroke-width:2;stroke:rgb(255,255,255)\"/><rect x=\"330\" y=\"0\" width=\"55\" height=\"55\" style=\"fill:#da8bc3;stroke-width:2;stroke:rgb(255,255,255)\"/><rect x=\"385\" y=\"0\" width=\"55\" height=\"55\" style=\"fill:#8c8c8c;stroke-width:2;stroke:rgb(255,255,255)\"/><rect x=\"440\" y=\"0\" width=\"55\" height=\"55\" style=\"fill:#ccb974;stroke-width:2;stroke:rgb(255,255,255)\"/><rect x=\"495\" y=\"0\" width=\"55\" height=\"55\" style=\"fill:#64b5cd;stroke-width:2;stroke:rgb(255,255,255)\"/></svg>"
      ],
      "text/plain": [
       "[(0.2980392156862745, 0.4470588235294118, 0.6901960784313725),\n",
       " (0.8666666666666667, 0.5176470588235295, 0.3215686274509804),\n",
       " (0.3333333333333333, 0.6588235294117647, 0.40784313725490196),\n",
       " (0.7686274509803922, 0.3058823529411765, 0.3215686274509804),\n",
       " (0.5058823529411764, 0.4470588235294118, 0.7019607843137254),\n",
       " (0.5764705882352941, 0.47058823529411764, 0.3764705882352941),\n",
       " (0.8549019607843137, 0.5450980392156862, 0.7647058823529411),\n",
       " (0.5490196078431373, 0.5490196078431373, 0.5490196078431373),\n",
       " (0.8, 0.7254901960784313, 0.4549019607843137),\n",
       " (0.39215686274509803, 0.7098039215686275, 0.803921568627451)]"
      ]
     },
     "execution_count": 37,
     "metadata": {},
     "output_type": "execute_result"
    }
   ],
   "source": [
    "from models.adapters.base import BaseAdapter\n",
    "from models.selector import FilterSelector\n",
    "from models.quantization import conv2d_outter, conv2d_core\n",
    "from experiments.planner import CGPPinPlanner\n",
    "from pathlib import Path\n",
    "import seaborn as sns\n",
    "import matplotlib.pyplot as plt\n",
    "from matplotlib.ticker import MultipleLocator\n",
    "import pandas as pd\n",
    "import numpy as np\n",
    "\n",
    "# Disable LaTeX rendering\n",
    "plt.rc('text', usetex=False)\n",
    "\n",
    "data_store = Path(\"../../data_store/channel_lenet\")\n",
    "data_store.mkdir(exist_ok=True, parents=True)\n",
    "loaded = False\n",
    "sns.set_palette(\"deep\")\n",
    "sns.color_palette(\"deep\")"
   ]
  },
  {
   "cell_type": "code",
   "execution_count": 39,
   "metadata": {},
   "outputs": [
    {
     "name": "stderr",
     "output_type": "stream",
     "text": [
      "c:\\Users\\Majo\\.conda\\envs\\masters\\Lib\\site-packages\\torch\\ao\\quantization\\observer.py:214: UserWarning: Please use quant_min and quant_max to specify the range for observers.                     reduce_range will be deprecated in a future release of PyTorch.\n",
      "  warnings.warn(\n",
      "c:\\Users\\Majo\\.conda\\envs\\masters\\Lib\\site-packages\\torch\\ao\\quantization\\observer.py:1207: UserWarning: must run observer before calling calculate_qparams.                                    Returning default scale and zero point \n",
      "  warnings.warn(\n",
      "c:\\Users\\Majo\\.conda\\envs\\masters\\Lib\\site-packages\\torch\\_utils.py:376: UserWarning: TypedStorage is deprecated. It will be removed in the future and UntypedStorage will be the only storage class. This should only matter to you if you are using storages directly.  To access UntypedStorage directly, use tensor.untyped_storage() instead of tensor.storage()\n",
      "  device=storage.device,\n"
     ]
    }
   ],
   "source": [
    "adapter = BaseAdapter.load_base_model(\"qat_quantized_lenet\", \"./trained_models/qat.quantized_lenet.pth\")"
   ]
  },
  {
   "cell_type": "code",
   "execution_count": 41,
   "metadata": {
    "deletable": false,
    "editable": false,
    "trusted": true
   },
   "outputs": [
    {
     "name": "stderr",
     "output_type": "stream",
     "text": [
      "c:\\Users\\Majo\\.conda\\envs\\masters\\Lib\\site-packages\\torch\\ao\\quantization\\observer.py:214: UserWarning: Please use quant_min and quant_max to specify the range for observers.                     reduce_range will be deprecated in a future release of PyTorch.\n",
      "  warnings.warn(\n",
      "c:\\Users\\Majo\\.conda\\envs\\masters\\Lib\\site-packages\\torch\\ao\\quantization\\observer.py:1207: UserWarning: must run observer before calling calculate_qparams.                                    Returning default scale and zero point \n",
      "  warnings.warn(\n"
     ]
    }
   ],
   "source": [
    "assert isinstance(adapter, BaseAdapter)\n",
    "data = []\n",
    "# while not data or data[-1][2][1] >= 0.75:\n",
    "for e in range(-70, 70, 1):\n",
    "    adapter = BaseAdapter.load_base_model(\"qat_quantized_lenet\", \"./trained_models/qat.quantized_lenet.pth\")\n",
    "    # layers = [adapter.get_layer(layer) for layer in [\"conv1\"]]\n",
    "    for layer in [\"conv1\"]:\n",
    "        weights, bias = adapter.get_train_weights(layer), adapter.get_bias(layer)\n",
    "        planner = CGPPinPlanner()\n",
    "        \n",
    "        for filter_i, filter_weights in enumerate(weights):\n",
    "            for channel_i, channel_filters in enumerate(filter_weights):\n",
    "                for selector in conv2d_core([filter_i, channel_i], 5, 3):\n",
    "                    weights[*selector] = weights[*selector] + e\n",
    "        \n",
    "        adapter.inject_weights([weights.flatten()], [[FilterSelector(layer, [], [[slice(None), slice(None), slice(None), slice(None)]])]])\n",
    "    top_k, avg_loss = adapter.evaluate(top=[1, 5])\n",
    "    data.append([e] + list(top_k.items()) + [avg_loss])\n",
    "    \n",
    "loaded = True\n",
    "    "
   ]
  },
  {
   "cell_type": "code",
   "execution_count": 3,
   "metadata": {},
   "outputs": [],
   "source": [
    "df_files = [\"lenet.256.csv\", \"lenet.outter.256.csv\", \"lenet.inner.256.csv\"]\n",
    "\n",
    "if not loaded:\n",
    "    df_loaded_files = []\n",
    "    for file in df_files:\n",
    "        df_temp = pd.read_csv(data_store / file)\n",
    "        df_temp[\"type\"] = \"outter\" if \"outter\" in file else \"inner\" if \"inner\" in file else \"all\"\n",
    "        df_loaded_files.append(df_temp)\n",
    "    df = pd.concat(df_loaded_files)\n",
    "    df.columns = [col.title() for col in df.columns]\n",
    "    df[\"Type\"] = df[\"Type\"].str.title()\n",
    "else:\n",
    "    new_data = []\n",
    "    for row in data:\n",
    "        new_row = [row[0]]\n",
    "        for k, x in row[1:-1]:\n",
    "            new_row.append(x)\n",
    "        new_row.append(row[-1])\n",
    "        new_data.append(tuple(new_row))\n",
    "\n",
    "    df = pd.DataFrame(data=new_data, columns=[\"error\", \"top-1\", \"top-5\", \"loss\"])\n",
    "    df.to_csv(data_store / \"lenet.inner.256.csv\", index=False)"
   ]
  },
  {
   "cell_type": "code",
   "execution_count": 15,
   "metadata": {},
   "outputs": [
    {
     "name": "stderr",
     "output_type": "stream",
     "text": [
      "c:\\Users\\Majo\\.conda\\envs\\masters\\Lib\\site-packages\\seaborn\\_oldcore.py:1119: FutureWarning: use_inf_as_na option is deprecated and will be removed in a future version. Convert inf values to NaN before operating instead.\n",
      "  with pd.option_context('mode.use_inf_as_na', True):\n",
      "c:\\Users\\Majo\\.conda\\envs\\masters\\Lib\\site-packages\\seaborn\\_oldcore.py:1119: FutureWarning: use_inf_as_na option is deprecated and will be removed in a future version. Convert inf values to NaN before operating instead.\n",
      "  with pd.option_context('mode.use_inf_as_na', True):\n",
      "posx and posy should be finite values\n",
      "posx and posy should be finite values\n",
      "posx and posy should be finite values\n",
      "posx and posy should be finite values\n",
      "posx and posy should be finite values\n",
      "posx and posy should be finite values\n",
      "posx and posy should be finite values\n",
      "posx and posy should be finite values\n",
      "posx and posy should be finite values\n",
      "posx and posy should be finite values\n",
      "posx and posy should be finite values\n",
      "posx and posy should be finite values\n",
      "posx and posy should be finite values\n",
      "posx and posy should be finite values\n",
      "posx and posy should be finite values\n",
      "posx and posy should be finite values\n",
      "posx and posy should be finite values\n",
      "posx and posy should be finite values\n",
      "posx and posy should be finite values\n",
      "posx and posy should be finite values\n",
      "posx and posy should be finite values\n",
      "posx and posy should be finite values\n",
      "posx and posy should be finite values\n",
      "posx and posy should be finite values\n",
      "posx and posy should be finite values\n",
      "posx and posy should be finite values\n",
      "posx and posy should be finite values\n",
      "posx and posy should be finite values\n",
      "c:\\Users\\Majo\\.conda\\envs\\masters\\Lib\\site-packages\\matplotlib\\transforms.py:354: RuntimeWarning: invalid value encountered in scalar subtract\n",
      "  return points[1, 0] - points[0, 0]\n",
      "posx and posy should be finite values\n",
      "posx and posy should be finite values\n",
      "posx and posy should be finite values\n",
      "posx and posy should be finite values\n"
     ]
    },
    {
     "data": {
      "image/png": "[encoded data removed]",
      "text/plain": [
       "<Figure size 640x480 with 1 Axes>"
      ]
     },
     "metadata": {},
     "output_type": "display_data"
    }
   ],
   "source": [
    "def get_x(y_value: int, point_a, point_b):\n",
    "    x1, y1 = point_a\n",
    "    x2, y2 = point_b\n",
    "    x_hat = None\n",
    "    if y1 <= y_value <= y2 and y2 <= y_value <= y1:\n",
    "        m = (y2-y1) / (x2-x1)\n",
    "        b = y1 - m * x1\n",
    "        x_hat = (y_value - b) / m\n",
    "    \n",
    "    return x_hat\n",
    "        \n",
    "\n",
    "def plot_line(g, value, label):\n",
    "    x_min = float(\"inf\")\n",
    "    x_max = float(\"-inf\")\n",
    "    ax = g.axes\n",
    "    # for ax in g.axes.flat:\n",
    "    #     ax = ax\n",
    "    for line in g.axes.lines:\n",
    "        # for line in ax.lines:\n",
    "        x, y = line.get_data()\n",
    "        if isinstance(x, list) or x.size == 0 or y.size == 0: continue\n",
    "        \n",
    "        for a, b in zip(zip(x[0:-2], y[0:-2]), zip(x[1:], y[1:])):\n",
    "            x_hat = get_x(value, a, b)\n",
    "            \n",
    "            if x_hat is None:\n",
    "                continue\n",
    "            \n",
    "            x_min = min([x_min, x_hat])\n",
    "            x_max = max([x_max, x_hat])                    \n",
    "            \n",
    "    ax.text(x_min, value, f\" {x_min:.1f} ({label})\", ha=\"left\", va=\"top\", alpha=0.6)\n",
    "    ax.text(x_max, value, f\" {x_max:.1f} ({label})\", ha=\"left\", va=\"top\", alpha=0.6)\n",
    "    ax.axhline(value, linestyle=\"--\", color=\"black\", linewidth=1, alpha=0.75)    \n",
    "    # ax.axvline(x_min, linestyle=\"--\", color=\"green\", linewidth=1, alpha=0.75)    \n",
    "    # ax.axvline(x_max, linestyle=\"--\", color=\"green\", linewidth=1, alpha=0.75)\n",
    "    ax.scatter(x_min, value, color=\"black\", alpha=0.75, marker=\"x\", linewidth=1)\n",
    "    ax.scatter(x_max, value, color=\"black\", alpha=0.75, marker=\"x\", linewidth=1)\n",
    "    # ax.(x_max, linestyle=\"--\", color=\"green\", linewidth=1, alpha=0.75)    \n",
    "        # ax.axhline(value, linestyle=\"--\", color=\"#cfcfcf\", lw=2, alpha=0.75)    \n",
    "\n",
    "filtered_df = df.loc[df[\"Top-1\"] > 0.5, :]\n",
    "value_vars = [\"Top-1\"]\n",
    "y = \"Accuracy\"\n",
    "target = filtered_df.loc[filtered_df[\"Error\"] == 0, \"Top-1\"].max()\n",
    "\n",
    "plot_df = pd.melt(filtered_df, id_vars=[\"Error\", \"Type\"], value_vars=value_vars, var_name=\"Metric\", value_name=\"Accuracy\")\n",
    "\n",
    "fig, (ax1) = plt.subplots()\n",
    "g1 = sns.lineplot(data=plot_df, x=\"Error\", y=y, hue=\"Type\", markers=True, ax=ax1)\n",
    "g1.set(xlabel=\"Error per Weight\")\n",
    "plt.legend(title=\"Error by Type\")\n",
    "# g1.xaxis.set_major_locator(MultipleLocator(5))\n",
    "plot_line(g1, target * 0.95, \"α = 0.05\")\n",
    "plot_line(g1, target * 0.90, \"α = 0.10\")\n",
    "\n",
    "sns.despine(fig)\n",
    "\n",
    "# ax1.get_legend().remove()\n",
    "\n",
    "# plot_line(ax, 0.90286, \"MobileNetV2 top-5\")\n",
    "# plt.xlim(plot_df[\"error\"].min(), plot_df[\"error\"].max())\n",
    "plt.savefig(data_store / \"lenet_channel.256.error.svg\")\n",
    "plt.savefig(data_store / \"lenet_channel.256.error.png\")\n",
    "plt.savefig(data_store / \"lenet_channel.256.error.pdf\")\n"
   ]
  },
  {
   "cell_type": "code",
   "execution_count": 36,
   "metadata": {},
   "outputs": [
    {
     "name": "stdout",
     "output_type": "stream",
     "text": [
      "Error              -35\n",
      "Top-1           0.9503\n",
      "Top-5           0.9989\n",
      "Loss            0.2087\n",
      "Type            Outter\n",
      "Error backup       -35\n",
      "Name: 35, dtype: object Error                 45\n",
      "Top-1             0.9164\n",
      "Top-5             0.9972\n",
      "Loss            0.414997\n",
      "Type              Outter\n",
      "Error backup          45\n",
      "Name: 115, dtype: object Error                 51\n",
      "Top-1             0.8332\n",
      "Top-5             0.9907\n",
      "Loss            0.699408\n",
      "Type              Outter\n",
      "Error backup          51\n",
      "Name: 121, dtype: object Error                 56\n",
      "Top-1             0.7027\n",
      "Top-5             0.9764\n",
      "Loss            1.231128\n",
      "Type              Outter\n",
      "Error backup         NaN\n",
      "Name: 126, dtype: object\n"
     ]
    },
    {
     "name": "stderr",
     "output_type": "stream",
     "text": [
      "C:\\Users\\Majo\\AppData\\Local\\Temp\\ipykernel_34352\\1736112342.py:6: SettingWithCopyWarning: \n",
      "A value is trying to be set on a copy of a slice from a DataFrame.\n",
      "Try using .loc[row_indexer,col_indexer] = value instead\n",
      "\n",
      "See the caveats in the documentation: https://pandas.pydata.org/pandas-docs/stable/user_guide/indexing.html#returning-a-view-versus-a-copy\n",
      "  a_df[\"Error backup\"] = a_df[\"Error\"]\n",
      "C:\\Users\\Majo\\AppData\\Local\\Temp\\ipykernel_34352\\1736112342.py:7: SettingWithCopyWarning: \n",
      "A value is trying to be set on a copy of a slice from a DataFrame.\n",
      "Try using .loc[row_indexer,col_indexer] = value instead\n",
      "\n",
      "See the caveats in the documentation: https://pandas.pydata.org/pandas-docs/stable/user_guide/indexing.html#returning-a-view-versus-a-copy\n",
      "  b_df[\"Error backup\"] = b_df[\"Error\"]\n",
      "C:\\Users\\Majo\\AppData\\Local\\Temp\\ipykernel_34352\\1736112342.py:8: SettingWithCopyWarning: \n",
      "A value is trying to be set on a copy of a slice from a DataFrame.\n",
      "Try using .loc[row_indexer,col_indexer] = value instead\n",
      "\n",
      "See the caveats in the documentation: https://pandas.pydata.org/pandas-docs/stable/user_guide/indexing.html#returning-a-view-versus-a-copy\n",
      "  c_df[\"Error backup\"] = c_df[\"Error\"]\n",
      "C:\\Users\\Majo\\AppData\\Local\\Temp\\ipykernel_34352\\1736112342.py:9: SettingWithCopyWarning: \n",
      "A value is trying to be set on a copy of a slice from a DataFrame.\n",
      "Try using .loc[row_indexer,col_indexer] = value instead\n",
      "\n",
      "See the caveats in the documentation: https://pandas.pydata.org/pandas-docs/stable/user_guide/indexing.html#returning-a-view-versus-a-copy\n",
      "  d_df[\"Error backup\"] = c_df[\"Error\"]\n"
     ]
    }
   ],
   "source": [
    "a_df = filtered_df.loc[(filtered_df[\"Type\"] == \"Outter\") & (filtered_df[\"Top-1\"] >= 0.95), :]\n",
    "b_df = filtered_df.loc[(filtered_df[\"Type\"] == \"Outter\") & (filtered_df[\"Top-1\"] >= 0.9) & (filtered_df[\"Top-1\"] < 0.95), :]\n",
    "c_df = filtered_df.loc[(filtered_df[\"Type\"] == \"Outter\") & (filtered_df[\"Top-1\"] >= 0.8) & (filtered_df[\"Top-1\"] < 0.9), :]\n",
    "d_df = filtered_df.loc[(filtered_df[\"Type\"] == \"Outter\") & (filtered_df[\"Top-1\"] >= 0.7) & (filtered_df[\"Top-1\"] < 0.8), :]\n",
    "\n",
    "a_df[\"Error backup\"] = a_df[\"Error\"]\n",
    "b_df[\"Error backup\"] = b_df[\"Error\"]\n",
    "c_df[\"Error backup\"] = c_df[\"Error\"]\n",
    "d_df[\"Error backup\"] = c_df[\"Error\"]\n",
    "\n",
    "a_min_idx = a_df[\"Error\"].apply(lambda x: abs(x)).idxmax()\n",
    "b_min_idx = b_df[\"Error\"].apply(lambda x: abs(x)).idxmax()\n",
    "c_min_idx = c_df[\"Error\"].apply(lambda x: abs(x)).idxmax()\n",
    "d_min_idx = d_df[\"Error\"].apply(lambda x: abs(x)).idxmax()\n",
    "\n",
    "a_min_row = a_df.loc[a_min_idx]\n",
    "b_min_row = b_df.loc[b_min_idx]\n",
    "c_min_row = c_df.loc[c_min_idx]\n",
    "d_min_row = d_df.loc[d_min_idx]\n",
    "\n",
    "print(a_min_row, b_min_row, c_min_row, d_min_row)\n"
   ]
  }
 ],
 "metadata": {
  "kernelspec": {
   "display_name": "masters",
   "language": "python",
   "name": "python3"
  },
  "language_info": {
   "codemirror_mode": {
    "name": "ipython",
    "version": 3
   },
   "file_extension": ".py",
   "mimetype": "text/x-python",
   "name": "python",
   "nbconvert_exporter": "python",
   "pygments_lexer": "ipython3",
   "version": "3.11.5"
  }
 },
 "nbformat": 4,
 "nbformat_minor": 2
}
