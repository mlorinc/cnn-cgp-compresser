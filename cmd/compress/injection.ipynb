{
 "cells": [
  {
   "cell_type": "code",
   "execution_count": 9,
   "metadata": {},
   "outputs": [],
   "source": [
    "from models.adapters.model_adapter_factory import create_adapter\n",
    "import torch\n",
    "from experiments.planner import CGPPinPlanner\n",
    "from models.quantization import dequantize_per_tensor, conv2d_selector, tensor_iterator"
   ]
  },
  {
   "cell_type": "code",
   "execution_count": 10,
   "metadata": {},
   "outputs": [
    {
     "name": "stderr",
     "output_type": "stream",
     "text": [
      "c:\\Users\\Majo\\.conda\\envs\\masters\\Lib\\site-packages\\torch\\ao\\quantization\\observer.py:214: UserWarning: Please use quant_min and quant_max to specify the range for observers.                     reduce_range will be deprecated in a future release of PyTorch.\n",
      "  warnings.warn(\n",
      "c:\\Users\\Majo\\.conda\\envs\\masters\\Lib\\site-packages\\torch\\ao\\quantization\\observer.py:1207: UserWarning: must run observer before calling calculate_qparams.                                    Returning default scale and zero point \n",
      "  warnings.warn(\n"
     ]
    }
   ],
   "source": [
    "adapter = create_adapter(\"qat_quantized_lenet\", \"./trained_models/qat.quantized_lenet.pth\")"
   ]
  },
  {
   "cell_type": "code",
   "execution_count": 19,
   "metadata": {},
   "outputs": [
    {
     "data": {
      "text/plain": [
       "tensor([[[[  42,   42,   42,   42,   42],\n",
       "          [  42,  -42,  -36,   64,   42],\n",
       "          [  42,   19,   67,  127,   42],\n",
       "          [  42,   60,   54,   16,   42],\n",
       "          [  42,   42,   42,   42,   42]]],\n",
       "\n",
       "\n",
       "        [[[  42,   42,   42,   42,   42],\n",
       "          [  42,  -21,  -18,  -11,   42],\n",
       "          [  42,  -25,  -71,  -69,   42],\n",
       "          [  42,  -83,  -77,  -72,   42],\n",
       "          [  42,   42,   42,   42,   42]]],\n",
       "\n",
       "\n",
       "        [[[  42,   42,   42,   42,   42],\n",
       "          [  42,  104,  106,  127,   42],\n",
       "          [  42,   44,   93,  101,   42],\n",
       "          [  42, -123,  -66,  -66,   42],\n",
       "          [  42,   42,   42,   42,   42]]],\n",
       "\n",
       "\n",
       "        [[[  42,   42,   42,   42,   42],\n",
       "          [  42,  118,   38,   30,   42],\n",
       "          [  42,   82,   18,  -18,   42],\n",
       "          [  42,   25,  -63,  -72,   42],\n",
       "          [  42,   42,   42,   42,   42]]],\n",
       "\n",
       "\n",
       "        [[[  42,   42,   42,   42,   42],\n",
       "          [  42,   25,   69,  -53,   42],\n",
       "          [  42,   -8,  115,   63,   42],\n",
       "          [  42,  -30,   89,   61,   42],\n",
       "          [  42,   42,   42,   42,   42]]],\n",
       "\n",
       "\n",
       "        [[[  42,   42,   42,   42,   42],\n",
       "          [  42,  -61, -127,  -92,   42],\n",
       "          [  42,  -75,  -59,  -15,   42],\n",
       "          [  42,   36,  117,   79,   42],\n",
       "          [  42,   42,   42,   42,   42]]]], dtype=torch.int8)"
      ]
     },
     "execution_count": 19,
     "metadata": {},
     "output_type": "execute_result"
    }
   ],
   "source": [
    "w_train, b = adapter.get_train_weights(\"conv1\"), adapter.get_bias(\"conv1\")\n",
    "w, b = adapter.get_weights(\"conv1\"), adapter.get_bias(\"conv1\")\n",
    "\n",
    "plan = CGPPinPlanner()\n",
    "plan.add_mapping(conv2d_selector(\"conv1\", [slice(None), 0], 5, 3))\n",
    "plan.finish_mapping()\n",
    "\n",
    "x = torch.zeros(16 * 6)\n",
    "for combinational_plans in plan.get_plan():\n",
    "    offset = 0\n",
    "    for p in combinational_plans:\n",
    "        for w, size, sel in tensor_iterator(w_train, p.out):\n",
    "            x[offset:offset+size] = 42\n",
    "            offset+=size\n",
    "\n",
    "x = adapter.inject_weights([x], plan.get_plan())\n",
    "x.get_train_weights(\"conv1\")"
   ]
  },
  {
   "cell_type": "code",
   "execution_count": 6,
   "metadata": {},
   "outputs": [
    {
     "data": {
      "text/plain": [
       "tensor([[[[  26,  -61,  -64,  -60,   22],\n",
       "          [ -25,  -42,  -36,   64,  102],\n",
       "          [  -5,   19,   67,  127,   32],\n",
       "          [  32,   60,   54,   16,  -62],\n",
       "          [  -9,  -12,  -32,  -96,  -76]]],\n",
       "\n",
       "\n",
       "        [[[  60,   87,   24,   -3,  -23],\n",
       "          [  32,  -21,  -18,  -11,  -53],\n",
       "          [ -31,  -25,  -71,  -69, -127],\n",
       "          [ -26,  -83,  -77,  -72,  -92],\n",
       "          [ -35,  -32,  -39,  -32,   25]]],\n",
       "\n",
       "\n",
       "        [[[  75,   70,  -21,  -56,  -37],\n",
       "          [   7,  104,  106,  127,   51],\n",
       "          [ -44,   44,   93,  101,  101],\n",
       "          [ -88, -123,  -66,  -66,   25],\n",
       "          [ -34,  -77, -124, -112,  -33]]],\n",
       "\n",
       "\n",
       "        [[[  28,   11,   58,    6,  -44],\n",
       "          [  21,  118,   38,   30,   -4],\n",
       "          [ 127,   82,   18,  -18,  -81],\n",
       "          [ 118,   25,  -63,  -72,  -57],\n",
       "          [  66,  -11,  -91,  -79,  -61]]],\n",
       "\n",
       "\n",
       "        [[[   5,   65,   -3,  -27,  -90],\n",
       "          [   4,   25,   69,  -53, -127],\n",
       "          [ -17,   -8,  115,   63,   16],\n",
       "          [ -22,  -30,   89,   61,   -7],\n",
       "          [  -8,  -28,  -16,   23,  -12]]],\n",
       "\n",
       "\n",
       "        [[[ -76,  -56,  -43,  -54,  -55],\n",
       "          [ -13,  -61, -127,  -92,  -44],\n",
       "          [ -47,  -75,  -59,  -15,  -49],\n",
       "          [  82,   36,  117,   79,   76],\n",
       "          [ 103,  103,   90,   79,   51]]]], dtype=torch.int8)"
      ]
     },
     "execution_count": 6,
     "metadata": {},
     "output_type": "execute_result"
    }
   ],
   "source": [
    "adapter.get_train_weights(\"conv1\")"
   ]
  }
 ],
 "metadata": {
  "kernelspec": {
   "display_name": "masters",
   "language": "python",
   "name": "python3"
  },
  "language_info": {
   "codemirror_mode": {
    "name": "ipython",
    "version": 3
   },
   "file_extension": ".py",
   "mimetype": "text/x-python",
   "name": "python",
   "nbconvert_exporter": "python",
   "pygments_lexer": "ipython3",
   "version": "3.11.5"
  }
 },
 "nbformat": 4,
 "nbformat_minor": 2
}
